{
 "cells": [
  {
   "cell_type": "code",
   "execution_count": 1,
   "metadata": {},
   "outputs": [],
   "source": [
    "import os\n",
    "import sys\n",
    "\n",
    "os.environ['PYSPARK_PYTHON'] = sys.executable\n",
    "os.environ['PYSPARK_DRIVER_PYTHON'] = sys.executable\n",
    "\n",
    "import findspark\n",
    "findspark.init()\n",
    "findspark.find()\n",
    "import pyspark\n",
    "\n",
    "from pyspark.sql import SparkSession\n",
    "from pyspark import SparkContext, SparkConf\n",
    "from pyspark.sql import SQLContext\n",
    "\n",
    "conf = pyspark.SparkConf().setAppName('appName').setMaster('local')\n",
    "sc = pyspark.SparkContext(conf=conf)\n",
    "spark = SparkSession(sc)\n",
    "sqlcontext=SQLContext(sc)"
   ]
  },
  {
   "cell_type": "code",
   "execution_count": 20,
   "metadata": {},
   "outputs": [
    {
     "name": "stdout",
     "output_type": "stream",
     "text": [
      "+-------+----+----------+------+------------+\n",
      "|   Name| Age|Experience|Salary|  Department|\n",
      "+-------+----+----------+------+------------+\n",
      "|    Bob|  24|         3|  2500|          HR|\n",
      "|  erwin|  28|         5|  5000|Data Analyst|\n",
      "|rebecca|  29|         2|  3000|    Networks|\n",
      "|   john|  35|        10|  7000|Web Analysis|\n",
      "|michael|  22|         1|  2000|Web Analysis|\n",
      "|    Dan|  24|         2| 10000|Data Analyst|\n",
      "| mahesg|  27|         6|  6000|          HR|\n",
      "|  aslam|  39|        12|  null|    Networks|\n",
      "|  randy|null|         4|  null|    Networks|\n",
      "|  clive|  28|         5|  8000|Data Analyst|\n",
      "|   brad|  33|         8| 13000|        null|\n",
      "|   eric|  23|         2|  5000|        null|\n",
      "|   null|null|      null|  null|        null|\n",
      "+-------+----+----------+------+------------+\n",
      "\n"
     ]
    }
   ],
   "source": [
    "df=spark.read.csv(\"sampledata.csv\",header=True,inferSchema=True)\n",
    "df.show()"
   ]
  },
  {
   "cell_type": "code",
   "execution_count": 21,
   "metadata": {},
   "outputs": [
    {
     "name": "stdout",
     "output_type": "stream",
     "text": [
      "+-------+----+----------+------+\n",
      "|   Name| Age|Experience|Salary|\n",
      "+-------+----+----------+------+\n",
      "|    Bob|  24|         3|  2500|\n",
      "|  erwin|  28|         5|  5000|\n",
      "|rebecca|  29|         2|  3000|\n",
      "|   john|  35|        10|  7000|\n",
      "|michael|  22|         1|  2000|\n",
      "|    Dan|  24|         2| 10000|\n",
      "| mahesg|  27|         6|  6000|\n",
      "|  aslam|  39|        12|  null|\n",
      "|  randy|null|         4|  null|\n",
      "|  clive|  28|         5|  8000|\n",
      "|   brad|  33|         8| 13000|\n",
      "|   eric|  23|         2|  5000|\n",
      "|   null|null|      null|  null|\n",
      "+-------+----+----------+------+\n",
      "\n"
     ]
    }
   ],
   "source": [
    "#dropping a column \n",
    "df.drop(\"Department\").show()"
   ]
  },
  {
   "cell_type": "code",
   "execution_count": 22,
   "metadata": {},
   "outputs": [
    {
     "name": "stdout",
     "output_type": "stream",
     "text": [
      "+-------+----+----------+------+------------+\n",
      "|   Name| Age|Experience|Salary|  Department|\n",
      "+-------+----+----------+------+------------+\n",
      "|    Bob|  24|         3|  2500|          HR|\n",
      "|  erwin|  28|         5|  5000|Data Analyst|\n",
      "|rebecca|  29|         2|  3000|    Networks|\n",
      "|   john|  35|        10|  7000|Web Analysis|\n",
      "|michael|  22|         1|  2000|Web Analysis|\n",
      "|    Dan|  24|         2| 10000|Data Analyst|\n",
      "| mahesg|  27|         6|  6000|          HR|\n",
      "|  aslam|  39|        12|  null|    Networks|\n",
      "|  randy|null|         4|  null|    Networks|\n",
      "|  clive|  28|         5|  8000|Data Analyst|\n",
      "|   brad|  33|         8| 13000|        null|\n",
      "|   eric|  23|         2|  5000|        null|\n",
      "|   null|null|      null|  null|        null|\n",
      "+-------+----+----------+------+------------+\n",
      "\n"
     ]
    }
   ],
   "source": [
    "df.show()"
   ]
  },
  {
   "cell_type": "code",
   "execution_count": 23,
   "metadata": {},
   "outputs": [
    {
     "name": "stdout",
     "output_type": "stream",
     "text": [
      "+-------+---+----------+------+------------+\n",
      "|   Name|Age|Experience|Salary|  Department|\n",
      "+-------+---+----------+------+------------+\n",
      "|    Bob| 24|         3|  2500|          HR|\n",
      "|  erwin| 28|         5|  5000|Data Analyst|\n",
      "|rebecca| 29|         2|  3000|    Networks|\n",
      "|   john| 35|        10|  7000|Web Analysis|\n",
      "|michael| 22|         1|  2000|Web Analysis|\n",
      "|    Dan| 24|         2| 10000|Data Analyst|\n",
      "| mahesg| 27|         6|  6000|          HR|\n",
      "|  clive| 28|         5|  8000|Data Analyst|\n",
      "+-------+---+----------+------+------------+\n",
      "\n"
     ]
    }
   ],
   "source": [
    "#dropping \"any\" rows with null value/ drops all those rows having a null value\n",
    "df.na.drop(\"any\").show()"
   ]
  },
  {
   "cell_type": "code",
   "execution_count": 24,
   "metadata": {},
   "outputs": [
    {
     "name": "stdout",
     "output_type": "stream",
     "text": [
      "+-------+----+----------+------+------------+\n",
      "|   Name| Age|Experience|Salary|  Department|\n",
      "+-------+----+----------+------+------------+\n",
      "|    Bob|  24|         3|  2500|          HR|\n",
      "|  erwin|  28|         5|  5000|Data Analyst|\n",
      "|rebecca|  29|         2|  3000|    Networks|\n",
      "|   john|  35|        10|  7000|Web Analysis|\n",
      "|michael|  22|         1|  2000|Web Analysis|\n",
      "|    Dan|  24|         2| 10000|Data Analyst|\n",
      "| mahesg|  27|         6|  6000|          HR|\n",
      "|  aslam|  39|        12|  null|    Networks|\n",
      "|  randy|null|         4|  null|    Networks|\n",
      "|  clive|  28|         5|  8000|Data Analyst|\n",
      "|   brad|  33|         8| 13000|        null|\n",
      "|   eric|  23|         2|  5000|        null|\n",
      "|   null|null|      null|  null|        null|\n",
      "+-------+----+----------+------+------------+\n",
      "\n"
     ]
    }
   ],
   "source": [
    "df.show()"
   ]
  },
  {
   "cell_type": "code",
   "execution_count": 27,
   "metadata": {},
   "outputs": [
    {
     "name": "stdout",
     "output_type": "stream",
     "text": [
      "+-------+----+----------+------+------------+\n",
      "|   Name| Age|Experience|Salary|  Department|\n",
      "+-------+----+----------+------+------------+\n",
      "|    Bob|  24|         3|  2500|          HR|\n",
      "|  erwin|  28|         5|  5000|Data Analyst|\n",
      "|rebecca|  29|         2|  3000|    Networks|\n",
      "|   john|  35|        10|  7000|Web Analysis|\n",
      "|michael|  22|         1|  2000|Web Analysis|\n",
      "|    Dan|  24|         2| 10000|Data Analyst|\n",
      "| mahesg|  27|         6|  6000|          HR|\n",
      "|  aslam|  39|        12|  null|    Networks|\n",
      "|  randy|null|         4|  null|    Networks|\n",
      "|  clive|  28|         5|  8000|Data Analyst|\n",
      "|   brad|  33|         8| 13000|        null|\n",
      "|   eric|  23|         2|  5000|        null|\n",
      "+-------+----+----------+------+------------+\n",
      "\n"
     ]
    }
   ],
   "source": [
    "#Dropping only those rows with all null values\n",
    "df.na.drop(\"all\").show()"
   ]
  },
  {
   "cell_type": "code",
   "execution_count": 29,
   "metadata": {},
   "outputs": [
    {
     "name": "stdout",
     "output_type": "stream",
     "text": [
      "+-------+---+----------+------+------------+\n",
      "|   Name|Age|Experience|Salary|  Department|\n",
      "+-------+---+----------+------+------------+\n",
      "|    Bob| 24|         3|  2500|          HR|\n",
      "|  erwin| 28|         5|  5000|Data Analyst|\n",
      "|rebecca| 29|         2|  3000|    Networks|\n",
      "|   john| 35|        10|  7000|Web Analysis|\n",
      "|michael| 22|         1|  2000|Web Analysis|\n",
      "|    Dan| 24|         2| 10000|Data Analyst|\n",
      "| mahesg| 27|         6|  6000|          HR|\n",
      "|  aslam| 39|        12|  null|    Networks|\n",
      "|  clive| 28|         5|  8000|Data Analyst|\n",
      "+-------+---+----------+------+------------+\n",
      "\n"
     ]
    }
   ],
   "source": [
    "# dropping rows based on null values in a specific column\n",
    "df.na.drop(subset=[\"Department\",\"Age\"]).show()"
   ]
  },
  {
   "cell_type": "code",
   "execution_count": 49,
   "metadata": {},
   "outputs": [
    {
     "name": "stdout",
     "output_type": "stream",
     "text": [
      "+-------+----+----------+------+------------+\n",
      "|   Name| Age|Experience|Salary|  Department|\n",
      "+-------+----+----------+------+------------+\n",
      "|    Bob|  24|         3|  2500|          HR|\n",
      "|  erwin|  28|         5|  5000|Data Analyst|\n",
      "|rebecca|  29|         2|  3000|    Networks|\n",
      "|   john|  35|        10|  7000|Web Analysis|\n",
      "|michael|  22|         1|  2000|Web Analysis|\n",
      "|    Dan|  24|         2| 10000|Data Analyst|\n",
      "| mahesg|  27|         6|  6000|          HR|\n",
      "|  aslam|  39|        12|  null|    Networks|\n",
      "|  randy|null|         4|  null|    Networks|\n",
      "|  clive|  28|         5|  8000|Data Analyst|\n",
      "|   brad|  33|         8| 13000|        null|\n",
      "|   eric|  23|         2|  5000|        null|\n",
      "|   null|null|      null|  null|        null|\n",
      "+-------+----+----------+------+------------+\n",
      "\n"
     ]
    }
   ],
   "source": [
    "df.show()"
   ]
  },
  {
   "cell_type": "code",
   "execution_count": 51,
   "metadata": {},
   "outputs": [
    {
     "name": "stdout",
     "output_type": "stream",
     "text": [
      "+-------+---+----------+------+------------+\n",
      "|   Name|Age|Experience|Salary|  Department|\n",
      "+-------+---+----------+------+------------+\n",
      "|    Bob| 24|         3|  2500|          HR|\n",
      "|  erwin| 28|         5|  5000|Data Analyst|\n",
      "|rebecca| 29|         2|  3000|    Networks|\n",
      "|   john| 35|        10|  7000|Web Analysis|\n",
      "|michael| 22|         1|  2000|Web Analysis|\n",
      "|    Dan| 24|         2| 10000|Data Analyst|\n",
      "| mahesg| 27|         6|  6000|          HR|\n",
      "|  aslam| 39|        12|   500|    Networks|\n",
      "|  randy|  0|         4|   500|    Networks|\n",
      "|  clive| 28|         5|  8000|Data Analyst|\n",
      "|   brad| 33|         8| 13000|      intern|\n",
      "|   eric| 23|         2|  5000|      intern|\n",
      "|unknown|  0|         0|   500|      intern|\n",
      "+-------+---+----------+------+------------+\n",
      "\n"
     ]
    }
   ],
   "source": [
    "df.na.fill({\"Name\":\"unknown\",\"Age\":0,\"Experience\":0,\"Salary\":500,\"Department\":\"intern\"}).show()"
   ]
  },
  {
   "cell_type": "code",
   "execution_count": 52,
   "metadata": {},
   "outputs": [
    {
     "name": "stdout",
     "output_type": "stream",
     "text": [
      "+-----------+---------------+-----------------+------+------------+-------------+----------------+-------------------+----------+\n",
      "|School_Year|Busbreakdown_ID|         Run_Type|Bus_No|Route_Number|       Reason|Schools_Serviced|        Occurred_On|      Town|\n",
      "+-----------+---------------+-----------------+------+------------+-------------+----------------+-------------------+----------+\n",
      "|  2015-2016|        1227538|Special Ed AM Run|  2621|        J711|Heavy Traffic|           75003|2015-11-05 08:10:00|New Jersey|\n",
      "|  2015-2016|        1227539|Special Ed AM Run|  1260|        M351|Heavy Traffic|            6716|2015-11-05 08:10:00| Manhattan|\n",
      "|  2015-2016|        1227540|         Pre-K/EI|   418|           3|Heavy Traffic|            C445|2015-11-05 08:09:00|     Bronx|\n",
      "|  2015-2016|        1227541|Special Ed AM Run|  4522|        M271|Heavy Traffic|            2699|2015-11-05 08:12:00| Manhattan|\n",
      "|  2015-2016|        1227542|Special Ed AM Run|  3124|        M373|Heavy Traffic|            2116|2015-11-05 08:13:00| Manhattan|\n",
      "+-----------+---------------+-----------------+------+------------+-------------+----------------+-------------------+----------+\n",
      "only showing top 5 rows\n",
      "\n"
     ]
    }
   ],
   "source": [
    "busDf=spark.read.csv(\"bus-breakdown-and-delays.csv\",header=True,inferSchema=True)\n",
    "busDf.show(5)"
   ]
  },
  {
   "cell_type": "code",
   "execution_count": 55,
   "metadata": {},
   "outputs": [
    {
     "name": "stdout",
     "output_type": "stream",
     "text": [
      "+-----------+---------------+-----------------+------+------------+----------------+-------------------+----------+\n",
      "|School_Year|Busbreakdown_ID|         Run_Type|Bus_No|Route_Number|Schools_Serviced|        Occurred_On|      Town|\n",
      "+-----------+---------------+-----------------+------+------------+----------------+-------------------+----------+\n",
      "|  2015-2016|        1227538|Special Ed AM Run|  2621|        J711|           75003|2015-11-05 08:10:00|New Jersey|\n",
      "|  2015-2016|        1227539|Special Ed AM Run|  1260|        M351|            6716|2015-11-05 08:10:00| Manhattan|\n",
      "|  2015-2016|        1227540|         Pre-K/EI|   418|           3|            C445|2015-11-05 08:09:00|     Bronx|\n",
      "|  2015-2016|        1227541|Special Ed AM Run|  4522|        M271|            2699|2015-11-05 08:12:00| Manhattan|\n",
      "|  2015-2016|        1227542|Special Ed AM Run|  3124|        M373|            2116|2015-11-05 08:13:00| Manhattan|\n",
      "+-----------+---------------+-----------------+------+------------+----------------+-------------------+----------+\n",
      "only showing top 5 rows\n",
      "\n"
     ]
    }
   ],
   "source": [
    "busDf=busDf.drop(\"Reason\")\n",
    "busDf.show(5)"
   ]
  },
  {
   "cell_type": "code",
   "execution_count": 57,
   "metadata": {},
   "outputs": [],
   "source": [
    "#Question 1\n",
    "busDf=busDf.na.fill(\"Other\",subset=[\"Town\"])"
   ]
  },
  {
   "cell_type": "code",
   "execution_count": 58,
   "metadata": {},
   "outputs": [],
   "source": [
    "#Question 2\n",
    "busDf=busDf.na.drop(\"any\",subset=[\"Occurred_On\"])"
   ]
  },
  {
   "cell_type": "code",
   "execution_count": 59,
   "metadata": {},
   "outputs": [],
   "source": [
    "#Question 3\n",
    "busDf=busDf.na.fill(0,subset=[\"Route_Number\"])"
   ]
  },
  {
   "cell_type": "code",
   "execution_count": 61,
   "metadata": {},
   "outputs": [
    {
     "data": {
      "text/plain": [
       "['School_Year',\n",
       " 'Busbreakdown_ID',\n",
       " 'Run_Type',\n",
       " 'Bus_No',\n",
       " 'Route_Number',\n",
       " 'Schools_Serviced',\n",
       " 'Occurred_On',\n",
       " 'Town']"
      ]
     },
     "execution_count": 61,
     "metadata": {},
     "output_type": "execute_result"
    }
   ],
   "source": [
    "busDf.columns"
   ]
  },
  {
   "cell_type": "code",
   "execution_count": 62,
   "metadata": {},
   "outputs": [
    {
     "data": {
      "text/plain": [
       "379412"
      ]
     },
     "execution_count": 62,
     "metadata": {},
     "output_type": "execute_result"
    }
   ],
   "source": [
    "#Question 4\n",
    "busDf.select(\"Busbreakdown_ID\").count()"
   ]
  },
  {
   "cell_type": "code",
   "execution_count": 63,
   "metadata": {},
   "outputs": [
    {
     "name": "stdout",
     "output_type": "stream",
     "text": [
      "+---------------+----------------------+\n",
      "|           Town|count(Busbreakdown_ID)|\n",
      "+---------------+----------------------+\n",
      "|         Queens|                 52072|\n",
      "|  Nassau County|                  8267|\n",
      "|    Connecticut|                   237|\n",
      "|          Other|                 11095|\n",
      "|       Brooklyn|                 85909|\n",
      "|   All Boroughs|                   634|\n",
      "|  Staten Island|                 16169|\n",
      "|    Westchester|                  8448|\n",
      "|     New Jersey|                  1979|\n",
      "|Rockland County|                   973|\n",
      "|      Manhattan|                 99473|\n",
      "|          Bronx|                 94156|\n",
      "+---------------+----------------------+\n",
      "\n"
     ]
    }
   ],
   "source": [
    "busDf.groupBy(\"Town\").agg({\"Busbreakdown_ID\":\"count\"}).show()"
   ]
  },
  {
   "cell_type": "code",
   "execution_count": 65,
   "metadata": {},
   "outputs": [
    {
     "name": "stdout",
     "output_type": "stream",
     "text": [
      "+------------+----------------------+\n",
      "|Route_Number|count(Busbreakdown_ID)|\n",
      "+------------+----------------------+\n",
      "|        M576|                    54|\n",
      "|        Q357|                    21|\n",
      "|        Q346|                    18|\n",
      "|        M238|                    74|\n",
      "|        K246|                   133|\n",
      "|        X291|                    29|\n",
      "|        W901|                    23|\n",
      "|        W933|                    33|\n",
      "|        L010|                    39|\n",
      "|        P551|                    12|\n",
      "|        P110|                   174|\n",
      "|        Q076|                   117|\n",
      "|        Q373|                    31|\n",
      "|        P562|                    46|\n",
      "|        Y730|                    40|\n",
      "|       R1090|                    29|\n",
      "|       R1318|                    15|\n",
      "|        P287|                    43|\n",
      "|        J689|                    31|\n",
      "|       X2001|                    48|\n",
      "+------------+----------------------+\n",
      "only showing top 20 rows\n",
      "\n"
     ]
    }
   ],
   "source": [
    "busDf.groupBy(\"Route_Number\").agg({\"Busbreakdown_ID\":\"count\"}).show()"
   ]
  },
  {
   "cell_type": "code",
   "execution_count": 68,
   "metadata": {},
   "outputs": [
    {
     "name": "stdout",
     "output_type": "stream",
     "text": [
      "+------------+-----------+----------------------+\n",
      "|        Town|School_Year|count(Busbreakdown_ID)|\n",
      "+------------+-----------+----------------------+\n",
      "|All Boroughs|  2017-2018|                    60|\n",
      "|All Boroughs|  2018-2019|                   174|\n",
      "|All Boroughs|  2016-2017|                    88|\n",
      "|All Boroughs|  2015-2016|                   183|\n",
      "|All Boroughs|  2019-2020|                   129|\n",
      "|       Bronx|  2019-2020|                 10445|\n",
      "|       Bronx|  2018-2019|                 24124|\n",
      "|       Bronx|  2015-2016|                 16292|\n",
      "|       Bronx|  2016-2017|                 22351|\n",
      "|       Bronx|  2017-2018|                 20944|\n",
      "|    Brooklyn|  2015-2016|                 15249|\n",
      "|    Brooklyn|  2016-2017|                 18952|\n",
      "|    Brooklyn|  2018-2019|                 21679|\n",
      "|    Brooklyn|  2019-2020|                 11065|\n",
      "|    Brooklyn|  2017-2018|                 18964|\n",
      "| Connecticut|  2015-2016|                    26|\n",
      "| Connecticut|  2017-2018|                    66|\n",
      "| Connecticut|  2018-2019|                    57|\n",
      "| Connecticut|  2016-2017|                    72|\n",
      "| Connecticut|  2019-2020|                    16|\n",
      "+------------+-----------+----------------------+\n",
      "only showing top 20 rows\n",
      "\n"
     ]
    }
   ],
   "source": [
    "busDf.groupBy(\"Town\",\"School_Year\").agg({\"Busbreakdown_ID\":\"count\"}).sort(\"Town\").show()"
   ]
  },
  {
   "cell_type": "code",
   "execution_count": 70,
   "metadata": {},
   "outputs": [
    {
     "name": "stdout",
     "output_type": "stream",
     "text": [
      "+------------+-----------+----------------------+\n",
      "|Route_Number|School_Year|count(Busbreakdown_ID)|\n",
      "+------------+-----------+----------------------+\n",
      "|        null|  2017-2018|                     7|\n",
      "|          #2|  2019-2020|                     3|\n",
      "|          #3|  2019-2020|                     2|\n",
      "|           0|  2015-2016|                     1|\n",
      "|           0|  2018-2019|                     1|\n",
      "|       0101A|  2018-2019|                     6|\n",
      "|       0101A|  2017-2018|                    20|\n",
      "|       0101A|  2016-2017|                    10|\n",
      "|       0101C|  2015-2016|                     1|\n",
      "|       0102A|  2015-2016|                     9|\n",
      "|       0102A|  2018-2019|                     1|\n",
      "|       0102A|  2019-2020|                     1|\n",
      "|       0102A|  2017-2018|                    15|\n",
      "|       0102C|  2015-2016|                     1|\n",
      "|       0103A|  2016-2017|                     8|\n",
      "|       0103A|  2015-2016|                     2|\n",
      "|       0103A|  2017-2018|                     2|\n",
      "|       0103A|  2018-2019|                     1|\n",
      "|       0103C|  2015-2016|                     1|\n",
      "|       0104A|  2015-2016|                     1|\n",
      "+------------+-----------+----------------------+\n",
      "only showing top 20 rows\n",
      "\n"
     ]
    }
   ],
   "source": [
    "busDf.groupBy(\"Route_Number\",\"School_Year\").agg({\"Busbreakdown_ID\":\"count\"}).sort(\"Route_Number\").show()"
   ]
  },
  {
   "cell_type": "code",
   "execution_count": 71,
   "metadata": {},
   "outputs": [
    {
     "data": {
      "text/plain": [
       "['School_Year',\n",
       " 'Busbreakdown_ID',\n",
       " 'Run_Type',\n",
       " 'Bus_No',\n",
       " 'Route_Number',\n",
       " 'Schools_Serviced',\n",
       " 'Occurred_On',\n",
       " 'Town']"
      ]
     },
     "execution_count": 71,
     "metadata": {},
     "output_type": "execute_result"
    }
   ],
   "source": [
    "busDf.columns"
   ]
  },
  {
   "cell_type": "code",
   "execution_count": 75,
   "metadata": {},
   "outputs": [
    {
     "name": "stdout",
     "output_type": "stream",
     "text": [
      "+-----------+---------+----------------------+\n",
      "|School_Year|     Town|count(Busbreakdown_ID)|\n",
      "+-----------+---------+----------------------+\n",
      "|  2015-2016|Manhattan|                 11339|\n",
      "|  2016-2017|Manhattan|                 16183|\n",
      "|  2017-2018|Manhattan|                 23931|\n",
      "|  2018-2019|Manhattan|                 34726|\n",
      "|  2019-2020|Manhattan|                 13294|\n",
      "+-----------+---------+----------------------+\n",
      "\n"
     ]
    }
   ],
   "source": [
    "busDf.filter(busDf[\"Town\"]==\"Manhattan\").groupBy(\"School_Year\",\"Town\")\\\n",
    ".agg({\"Busbreakdown_ID\":\"count\"}).sort(\"School_Year\").show()"
   ]
  },
  {
   "cell_type": "code",
   "execution_count": null,
   "metadata": {},
   "outputs": [],
   "source": []
  }
 ],
 "metadata": {
  "kernelspec": {
   "display_name": "Python 3",
   "language": "python",
   "name": "python3"
  },
  "language_info": {
   "codemirror_mode": {
    "name": "ipython",
    "version": 3
   },
   "file_extension": ".py",
   "mimetype": "text/x-python",
   "name": "python",
   "nbconvert_exporter": "python",
   "pygments_lexer": "ipython3",
   "version": "3.7.4"
  }
 },
 "nbformat": 4,
 "nbformat_minor": 2
}
