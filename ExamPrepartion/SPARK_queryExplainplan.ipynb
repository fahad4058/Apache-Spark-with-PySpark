{
 "cells": [
  {
   "cell_type": "code",
   "execution_count": 30,
   "metadata": {},
   "outputs": [],
   "source": [
    "import os\n",
    "import sys\n",
    "\n",
    "os.environ['PYSPARK_PYTHON'] = sys.executable\n",
    "os.environ['PYSPARK_DRIVER_PYTHON'] = sys.executable\n",
    "\n",
    "import findspark\n",
    "findspark.init()\n",
    "findspark.find()\n",
    "import pyspark\n",
    "\n",
    "from pyspark.sql import SparkSession\n",
    "from pyspark import SparkContext, SparkConf\n",
    "from pyspark.sql import SQLContext\n",
    "\n",
    "conf = pyspark.SparkConf().setAppName('appName').setMaster('local')\n",
    "sc = pyspark.SparkContext(conf=conf)\n",
    "spark = SparkSession(sc)\n",
    "#sqlcontext=SQLContext(sc)"
   ]
  },
  {
   "cell_type": "code",
   "execution_count": 31,
   "metadata": {},
   "outputs": [],
   "source": [
    "poll=spark.createDataFrame([(1,\"pollingtilte\",\"2020\",\"2021\",\"pti\",\"people\")]).\\\n",
    "toDF(\"poll_id\",\"title\",\"startDate\",\"endDate\",\"organizer\",\"participants\")"
   ]
  },
  {
   "cell_type": "code",
   "execution_count": 32,
   "metadata": {},
   "outputs": [],
   "source": [
    "question=spark.createDataFrame([(0,\"questiontitle\",\"Single Choice\",1)]).\\\n",
    "toDF(\"question_id\",\"title\",\"type\",\"poll\")"
   ]
  },
  {
   "cell_type": "code",
   "execution_count": 33,
   "metadata": {},
   "outputs": [],
   "source": [
    "organizer=spark.createDataFrame([(1,\"gmail.com\",\"robert\",\"bing\",\"01234\")]).\\\n",
    "toDF(\"organizer_id\",\"email\",\"firstname\",\"lastname\",\"phone\")"
   ]
  },
  {
   "cell_type": "code",
   "execution_count": 36,
   "metadata": {},
   "outputs": [],
   "source": []
  },
  {
   "cell_type": "code",
   "execution_count": 50,
   "metadata": {},
   "outputs": [
    {
     "name": "stdout",
     "output_type": "stream",
     "text": [
      "== Physical Plan ==\n",
      "SortMergeJoin [cast(organizer#750 as bigint)], [organizer_id#784L], LeftAnti\n",
      ":- *(5) Sort [cast(organizer#750 as bigint) ASC NULLS FIRST], false, 0\n",
      ":  +- Exchange hashpartitioning(cast(organizer#750 as bigint), 200), ENSURE_REQUIREMENTS, [id=#1335]\n",
      ":     +- SortMergeJoin [poll#769L], [poll_id#746L], FullOuter\n",
      ":        :- *(2) Sort [poll#769L ASC NULLS FIRST], false, 0\n",
      ":        :  +- Exchange hashpartitioning(poll#769L, 200), ENSURE_REQUIREMENTS, [id=#1325]\n",
      ":        :     +- *(1) Project [_1#758L AS question_id#766L, _2#759 AS title#767, _3#760 AS type#768, _4#761L AS poll#769L]\n",
      ":        :        +- *(1) Filter (isnotnull(_3#760) AND (_3#760 = Single Choice))\n",
      ":        :           +- *(1) Scan ExistingRDD[_1#758L,_2#759,_3#760,_4#761L]\n",
      ":        +- *(4) Sort [poll_id#746L ASC NULLS FIRST], false, 0\n",
      ":           +- Exchange hashpartitioning(poll_id#746L, 200), ENSURE_REQUIREMENTS, [id=#1330]\n",
      ":              +- *(3) Project [_1#734L AS poll_id#746L, _2#735 AS title#747, _3#736 AS startDate#748, _4#737 AS endDate#749, _5#738 AS organizer#750, _6#739 AS participants#751]\n",
      ":                 +- *(3) Scan ExistingRDD[_1#734L,_2#735,_3#736,_4#737,_5#738,_6#739]\n",
      "+- *(7) Sort [organizer_id#784L ASC NULLS FIRST], false, 0\n",
      "   +- Exchange hashpartitioning(organizer_id#784L, 200), ENSURE_REQUIREMENTS, [id=#1340]\n",
      "      +- *(6) Project [_1#774L AS organizer_id#784L]\n",
      "         +- *(6) Filter isnotnull(_1#774L)\n",
      "            +- *(6) Scan ExistingRDD[_1#774L,_2#775,_3#776,_4#777,_5#778]\n",
      "\n",
      "\n"
     ]
    }
   ],
   "source": [
    "question.select(\"question_id\",\"title\",\"type\",\"poll\").filter(question[\"type\"]==\"Single Choice\").join(poll,question.poll==poll.poll_id,\"outer\")\\\n",
    ".join(organizer,organizer[\"organizer_id\"]==poll[\"organizer\"],\"left_anti\").explain()"
   ]
  },
  {
   "cell_type": "code",
   "execution_count": null,
   "metadata": {},
   "outputs": [],
   "source": []
  }
 ],
 "metadata": {
  "kernelspec": {
   "display_name": "Python 3",
   "language": "python",
   "name": "python3"
  },
  "language_info": {
   "codemirror_mode": {
    "name": "ipython",
    "version": 3
   },
   "file_extension": ".py",
   "mimetype": "text/x-python",
   "name": "python",
   "nbconvert_exporter": "python",
   "pygments_lexer": "ipython3",
   "version": "3.7.4"
  }
 },
 "nbformat": 4,
 "nbformat_minor": 2
}
