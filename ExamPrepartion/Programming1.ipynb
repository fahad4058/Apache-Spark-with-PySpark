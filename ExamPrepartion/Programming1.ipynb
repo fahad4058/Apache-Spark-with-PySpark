{
 "cells": [
  {
   "cell_type": "code",
   "execution_count": 1,
   "metadata": {},
   "outputs": [],
   "source": [
    "import os\n",
    "import sys\n",
    "\n",
    "os.environ['PYSPARK_PYTHON'] = sys.executable\n",
    "os.environ['PYSPARK_DRIVER_PYTHON'] = sys.executable\n",
    "\n",
    "import findspark\n",
    "findspark.init()\n",
    "findspark.find()\n",
    "import pyspark\n",
    "\n",
    "from pyspark.sql import SparkSession\n",
    "from pyspark import SparkContext, SparkConf\n",
    "from pyspark.sql import SQLContext\n",
    "\n",
    "conf = pyspark.SparkConf().setAppName('appName').setMaster('local')\n",
    "sc = pyspark.SparkContext(conf=conf)\n",
    "spark = SparkSession(sc)\n",
    "sqlcontext=SQLContext(sc)"
   ]
  },
  {
   "cell_type": "code",
   "execution_count": 3,
   "metadata": {},
   "outputs": [
    {
     "data": {
      "text/plain": [
       "['age',\n",
       " 'workclass',\n",
       " 'fnlwgt',\n",
       " 'education',\n",
       " 'educational-num',\n",
       " 'marital-status',\n",
       " 'occupation',\n",
       " 'relationship',\n",
       " 'race',\n",
       " 'gender',\n",
       " 'capital-gain',\n",
       " 'capital-loss',\n",
       " 'hours-per-week',\n",
       " 'native-country',\n",
       " 'income']"
      ]
     },
     "execution_count": 3,
     "metadata": {},
     "output_type": "execute_result"
    }
   ],
   "source": [
    "adultDf=spark.read.csv(\"adult.csv\",header=True,inferSchema=True)\n",
    "adultDf.columns"
   ]
  },
  {
   "cell_type": "code",
   "execution_count": 5,
   "metadata": {},
   "outputs": [],
   "source": [
    "adultDf=adultDf.select(\"workclass\",\"fnlwgt\",\"educational-num\",\"capital-gain\",\"hours-per-week\")"
   ]
  },
  {
   "cell_type": "code",
   "execution_count": 6,
   "metadata": {},
   "outputs": [
    {
     "name": "stdout",
     "output_type": "stream",
     "text": [
      "+----------------+------+---------------+------------+--------------+\n",
      "|       workclass|fnlwgt|educational-num|capital-gain|hours-per-week|\n",
      "+----------------+------+---------------+------------+--------------+\n",
      "|         Private|226802|              7|           0|            40|\n",
      "|         Private| 89814|              9|           0|            50|\n",
      "|       Local-gov|336951|             12|           0|            40|\n",
      "|         Private|160323|             10|        7688|            40|\n",
      "|               ?|103497|             10|           0|            30|\n",
      "|         Private|198693|              6|           0|            30|\n",
      "|               ?|227026|              9|           0|            40|\n",
      "|Self-emp-not-inc|104626|             15|        3103|            32|\n",
      "|         Private|369667|             10|           0|            40|\n",
      "|         Private|104996|              4|           0|            10|\n",
      "|         Private|184454|              9|        6418|            40|\n",
      "|     Federal-gov|212465|             13|           0|            40|\n",
      "|         Private| 82091|              9|           0|            39|\n",
      "|               ?|299831|              9|           0|            35|\n",
      "|         Private|279724|              9|        3103|            48|\n",
      "|         Private|346189|             14|           0|            50|\n",
      "|       State-gov|444554|             10|           0|            25|\n",
      "|         Private|128354|              9|           0|            30|\n",
      "|         Private| 60548|              9|           0|            20|\n",
      "|         Private| 85019|             16|           0|            45|\n",
      "+----------------+------+---------------+------------+--------------+\n",
      "only showing top 20 rows\n",
      "\n"
     ]
    }
   ],
   "source": [
    "adultDf.show()"
   ]
  },
  {
   "cell_type": "code",
   "execution_count": 7,
   "metadata": {},
   "outputs": [
    {
     "name": "stdout",
     "output_type": "stream",
     "text": [
      "root\n",
      " |-- workclass: string (nullable = true)\n",
      " |-- fnlwgt: integer (nullable = true)\n",
      " |-- educational-num: integer (nullable = true)\n",
      " |-- capital-gain: integer (nullable = true)\n",
      " |-- hours-per-week: integer (nullable = true)\n",
      "\n"
     ]
    }
   ],
   "source": [
    "#Question 1\n",
    "adultDf.printSchema()"
   ]
  },
  {
   "cell_type": "code",
   "execution_count": 10,
   "metadata": {},
   "outputs": [],
   "source": [
    "#Question 2\n",
    "adultDf=adultDf.na.drop(\"any\")"
   ]
  },
  {
   "cell_type": "code",
   "execution_count": 15,
   "metadata": {},
   "outputs": [
    {
     "name": "stdout",
     "output_type": "stream",
     "text": [
      "+----------------+------------------+--------------------+------------------+-------------------+\n",
      "|       workclass|       avg(fnlwgt)|avg(educational-num)| avg(capital-gain)|avg(hours-per-week)|\n",
      "+----------------+------------------+--------------------+------------------+-------------------+\n",
      "|Self-emp-not-inc| 175579.0054375971|  10.227343345416882|1781.7446918694977|  44.39513205592957|\n",
      "|       Local-gov|190161.13488520408|  11.032206632653061| 798.2286352040817|  40.84725765306123|\n",
      "|       State-gov|181933.46491670873|  11.387178192831904| 756.3361938414942|  39.09086320040384|\n",
      "|         Private|192669.21249926268|    9.87571521264673| 896.1353742700408|    40.273137497788|\n",
      "|     Without-pay|167902.66666666666|   8.952380952380953|325.23809523809524|  33.95238095238095|\n",
      "|     Federal-gov|183590.02863128492|  10.937150837988828| 923.2877094972067|  41.51326815642458|\n",
      "|    Never-worked|          215033.3|                 7.5|               0.0|               28.9|\n",
      "|               ?|187254.77349053233|   9.251161128974633|502.94605216148625| 31.812433011789924|\n",
      "|    Self-emp-inc| 178990.2005899705|  11.159882005899705| 5132.794100294986|  48.57050147492625|\n",
      "+----------------+------------------+--------------------+------------------+-------------------+\n",
      "\n"
     ]
    }
   ],
   "source": [
    "#question 3\n",
    "adultDf.groupBy(\"workclass\").mean().show()"
   ]
  },
  {
   "cell_type": "code",
   "execution_count": 16,
   "metadata": {},
   "outputs": [],
   "source": [
    "# Question 3\n",
    "def calculate_mean(df):\n",
    "    return df.groupBy(\"workclass\").mean()\n",
    "\n",
    "    "
   ]
  },
  {
   "cell_type": "code",
   "execution_count": 18,
   "metadata": {},
   "outputs": [],
   "source": [
    "test_df=calculate_mean(adultDf)"
   ]
  },
  {
   "cell_type": "code",
   "execution_count": 19,
   "metadata": {},
   "outputs": [
    {
     "name": "stdout",
     "output_type": "stream",
     "text": [
      "+----------------+------------------+--------------------+------------------+-------------------+\n",
      "|       workclass|       avg(fnlwgt)|avg(educational-num)| avg(capital-gain)|avg(hours-per-week)|\n",
      "+----------------+------------------+--------------------+------------------+-------------------+\n",
      "|Self-emp-not-inc| 175579.0054375971|  10.227343345416882|1781.7446918694977|  44.39513205592957|\n",
      "|       Local-gov|190161.13488520408|  11.032206632653061| 798.2286352040817|  40.84725765306123|\n",
      "|       State-gov|181933.46491670873|  11.387178192831904| 756.3361938414942|  39.09086320040384|\n",
      "|         Private|192669.21249926268|    9.87571521264673| 896.1353742700408|    40.273137497788|\n",
      "|     Without-pay|167902.66666666666|   8.952380952380953|325.23809523809524|  33.95238095238095|\n",
      "|     Federal-gov|183590.02863128492|  10.937150837988828| 923.2877094972067|  41.51326815642458|\n",
      "|    Never-worked|          215033.3|                 7.5|               0.0|               28.9|\n",
      "|               ?|187254.77349053233|   9.251161128974633|502.94605216148625| 31.812433011789924|\n",
      "|    Self-emp-inc| 178990.2005899705|  11.159882005899705| 5132.794100294986|  48.57050147492625|\n",
      "+----------------+------------------+--------------------+------------------+-------------------+\n",
      "\n"
     ]
    }
   ],
   "source": [
    "test_df.show()"
   ]
  },
  {
   "cell_type": "code",
   "execution_count": 26,
   "metadata": {},
   "outputs": [
    {
     "data": {
      "text/plain": [
       "['workclass', 'fnlwgt', 'educational-num', 'capital-gain', 'hours-per-week']"
      ]
     },
     "execution_count": 26,
     "metadata": {},
     "output_type": "execute_result"
    }
   ],
   "source": [
    "from pyspark.sql.functions import *\n",
    "adultDf.columns\n"
   ]
  },
  {
   "cell_type": "code",
   "execution_count": 28,
   "metadata": {},
   "outputs": [
    {
     "name": "stdout",
     "output_type": "stream",
     "text": [
      "+----------------+------------------------+-------------------------+----------------------+--------------------+\n",
      "|       workclass|variance(hours-per-week)|variance(educational-num)|variance(capital-gain)|    variance(fnlwgt)|\n",
      "+----------------+------------------------+-------------------------+----------------------+--------------------+\n",
      "|Self-emp-not-inc|       279.4667258437333|        7.856097524663039|  1.1075436140903017E8|1.037641233005459E10|\n",
      "|       Local-gov|      117.19165435911216|        6.391625878820423|  2.6759497804487623E7| 9.975906178732996E9|\n",
      "|       State-gov|      143.29982051713492|        6.208098144493893|  2.5532552550552998E7|1.280747493778527...|\n",
      "|         Private|      126.21175265102357|        6.227112930425992|   4.227075330318949E7|1.114250997970401...|\n",
      "|     Without-pay|       280.8476190476191|       3.5476190476190474|    1155353.7904761904| 8.217552949233332E9|\n",
      "|     Federal-gov|       79.70911803286373|         4.64454477667295|  2.1202468031770557E7|1.429967073072805...|\n",
      "|    Never-worked|       170.9888888888889|       3.8333333333333335|                   0.0| 9.349503026011108E9|\n",
      "|               ?|       227.1238482241568|       6.4569098378594685|  2.1355458228325143E7|1.160653059443829...|\n",
      "|    Self-emp-inc|      202.85438316041743|          6.7601369400243|  3.5097803237257415E8| 9.176615707330471E9|\n",
      "+----------------+------------------------+-------------------------+----------------------+--------------------+\n",
      "\n"
     ]
    }
   ],
   "source": [
    "adultDf.groupBy(\"workclass\").agg({\"fnlwgt\":\"variance\",\"educational-num\":\"variance\",\"capital-gain\":\"variance\"\\\n",
    "                                ,\"hours-per-week\":\"variance\"}).show()"
   ]
  },
  {
   "cell_type": "code",
   "execution_count": 29,
   "metadata": {},
   "outputs": [],
   "source": [
    "#Question 4\n",
    "def calculate_variance(df):\n",
    "    return df.groupBy(\"workclass\").agg({\"fnlwgt\":\"variance\",\"educational-num\":\"variance\",\"capital-gain\":\"variance\"\\\n",
    "                                ,\"hours-per-week\":\"variance\"})"
   ]
  },
  {
   "cell_type": "code",
   "execution_count": 30,
   "metadata": {},
   "outputs": [
    {
     "name": "stdout",
     "output_type": "stream",
     "text": [
      "+----------------+------------------------+-------------------------+----------------------+--------------------+\n",
      "|       workclass|variance(hours-per-week)|variance(educational-num)|variance(capital-gain)|    variance(fnlwgt)|\n",
      "+----------------+------------------------+-------------------------+----------------------+--------------------+\n",
      "|Self-emp-not-inc|       279.4667258437333|        7.856097524663039|  1.1075436140903017E8|1.037641233005459E10|\n",
      "|       Local-gov|      117.19165435911216|        6.391625878820423|  2.6759497804487623E7| 9.975906178732996E9|\n",
      "|       State-gov|      143.29982051713492|        6.208098144493893|  2.5532552550552998E7|1.280747493778527...|\n",
      "|         Private|      126.21175265102357|        6.227112930425992|   4.227075330318949E7|1.114250997970401...|\n",
      "|     Without-pay|       280.8476190476191|       3.5476190476190474|    1155353.7904761904| 8.217552949233332E9|\n",
      "|     Federal-gov|       79.70911803286373|         4.64454477667295|  2.1202468031770557E7|1.429967073072805...|\n",
      "|    Never-worked|       170.9888888888889|       3.8333333333333335|                   0.0| 9.349503026011108E9|\n",
      "|               ?|       227.1238482241568|       6.4569098378594685|  2.1355458228325143E7|1.160653059443829...|\n",
      "|    Self-emp-inc|      202.85438316041743|          6.7601369400243|  3.5097803237257415E8| 9.176615707330471E9|\n",
      "+----------------+------------------------+-------------------------+----------------------+--------------------+\n",
      "\n"
     ]
    }
   ],
   "source": [
    "test_df=calculate_variance(adultDf)\n",
    "test_df.show()"
   ]
  },
  {
   "cell_type": "code",
   "execution_count": 31,
   "metadata": {},
   "outputs": [
    {
     "name": "stdout",
     "output_type": "stream",
     "text": [
      "+----------------+------+---------------+------------+--------------+\n",
      "|       workclass|fnlwgt|educational-num|capital-gain|hours-per-week|\n",
      "+----------------+------+---------------+------------+--------------+\n",
      "|         Private|226802|              7|           0|            40|\n",
      "|         Private| 89814|              9|           0|            50|\n",
      "|       Local-gov|336951|             12|           0|            40|\n",
      "|         Private|160323|             10|        7688|            40|\n",
      "|               ?|103497|             10|           0|            30|\n",
      "|         Private|198693|              6|           0|            30|\n",
      "|               ?|227026|              9|           0|            40|\n",
      "|Self-emp-not-inc|104626|             15|        3103|            32|\n",
      "|         Private|369667|             10|           0|            40|\n",
      "|         Private|104996|              4|           0|            10|\n",
      "|         Private|184454|              9|        6418|            40|\n",
      "|     Federal-gov|212465|             13|           0|            40|\n",
      "|         Private| 82091|              9|           0|            39|\n",
      "|               ?|299831|              9|           0|            35|\n",
      "|         Private|279724|              9|        3103|            48|\n",
      "|         Private|346189|             14|           0|            50|\n",
      "|       State-gov|444554|             10|           0|            25|\n",
      "|         Private|128354|              9|           0|            30|\n",
      "|         Private| 60548|              9|           0|            20|\n",
      "|         Private| 85019|             16|           0|            45|\n",
      "+----------------+------+---------------+------------+--------------+\n",
      "only showing top 20 rows\n",
      "\n"
     ]
    }
   ],
   "source": [
    "adultDf.show()"
   ]
  },
  {
   "cell_type": "code",
   "execution_count": 32,
   "metadata": {},
   "outputs": [
    {
     "data": {
      "text/plain": [
       "48842"
      ]
     },
     "execution_count": 32,
     "metadata": {},
     "output_type": "execute_result"
    }
   ],
   "source": [
    "#question 5\n",
    "total_size=adultDf.count()\n",
    "total_size"
   ]
  },
  {
   "cell_type": "code",
   "execution_count": 35,
   "metadata": {},
   "outputs": [],
   "source": [
    "state_gov_count=adultDf.filter(adultDf[\"workclass\"]==\"State-gov\").count()"
   ]
  },
  {
   "cell_type": "code",
   "execution_count": 36,
   "metadata": {},
   "outputs": [
    {
     "data": {
      "text/plain": [
       "0.04055935465378158"
      ]
     },
     "execution_count": 36,
     "metadata": {},
     "output_type": "execute_result"
    }
   ],
   "source": [
    "prob_state_gov=state_gov_count/total_size\n",
    "prob_state_gov"
   ]
  },
  {
   "cell_type": "code",
   "execution_count": 38,
   "metadata": {},
   "outputs": [
    {
     "data": {
      "text/plain": [
       "0.6941976168052086"
      ]
     },
     "execution_count": 38,
     "metadata": {},
     "output_type": "execute_result"
    }
   ],
   "source": [
    "#question 6\n",
    "prv_count=state_gov_count=adultDf.filter(adultDf[\"workclass\"]==\"Private\").count()\n",
    "prob_prv_class=prv_count/total_size\n",
    "prob_prv_class"
   ]
  },
  {
   "cell_type": "code",
   "execution_count": null,
   "metadata": {},
   "outputs": [],
   "source": []
  }
 ],
 "metadata": {
  "kernelspec": {
   "display_name": "Python 3",
   "language": "python",
   "name": "python3"
  },
  "language_info": {
   "codemirror_mode": {
    "name": "ipython",
    "version": 3
   },
   "file_extension": ".py",
   "mimetype": "text/x-python",
   "name": "python",
   "nbconvert_exporter": "python",
   "pygments_lexer": "ipython3",
   "version": "3.7.4"
  }
 },
 "nbformat": 4,
 "nbformat_minor": 2
}
