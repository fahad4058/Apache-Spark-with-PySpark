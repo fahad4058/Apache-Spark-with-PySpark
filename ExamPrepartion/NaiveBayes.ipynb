{
 "cells": [
  {
   "cell_type": "code",
   "execution_count": 2,
   "metadata": {},
   "outputs": [],
   "source": [
    "import os\n",
    "import sys\n",
    "\n",
    "os.environ['PYSPARK_PYTHON'] = sys.executable\n",
    "os.environ['PYSPARK_DRIVER_PYTHON'] = sys.executable\n",
    "\n",
    "import findspark\n",
    "findspark.init()\n",
    "findspark.find()\n",
    "import pyspark\n",
    "\n",
    "from pyspark.sql import SparkSession\n",
    "from pyspark import SparkContext, SparkConf\n",
    "from pyspark.sql import SQLContext\n",
    "\n",
    "conf = pyspark.SparkConf().setAppName('appName').setMaster('local')\n",
    "sc = pyspark.SparkContext(conf=conf)\n",
    "spark = SparkSession(sc)\n",
    "sqlcontext=SQLContext(sc)"
   ]
  },
  {
   "cell_type": "code",
   "execution_count": 3,
   "metadata": {},
   "outputs": [
    {
     "name": "stdout",
     "output_type": "stream",
     "text": [
      "+---+------+---------+\n",
      "|Age|Salary|Purchased|\n",
      "+---+------+---------+\n",
      "| 59| 88000|        0|\n",
      "| 35| 61000|        1|\n",
      "| 37| 70000|        0|\n",
      "| 52| 21000|        0|\n",
      "| 48|141000|        1|\n",
      "| 37| 93000|        0|\n",
      "| 37| 62000|        1|\n",
      "| 48|138000|        0|\n",
      "| 41| 79000|        1|\n",
      "| 37| 78000|        0|\n",
      "| 39|134000|        0|\n",
      "| 49| 89000|        0|\n",
      "| 55| 39000|        0|\n",
      "| 37| 77000|        1|\n",
      "| 35| 57000|        1|\n",
      "| 36| 63000|        1|\n",
      "| 42| 73000|        0|\n",
      "+---+------+---------+\n",
      "\n"
     ]
    }
   ],
   "source": [
    "df=spark.read.csv(\"purchasedata.csv\",header=True,inferSchema=True)\n",
    "df.show()"
   ]
  },
  {
   "cell_type": "code",
   "execution_count": 4,
   "metadata": {},
   "outputs": [
    {
     "name": "stdout",
     "output_type": "stream",
     "text": [
      "+---------+-----------------+\n",
      "|Purchased|         avg(Age)|\n",
      "+---------+-----------------+\n",
      "|        1|38.42857142857143|\n",
      "|        0|             45.5|\n",
      "+---------+-----------------+\n",
      "\n",
      "+---------+------------------+\n",
      "|Purchased|     variance(Age)|\n",
      "+---------+------------------+\n",
      "|        1|21.952380952380953|\n",
      "|        0| 67.16666666666667|\n",
      "+---------+------------------+\n",
      "\n",
      "+---------+-----------------+\n",
      "|Purchased|      stddev(Age)|\n",
      "+---------+-----------------+\n",
      "|        1| 4.68533680244878|\n",
      "|        0|8.195527235429498|\n",
      "+---------+-----------------+\n",
      "\n"
     ]
    },
    {
     "data": {
      "text/plain": [
       "(None, None, None)"
      ]
     },
     "execution_count": 4,
     "metadata": {},
     "output_type": "execute_result"
    }
   ],
   "source": [
    "#for quick analysis \n",
    "# FOR AGE COLUMN\n",
    "mean=df.groupBy(\"Purchased\").agg({\"Age\":\"mean\"})\n",
    "variance=df.groupBy(\"Purchased\").agg({\"Age\":\"variance\"})\n",
    "std=df.groupBy(\"Purchased\").agg({\"Age\":\"std\"})\n",
    "mean.show(),variance.show(),std.show()"
   ]
  },
  {
   "cell_type": "code",
   "execution_count": 5,
   "metadata": {},
   "outputs": [],
   "source": [
    "#for further processing\n",
    "mean_age_1=mean.collect()[0][1]\n",
    "mean_age_0=mean.collect()[1][1]\n",
    "var_age_1=variance.collect()[0][1]\n",
    "var_age_0=variance.collect()[1][1]\n",
    "std_age_1=std.collect()[0][1]\n",
    "std_age_0=std.collect()[1][1]"
   ]
  },
  {
   "cell_type": "code",
   "execution_count": 6,
   "metadata": {},
   "outputs": [
    {
     "name": "stdout",
     "output_type": "stream",
     "text": [
      "+---------+-----------------+\n",
      "|Purchased|      avg(Salary)|\n",
      "+---------+-----------------+\n",
      "|        1|77142.85714285714|\n",
      "|        0|          82300.0|\n",
      "+---------+-----------------+\n",
      "\n",
      "+---------+--------------------+\n",
      "|Purchased|    variance(Salary)|\n",
      "+---------+--------------------+\n",
      "|        1| 8.628095238095237E8|\n",
      "|        0|1.3173444444444444E9|\n",
      "+---------+--------------------+\n",
      "\n",
      "+---------+------------------+\n",
      "|Purchased|    stddev(Salary)|\n",
      "+---------+------------------+\n",
      "|        1| 29373.61952176687|\n",
      "|        0|36295.239969511764|\n",
      "+---------+------------------+\n",
      "\n"
     ]
    },
    {
     "data": {
      "text/plain": [
       "(None, None, None)"
      ]
     },
     "execution_count": 6,
     "metadata": {},
     "output_type": "execute_result"
    }
   ],
   "source": [
    "mean=df.groupBy(\"Purchased\").agg({\"Salary\":\"mean\"})\n",
    "variance=df.groupBy(\"Purchased\").agg({\"Salary\":\"variance\"})\n",
    "std=df.groupBy(\"Purchased\").agg({\"Salary\":\"std\"})\n",
    "mean.show(),variance.show(),std.show()"
   ]
  },
  {
   "cell_type": "code",
   "execution_count": 7,
   "metadata": {},
   "outputs": [],
   "source": [
    "mean_salary_1=mean.collect()[0][1]\n",
    "mean_salary_0=mean.collect()[1][1]\n",
    "var_salary_1=variance.collect()[0][1]\n",
    "var_salary_0=variance.collect()[1][1]\n",
    "std_salary_1=std.collect()[0][1]\n",
    "std_salary_0=std.collect()[1][1]"
   ]
  },
  {
   "cell_type": "code",
   "execution_count": 8,
   "metadata": {},
   "outputs": [
    {
     "data": {
      "text/plain": [
       "17"
      ]
     },
     "execution_count": 8,
     "metadata": {},
     "output_type": "execute_result"
    }
   ],
   "source": [
    "tot_size=df.count()\n",
    "tot_size\n"
   ]
  },
  {
   "cell_type": "code",
   "execution_count": 9,
   "metadata": {},
   "outputs": [
    {
     "data": {
      "text/plain": [
       "(0.5882352941176471, 0.4117647058823529)"
      ]
     },
     "execution_count": 9,
     "metadata": {},
     "output_type": "execute_result"
    }
   ],
   "source": [
    "prob_1=(df.filter(df[\"Purchased\"]==1).count())/tot_size\n",
    "prob_0=(df.filter(df[\"Purchased\"]==0).count())/tot_size\n",
    "\n",
    "prob_0,prob_1"
   ]
  },
  {
   "attachments": {
    "image.png": {
     "image/png": "[encoded data removed]"
    }
   },
   "cell_type": "markdown",
   "metadata": {},
   "source": [
    "![image.png](attachment:image.png)\n",
    "gaussian naive bayes formula"
   ]
  },
  {
   "cell_type": "code",
   "execution_count": 10,
   "metadata": {},
   "outputs": [],
   "source": [
    "# to check if a person with \"Age\":38 and \"Salary\":71000 will buy a product or not\n",
    "import math"
   ]
  },
  {
   "cell_type": "code",
   "execution_count": 11,
   "metadata": {},
   "outputs": [
    {
     "data": {
      "text/plain": [
       "0.08479151603350477"
      ]
     },
     "execution_count": 11,
     "metadata": {},
     "output_type": "execute_result"
    }
   ],
   "source": [
    "# age 38|yes\n",
    "age_yes=(1/math.sqrt(2*math.pi*var_age_1))*math.exp(-0.5*((38-mean_age_1)**2)/var_age_1)\n",
    "age_yes"
   ]
  },
  {
   "cell_type": "code",
   "execution_count": 12,
   "metadata": {},
   "outputs": [
    {
     "data": {
      "text/plain": [
       "0.03202425896032866"
      ]
     },
     "execution_count": 12,
     "metadata": {},
     "output_type": "execute_result"
    }
   ],
   "source": [
    "# age 38|no\n",
    "age_no=(1/math.sqrt(2*math.pi*var_age_0))*math.exp(-0.5*((38-mean_age_0)**2)/var_age_0)\n",
    "age_no"
   ]
  },
  {
   "cell_type": "code",
   "execution_count": 13,
   "metadata": {},
   "outputs": [
    {
     "data": {
      "text/plain": [
       "1.3287881202425882e-05"
      ]
     },
     "execution_count": 13,
     "metadata": {},
     "output_type": "execute_result"
    }
   ],
   "source": [
    "#salary 71000|yes\n",
    "salary_yes=(1/math.sqrt(2*math.pi*var_salary_1))*math.exp(-0.5*((71000-mean_salary_1)**2)/var_salary_1)\n",
    "salary_yes"
   ]
  },
  {
   "cell_type": "code",
   "execution_count": 14,
   "metadata": {},
   "outputs": [
    {
     "data": {
      "text/plain": [
       "1.0471583113637713e-05"
      ]
     },
     "execution_count": 14,
     "metadata": {},
     "output_type": "execute_result"
    }
   ],
   "source": [
    "#salary 71000|yes\n",
    "salary_no=(1/math.sqrt(2*math.pi*var_salary_0))*math.exp(-0.5*((71000-mean_salary_0)**2)/var_salary_0)\n",
    "salary_no"
   ]
  },
  {
   "cell_type": "code",
   "execution_count": 21,
   "metadata": {},
   "outputs": [
    {
     "data": {
      "text/plain": [
       "(4.6393512612868263e-07, 1.97261581973964e-07)"
      ]
     },
     "execution_count": 21,
     "metadata": {},
     "output_type": "execute_result"
    }
   ],
   "source": [
    "probability_yes=age_yes*salary_yes*prob_1\n",
    "probability_no=age_no*salary_no*prob_0\n",
    "probability_yes,probability_no"
   ]
  },
  {
   "cell_type": "code",
   "execution_count": 22,
   "metadata": {},
   "outputs": [],
   "source": [
    "#normalized probability\n",
    "Probability_purchase_yes=probability_yes/(probability_yes+probability_no)\n",
    "Probability_purchase_no=probability_no/(probability_yes+probability_no)\n"
   ]
  },
  {
   "cell_type": "code",
   "execution_count": 23,
   "metadata": {},
   "outputs": [
    {
     "data": {
      "text/plain": [
       "(0.7016597639452549, 0.29834023605474513)"
      ]
     },
     "execution_count": 23,
     "metadata": {},
     "output_type": "execute_result"
    }
   ],
   "source": [
    "Probability_purchase_yes,Probability_purchase_no"
   ]
  },
  {
   "cell_type": "code",
   "execution_count": null,
   "metadata": {},
   "outputs": [],
   "source": []
  }
 ],
 "metadata": {
  "kernelspec": {
   "display_name": "Python 3",
   "language": "python",
   "name": "python3"
  },
  "language_info": {
   "codemirror_mode": {
    "name": "ipython",
    "version": 3
   },
   "file_extension": ".py",
   "mimetype": "text/x-python",
   "name": "python",
   "nbconvert_exporter": "python",
   "pygments_lexer": "ipython3",
   "version": "3.7.4"
  }
 },
 "nbformat": 4,
 "nbformat_minor": 2
}
