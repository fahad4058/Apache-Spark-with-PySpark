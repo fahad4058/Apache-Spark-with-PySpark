{
 "cells": [
  {
   "cell_type": "code",
   "execution_count": 1,
   "metadata": {},
   "outputs": [],
   "source": [
    "import os\n",
    "import sys\n",
    "\n",
    "os.environ['PYSPARK_PYTHON'] = sys.executable\n",
    "os.environ['PYSPARK_DRIVER_PYTHON'] = sys.executable\n",
    "\n",
    "import findspark\n",
    "findspark.init()\n",
    "findspark.find()\n",
    "import pyspark\n",
    "\n",
    "from pyspark.sql import SparkSession\n",
    "from pyspark import SparkContext, SparkConf\n",
    "from pyspark.sql import SQLContext\n",
    "\n",
    "conf = pyspark.SparkConf().setAppName('appName').setMaster('local')\n",
    "sc = pyspark.SparkContext(conf=conf)\n",
    "spark = SparkSession(sc)\n",
    "sqlcontext=SQLContext(sc)"
   ]
  },
  {
   "cell_type": "code",
   "execution_count": 9,
   "metadata": {},
   "outputs": [
    {
     "name": "stdout",
     "output_type": "stream",
     "text": [
      "+--------------------+--------------------+--------------+---------------+--------------+------------------------+-------+------------------------+-------+-----------------------------+----------+-----------------+\n",
      "|             Country|              Region|Happiness Rank|Happiness Score|Standard Error|Economy (GDP per Capita)| Family|Health (Life Expectancy)|Freedom|Trust (Government Corruption)|Generosity|Dystopia Residual|\n",
      "+--------------------+--------------------+--------------+---------------+--------------+------------------------+-------+------------------------+-------+-----------------------------+----------+-----------------+\n",
      "|         Switzerland|      Western Europe|             1|          7.587|       0.03411|                 1.39651|1.34951|                 0.94143|0.66557|                      0.41978|   0.29678|          2.51738|\n",
      "|             Iceland|      Western Europe|             2|          7.561|       0.04884|                 1.30232|1.40223|                 0.94784|0.62877|                      0.14145|    0.4363|          2.70201|\n",
      "|             Denmark|      Western Europe|             3|          7.527|       0.03328|                 1.32548|1.36058|                 0.87464|0.64938|                      0.48357|   0.34139|          2.49204|\n",
      "|              Norway|      Western Europe|             4|          7.522|        0.0388|                   1.459|1.33095|                 0.88521|0.66973|                      0.36503|   0.34699|          2.46531|\n",
      "|              Canada|       North America|             5|          7.427|       0.03553|                 1.32629|1.32261|                 0.90563|0.63297|                      0.32957|   0.45811|          2.45176|\n",
      "|             Finland|      Western Europe|             6|          7.406|        0.0314|                 1.29025|1.31826|                 0.88911|0.64169|                      0.41372|   0.23351|          2.61955|\n",
      "|         Netherlands|      Western Europe|             7|          7.378|       0.02799|                 1.32944|1.28017|                 0.89284|0.61576|                      0.31814|    0.4761|           2.4657|\n",
      "|              Sweden|      Western Europe|             8|          7.364|       0.03157|                 1.33171|1.28907|                 0.91087| 0.6598|                      0.43844|   0.36262|          2.37119|\n",
      "|         New Zealand|Australia and New...|             9|          7.286|       0.03371|                 1.25018|1.31967|                 0.90837|0.63938|                      0.42922|   0.47501|          2.26425|\n",
      "|           Australia|Australia and New...|            10|          7.284|       0.04083|                 1.33358|1.30923|                 0.93156|0.65124|                      0.35637|   0.43562|          2.26646|\n",
      "|              Israel|Middle East and N...|            11|          7.278|        0.0347|                 1.22857|1.22393|                 0.91387|0.41319|                      0.07785|   0.33172|          3.08854|\n",
      "|          Costa Rica|Latin America and...|            12|          7.226|       0.04454|                 0.95578|1.23788|                 0.86027|0.63376|                      0.10583|   0.25497|          3.17728|\n",
      "|             Austria|      Western Europe|            13|            7.2|       0.03751|                 1.33723|1.29704|                 0.89042|0.62433|                      0.18676|   0.33088|           2.5332|\n",
      "|              Mexico|Latin America and...|            14|          7.187|       0.04176|                 1.02054|0.91451|                 0.81444|0.48181|                      0.21312|   0.14074|          3.60214|\n",
      "|       United States|       North America|            15|          7.119|       0.03839|                 1.39451|1.24711|                 0.86179|0.54604|                       0.1589|   0.40105|          2.51011|\n",
      "|              Brazil|Latin America and...|            16|          6.983|       0.04076|                 0.98124|1.23287|                 0.69702|0.49049|                      0.17521|   0.14574|          3.26001|\n",
      "|          Luxembourg|      Western Europe|            17|          6.946|       0.03499|                 1.56391|1.21963|                 0.91894|0.61583|                      0.37798|   0.28034|          1.96961|\n",
      "|             Ireland|      Western Europe|            18|           6.94|       0.03676|                 1.33596|1.36948|                 0.89533|0.61777|                      0.28703|   0.45901|           1.9757|\n",
      "|             Belgium|      Western Europe|            19|          6.937|       0.03595|                 1.30782|1.28566|                 0.89667| 0.5845|                       0.2254|    0.2225|          2.41484|\n",
      "|United Arab Emirates|Middle East and N...|            20|          6.901|       0.03729|                 1.42727|1.12575|                 0.80925|0.64157|                      0.38583|   0.26428|          2.24743|\n",
      "+--------------------+--------------------+--------------+---------------+--------------+------------------------+-------+------------------------+-------+-----------------------------+----------+-----------------+\n",
      "only showing top 20 rows\n",
      "\n"
     ]
    }
   ],
   "source": [
    "df=spark.read.csv(\"2015.csv\",header=True,inferSchema=True)\n",
    "df.show()"
   ]
  },
  {
   "cell_type": "code",
   "execution_count": 10,
   "metadata": {},
   "outputs": [
    {
     "data": {
      "text/plain": [
       "['Country',\n",
       " 'Region',\n",
       " 'Happiness Rank',\n",
       " 'Happiness Score',\n",
       " 'Standard Error',\n",
       " 'Economy (GDP per Capita)',\n",
       " 'Family',\n",
       " 'Health (Life Expectancy)',\n",
       " 'Freedom',\n",
       " 'Trust (Government Corruption)',\n",
       " 'Generosity',\n",
       " 'Dystopia Residual']"
      ]
     },
     "execution_count": 10,
     "metadata": {},
     "output_type": "execute_result"
    }
   ],
   "source": [
    "df.columns"
   ]
  },
  {
   "cell_type": "code",
   "execution_count": 11,
   "metadata": {},
   "outputs": [],
   "source": [
    "df=df.select('Country','Region','Generosity','Happiness Score')"
   ]
  },
  {
   "cell_type": "code",
   "execution_count": 14,
   "metadata": {},
   "outputs": [
    {
     "data": {
      "text/plain": [
       "19"
      ]
     },
     "execution_count": 14,
     "metadata": {},
     "output_type": "execute_result"
    }
   ],
   "source": [
    "df.filter(df[\"Generosity\"]>=0.4).count()\n"
   ]
  },
  {
   "cell_type": "code",
   "execution_count": 15,
   "metadata": {},
   "outputs": [
    {
     "name": "stdout",
     "output_type": "stream",
     "text": [
      "+--------------------+--------------------+----------+---------------+\n",
      "|             Country|              Region|Generosity|Happiness Score|\n",
      "+--------------------+--------------------+----------+---------------+\n",
      "|         Switzerland|      Western Europe|   0.29678|          7.587|\n",
      "|             Iceland|      Western Europe|    0.4363|          7.561|\n",
      "|             Denmark|      Western Europe|   0.34139|          7.527|\n",
      "|              Norway|      Western Europe|   0.34699|          7.522|\n",
      "|              Canada|       North America|   0.45811|          7.427|\n",
      "|             Finland|      Western Europe|   0.23351|          7.406|\n",
      "|         Netherlands|      Western Europe|    0.4761|          7.378|\n",
      "|              Sweden|      Western Europe|   0.36262|          7.364|\n",
      "|         New Zealand|Australia and New...|   0.47501|          7.286|\n",
      "|           Australia|Australia and New...|   0.43562|          7.284|\n",
      "|              Israel|Middle East and N...|   0.33172|          7.278|\n",
      "|          Costa Rica|Latin America and...|   0.25497|          7.226|\n",
      "|             Austria|      Western Europe|   0.33088|            7.2|\n",
      "|              Mexico|Latin America and...|   0.14074|          7.187|\n",
      "|       United States|       North America|   0.40105|          7.119|\n",
      "|              Brazil|Latin America and...|   0.14574|          6.983|\n",
      "|          Luxembourg|      Western Europe|   0.28034|          6.946|\n",
      "|             Ireland|      Western Europe|   0.45901|           6.94|\n",
      "|             Belgium|      Western Europe|    0.2225|          6.937|\n",
      "|United Arab Emirates|Middle East and N...|   0.26428|          6.901|\n",
      "+--------------------+--------------------+----------+---------------+\n",
      "only showing top 20 rows\n",
      "\n"
     ]
    }
   ],
   "source": [
    "df.show()"
   ]
  },
  {
   "cell_type": "code",
   "execution_count": 17,
   "metadata": {},
   "outputs": [
    {
     "name": "stdout",
     "output_type": "stream",
     "text": [
      "+--------------------+---------------+\n",
      "|             Country|Happiness Score|\n",
      "+--------------------+---------------+\n",
      "|         Switzerland|          7.587|\n",
      "|             Iceland|          7.561|\n",
      "|             Denmark|          7.527|\n",
      "|              Norway|          7.522|\n",
      "|              Canada|          7.427|\n",
      "|             Finland|          7.406|\n",
      "|         Netherlands|          7.378|\n",
      "|              Sweden|          7.364|\n",
      "|         New Zealand|          7.286|\n",
      "|           Australia|          7.284|\n",
      "|              Israel|          7.278|\n",
      "|          Costa Rica|          7.226|\n",
      "|             Austria|            7.2|\n",
      "|              Mexico|          7.187|\n",
      "|       United States|          7.119|\n",
      "|              Brazil|          6.983|\n",
      "|          Luxembourg|          6.946|\n",
      "|             Ireland|           6.94|\n",
      "|             Belgium|          6.937|\n",
      "|United Arab Emirates|          6.901|\n",
      "+--------------------+---------------+\n",
      "only showing top 20 rows\n",
      "\n"
     ]
    }
   ],
   "source": [
    "df.select(\"Country\",\"Happiness Score\").show()"
   ]
  },
  {
   "cell_type": "code",
   "execution_count": 19,
   "metadata": {},
   "outputs": [
    {
     "name": "stdout",
     "output_type": "stream",
     "text": [
      "+--------------------+----------+---------------+\n",
      "|             Country|Generosity|Happiness Score|\n",
      "+--------------------+----------+---------------+\n",
      "|         Switzerland|   0.29678|          7.587|\n",
      "|             Iceland|    0.4363|          7.561|\n",
      "|             Denmark|   0.34139|          7.527|\n",
      "|              Norway|   0.34699|          7.522|\n",
      "|              Canada|   0.45811|          7.427|\n",
      "|             Finland|   0.23351|          7.406|\n",
      "|         Netherlands|    0.4761|          7.378|\n",
      "|              Sweden|   0.36262|          7.364|\n",
      "|         New Zealand|   0.47501|          7.286|\n",
      "|           Australia|   0.43562|          7.284|\n",
      "|              Israel|   0.33172|          7.278|\n",
      "|          Costa Rica|   0.25497|          7.226|\n",
      "|             Austria|   0.33088|            7.2|\n",
      "|              Mexico|   0.14074|          7.187|\n",
      "|       United States|   0.40105|          7.119|\n",
      "|              Brazil|   0.14574|          6.983|\n",
      "|          Luxembourg|   0.28034|          6.946|\n",
      "|             Ireland|   0.45901|           6.94|\n",
      "|             Belgium|    0.2225|          6.937|\n",
      "|United Arab Emirates|   0.26428|          6.901|\n",
      "+--------------------+----------+---------------+\n",
      "only showing top 20 rows\n",
      "\n"
     ]
    }
   ],
   "source": [
    "df.filter(df[\"Happiness Score\"]>6).select(\"Country\",\"Generosity\",\"Happiness Score\").show()"
   ]
  },
  {
   "cell_type": "code",
   "execution_count": 20,
   "metadata": {},
   "outputs": [
    {
     "name": "stdout",
     "output_type": "stream",
     "text": [
      "root\n",
      " |-- Country: string (nullable = true)\n",
      " |-- Region: string (nullable = true)\n",
      " |-- Generosity: double (nullable = true)\n",
      " |-- Happiness Score: double (nullable = true)\n",
      "\n"
     ]
    }
   ],
   "source": [
    "df.printSchema()"
   ]
  },
  {
   "cell_type": "code",
   "execution_count": null,
   "metadata": {},
   "outputs": [],
   "source": []
  }
 ],
 "metadata": {
  "kernelspec": {
   "display_name": "Python 3",
   "language": "python",
   "name": "python3"
  },
  "language_info": {
   "codemirror_mode": {
    "name": "ipython",
    "version": 3
   },
   "file_extension": ".py",
   "mimetype": "text/x-python",
   "name": "python",
   "nbconvert_exporter": "python",
   "pygments_lexer": "ipython3",
   "version": "3.7.4"
  }
 },
 "nbformat": 4,
 "nbformat_minor": 2
}
