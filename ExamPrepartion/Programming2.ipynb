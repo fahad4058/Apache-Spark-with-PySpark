{
 "cells": [
  {
   "cell_type": "code",
   "execution_count": 1,
   "metadata": {},
   "outputs": [],
   "source": [
    "import os\n",
    "import sys\n",
    "\n",
    "os.environ['PYSPARK_PYTHON'] = sys.executable\n",
    "os.environ['PYSPARK_DRIVER_PYTHON'] = sys.executable\n",
    "\n",
    "import findspark\n",
    "findspark.init()\n",
    "findspark.find()\n",
    "import pyspark\n",
    "\n",
    "from pyspark.sql import SparkSession\n",
    "from pyspark import SparkContext, SparkConf\n",
    "from pyspark.sql import SQLContext\n",
    "\n",
    "conf = pyspark.SparkConf().setAppName('appName').setMaster('local')\n",
    "sc = pyspark.SparkContext(conf=conf)\n",
    "spark = SparkSession(sc)\n",
    "sqlcontext=SQLContext(sc)"
   ]
  },
  {
   "cell_type": "code",
   "execution_count": 2,
   "metadata": {},
   "outputs": [
    {
     "name": "stdout",
     "output_type": "stream",
     "text": [
      "+------------------+------------------+------------------+------------------+------------------+------------------+------------------+------------------+------------------+----------+\n",
      "|                ph|          Hardness|            Solids|       Chloramines|           Sulfate|      Conductivity|    Organic_carbon|   Trihalomethanes|         Turbidity|Potability|\n",
      "+------------------+------------------+------------------+------------------+------------------+------------------+------------------+------------------+------------------+----------+\n",
      "|              null| 204.8904554713363|20791.318980747026| 7.300211873184757|368.51644134980336| 564.3086541722439|  10.3797830780847|  86.9909704615088|2.9631353806316407|         0|\n",
      "|  3.71608007538699|129.42292051494425|18630.057857970347|    6.635245883862|              null| 592.8853591348523|15.180013116357259| 56.32907628451764| 4.500656274942408|         0|\n",
      "| 8.099124189298397|224.23625939355776|19909.541732292393| 9.275883602694089|              null| 418.6062130644815|16.868636929550973| 66.42009251176368|3.0559337496641685|         0|\n",
      "| 8.316765884214679|214.37339408562252|22018.417440775294|  8.05933237743854|356.88613564305666| 363.2665161642437|18.436524495493302|100.34167436508008| 4.628770536837084|         0|\n",
      "| 9.092223456290965|181.10150923612525| 17978.98633892625| 6.546599974207941|310.13573752420444|398.41081338184466|11.558279443446395|31.997992727424737| 4.075075425430034|         0|\n",
      "| 5.584086638456089| 188.3133237696164| 28748.68773904612|  7.54486878877965| 326.6783629116736| 280.4679159334877| 8.399734640152758|54.917861841994466|2.5597082275565217|         0|\n",
      "|10.223862164528773|248.07173527013992|28749.716543528233|7.5134084658313025|393.66339551509645| 283.6516335078445|13.789695317519886| 84.60355617402357| 2.672988736934779|         0|\n",
      "| 8.635848718500734|203.36152258457054|13672.091763901635| 4.563008685599703| 303.3097711592812|474.60764494244853| 12.36381669870525|62.798308962925155| 4.401424715445482|         0|\n",
      "|              null|118.98857909025189|14285.583854224515| 7.804173553073094|  268.646940746221| 389.3755658712614| 12.70604896865791|53.928845767512236|3.5950171809576155|         0|\n",
      "|11.180284470721592|227.23146923797458| 25484.50849098786| 9.077200016914393|404.04163468408996| 563.8854814810949| 17.92780641128502| 71.97660103221915| 4.370561936655497|         0|\n",
      "| 7.360640105838258|165.52079725952862|32452.614409143884| 7.550700906704114|326.62435345560164|425.38341949538733|15.586810438033126| 78.74001566430479|3.6622917828524573|         0|\n",
      "| 7.974521648923869|218.69330048866644| 18767.65668181348| 8.110384501123875|              null|364.09823046204866|14.525745697593209| 76.48591117965157| 4.011718108339787|         0|\n",
      "| 7.119824384264552|156.70499334039215|18730.813653342713|3.6060360905057203| 282.3440504739606|347.71502726194376|15.929535908825699|  79.5007783369744| 3.445756223321899|         0|\n",
      "|              null| 150.1749233951362|27331.361961927756| 6.838223470687509|299.41578134685847|379.76183482577244|19.370807181232124|  76.5099955279583| 4.413974182974902|         0|\n",
      "|  7.49623220797336|205.34498215818513| 28388.00488673697| 5.072557773840631|              null| 444.6453523327066|13.228311099224527| 70.30021264692436| 4.777382337225378|         0|\n",
      "| 6.347271760539316|186.73288066057614| 41065.23476453935| 9.629596276480584| 364.4876872467604|  516.743281893657|11.539781191539419| 75.07161728663777| 4.376348290691898|         0|\n",
      "| 7.051785800016845|211.04940606054578|30980.600786788862|10.094796011661426|              null| 315.1412672443021| 20.39702184072246| 56.65160378979331| 4.268428857506186|         0|\n",
      "| 9.181560007151536|273.81380665980095| 24041.32628006128| 6.904989726470096| 398.3505168222779| 477.9746418621779|13.387340780225543|  71.4573622129516| 4.503660796179122|         0|\n",
      "| 8.975464347533963|279.35716677009236|19460.398131232112| 6.204320858892474|              null|431.44398999034894| 12.88875905430399| 63.82123709666397|2.4360855903052734|         0|\n",
      "| 7.371050302429531|214.49661045715658|25630.320036999725| 4.432669290372123|335.75443859606526|469.91455147923585|12.509163940498695| 62.79727715266126|2.5602991476149146|         0|\n",
      "+------------------+------------------+------------------+------------------+------------------+------------------+------------------+------------------+------------------+----------+\n",
      "only showing top 20 rows\n",
      "\n"
     ]
    }
   ],
   "source": [
    "waterDf=spark.read.csv(\"water_potability.csv\",header=True,inferSchema=True)\n",
    "waterDf.show()"
   ]
  },
  {
   "cell_type": "code",
   "execution_count": 3,
   "metadata": {},
   "outputs": [
    {
     "name": "stdout",
     "output_type": "stream",
     "text": [
      "root\n",
      " |-- ph: double (nullable = true)\n",
      " |-- Hardness: double (nullable = true)\n",
      " |-- Solids: double (nullable = true)\n",
      " |-- Chloramines: double (nullable = true)\n",
      " |-- Sulfate: double (nullable = true)\n",
      " |-- Conductivity: double (nullable = true)\n",
      " |-- Organic_carbon: double (nullable = true)\n",
      " |-- Trihalomethanes: double (nullable = true)\n",
      " |-- Turbidity: double (nullable = true)\n",
      " |-- Potability: integer (nullable = true)\n",
      "\n"
     ]
    }
   ],
   "source": [
    "waterDf.printSchema()"
   ]
  },
  {
   "cell_type": "code",
   "execution_count": 19,
   "metadata": {},
   "outputs": [
    {
     "data": {
      "text/plain": [
       "['ph',\n",
       " 'Hardness',\n",
       " 'Solids',\n",
       " 'Chloramines',\n",
       " 'Sulfate',\n",
       " 'Conductivity',\n",
       " 'Organic_carbon',\n",
       " 'Trihalomethanes',\n",
       " 'Turbidity',\n",
       " 'Potability']"
      ]
     },
     "execution_count": 19,
     "metadata": {},
     "output_type": "execute_result"
    }
   ],
   "source": [
    "waterDf.columns"
   ]
  },
  {
   "cell_type": "code",
   "execution_count": 8,
   "metadata": {},
   "outputs": [],
   "source": [
    "waterDf=waterDf.na.drop(\"any\")"
   ]
  },
  {
   "cell_type": "code",
   "execution_count": 9,
   "metadata": {},
   "outputs": [
    {
     "data": {
      "text/plain": [
       "2011"
      ]
     },
     "execution_count": 9,
     "metadata": {},
     "output_type": "execute_result"
    }
   ],
   "source": [
    "waterDf.count()"
   ]
  },
  {
   "cell_type": "code",
   "execution_count": 11,
   "metadata": {},
   "outputs": [
    {
     "name": "stdout",
     "output_type": "stream",
     "text": [
      "+----------+------------------+------------------+------------------+-----------------+------------------+------------------+-------------------+--------------------+------------------+---------------+\n",
      "|Potability|           avg(ph)|     avg(Hardness)|       avg(Solids)| avg(Chloramines)|      avg(Sulfate)| avg(Conductivity)|avg(Organic_carbon)|avg(Trihalomethanes)|    avg(Turbidity)|avg(Potability)|\n",
      "+----------+------------------+------------------+------------------+-----------------+------------------+------------------+-------------------+--------------------+------------------+---------------+\n",
      "|         1|7.1137908501089075|195.90834062028335|22344.922883169897|7.174394917458124|332.45783193773906|425.00542273928284| 14.294763978633705|   66.58159561081527| 3.991254060069811|            1.0|\n",
      "|         0|7.0672009894698995|196.00843971539533|21628.535121541096|7.107266894602621| 333.7429278894922| 427.5543417650412| 14.400250029135762|   66.27871178932857|3.9551813104832756|            0.0|\n",
      "+----------+------------------+------------------+------------------+-----------------+------------------+------------------+-------------------+--------------------+------------------+---------------+\n",
      "\n"
     ]
    }
   ],
   "source": [
    "waterDf.groupBy(\"Potability\").mean().show()"
   ]
  },
  {
   "cell_type": "code",
   "execution_count": 15,
   "metadata": {},
   "outputs": [],
   "source": [
    "def compute_mean(df):\n",
    "    return waterDf.groupBy(\"Potability\").mean()\n",
    "    "
   ]
  },
  {
   "cell_type": "code",
   "execution_count": 16,
   "metadata": {},
   "outputs": [],
   "source": [
    "test_df=compute_mean(waterDf)"
   ]
  },
  {
   "cell_type": "code",
   "execution_count": 17,
   "metadata": {},
   "outputs": [
    {
     "name": "stdout",
     "output_type": "stream",
     "text": [
      "+----------+------------------+------------------+------------------+-----------------+------------------+------------------+-------------------+--------------------+------------------+---------------+\n",
      "|Potability|           avg(ph)|     avg(Hardness)|       avg(Solids)| avg(Chloramines)|      avg(Sulfate)| avg(Conductivity)|avg(Organic_carbon)|avg(Trihalomethanes)|    avg(Turbidity)|avg(Potability)|\n",
      "+----------+------------------+------------------+------------------+-----------------+------------------+------------------+-------------------+--------------------+------------------+---------------+\n",
      "|         1|7.1137908501089075|195.90834062028335|22344.922883169897|7.174394917458124|332.45783193773906|425.00542273928284| 14.294763978633705|   66.58159561081527| 3.991254060069811|            1.0|\n",
      "|         0|7.0672009894698995|196.00843971539533|21628.535121541096|7.107266894602621| 333.7429278894922| 427.5543417650412| 14.400250029135762|   66.27871178932857|3.9551813104832756|            0.0|\n",
      "+----------+------------------+------------------+------------------+-----------------+------------------+------------------+-------------------+--------------------+------------------+---------------+\n",
      "\n"
     ]
    }
   ],
   "source": [
    "test_df.show()"
   ]
  },
  {
   "cell_type": "code",
   "execution_count": 21,
   "metadata": {},
   "outputs": [
    {
     "name": "stdout",
     "output_type": "stream",
     "text": [
      "+----------+------------------+---------------------+------------------+-----------------+------------------+----------------------+\n",
      "|Potability| variance(Sulfate)|variance(Chloramines)|variance(Hardness)|     variance(ph)|  variance(Solids)|variance(Conductivity)|\n",
      "+----------+------------------+---------------------+------------------+-----------------+------------------+----------------------+\n",
      "|         1|2251.1409510770864|   3.0025803143125214|1246.1709349326022|2.066759308532427|7.90596252369944E7|     6715.963475936866|\n",
      "|         0|1324.8437751879576|   2.1802784724172284| 943.5735319491541| 2.75263153489773|7.15903603078976E7|     6381.242140183828|\n",
      "+----------+------------------+---------------------+------------------+-----------------+------------------+----------------------+\n",
      "\n"
     ]
    }
   ],
   "source": [
    "waterDf.groupBy(\"Potability\").agg({'ph':'variance',\\\n",
    " 'Hardness':'variance',\n",
    " 'Solids':'variance',\n",
    " 'Chloramines':'variance',\n",
    " 'Sulfate':'variance',\n",
    " 'Conductivity':'variance',\\\n",
    " }).show()"
   ]
  },
  {
   "cell_type": "code",
   "execution_count": 22,
   "metadata": {},
   "outputs": [
    {
     "name": "stdout",
     "output_type": "stream",
     "text": [
      "+----------+------------------+---------------------+------------------+-----------------+------------------+----------------------+\n",
      "|Potability| variance(Sulfate)|variance(Chloramines)|variance(Hardness)|     variance(ph)|  variance(Solids)|variance(Conductivity)|\n",
      "+----------+------------------+---------------------+------------------+-----------------+------------------+----------------------+\n",
      "|         1|2251.1409510770864|   3.0025803143125214|1246.1709349326022|2.066759308532427|7.90596252369944E7|     6715.963475936866|\n",
      "|         0|1324.8437751879576|   2.1802784724172284| 943.5735319491541| 2.75263153489773|7.15903603078976E7|     6381.242140183828|\n",
      "+----------+------------------+---------------------+------------------+-----------------+------------------+----------------------+\n",
      "\n"
     ]
    }
   ],
   "source": [
    "def compute_var(df):\n",
    "    return waterDf.groupBy(\"Potability\").agg({'ph':'variance',\\\n",
    " 'Hardness':'variance',\n",
    " 'Solids':'variance',\n",
    " 'Chloramines':'variance',\n",
    " 'Sulfate':'variance',\n",
    " 'Conductivity':'variance',\\\n",
    " })\n",
    "test_df=compute_var(waterDf)\n",
    "test_df.show()"
   ]
  },
  {
   "cell_type": "code",
   "execution_count": 25,
   "metadata": {},
   "outputs": [
    {
     "data": {
      "text/plain": [
       "2011"
      ]
     },
     "execution_count": 25,
     "metadata": {},
     "output_type": "execute_result"
    }
   ],
   "source": [
    "totalsize=waterDf.select(\"Potability\").count()\n",
    "totalsize"
   ]
  },
  {
   "cell_type": "code",
   "execution_count": 26,
   "metadata": {},
   "outputs": [
    {
     "data": {
      "text/plain": [
       "811"
      ]
     },
     "execution_count": 26,
     "metadata": {},
     "output_type": "execute_result"
    }
   ],
   "source": [
    "pot_1=waterDf.filter(waterDf[\"Potability\"]==1).count()\n",
    "pot_1"
   ]
  },
  {
   "cell_type": "code",
   "execution_count": 28,
   "metadata": {},
   "outputs": [
    {
     "data": {
      "text/plain": [
       "0.4032819492789657"
      ]
     },
     "execution_count": 28,
     "metadata": {},
     "output_type": "execute_result"
    }
   ],
   "source": [
    "potability_yes=pot_1/totalsize\n",
    "potability_yes"
   ]
  },
  {
   "cell_type": "code",
   "execution_count": 29,
   "metadata": {},
   "outputs": [
    {
     "data": {
      "text/plain": [
       "1200"
      ]
     },
     "execution_count": 29,
     "metadata": {},
     "output_type": "execute_result"
    }
   ],
   "source": [
    "pot_0=waterDf.filter(waterDf[\"Potability\"]==0).count()\n",
    "pot_0"
   ]
  },
  {
   "cell_type": "code",
   "execution_count": 30,
   "metadata": {},
   "outputs": [
    {
     "data": {
      "text/plain": [
       "0.5967180507210343"
      ]
     },
     "execution_count": 30,
     "metadata": {},
     "output_type": "execute_result"
    }
   ],
   "source": [
    "potability_no=pot_0/totalsize\n",
    "potability_no"
   ]
  },
  {
   "cell_type": "code",
   "execution_count": null,
   "metadata": {},
   "outputs": [],
   "source": []
  }
 ],
 "metadata": {
  "kernelspec": {
   "display_name": "Python 3",
   "language": "python",
   "name": "python3"
  },
  "language_info": {
   "codemirror_mode": {
    "name": "ipython",
    "version": 3
   },
   "file_extension": ".py",
   "mimetype": "text/x-python",
   "name": "python",
   "nbconvert_exporter": "python",
   "pygments_lexer": "ipython3",
   "version": "3.7.4"
  }
 },
 "nbformat": 4,
 "nbformat_minor": 2
}
