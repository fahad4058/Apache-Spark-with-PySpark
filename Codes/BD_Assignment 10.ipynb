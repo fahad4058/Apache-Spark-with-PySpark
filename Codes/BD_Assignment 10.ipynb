{
 "cells": [
  {
   "cell_type": "code",
   "execution_count": 1,
   "metadata": {},
   "outputs": [],
   "source": [
    "import os\n",
    "import sys\n",
    "\n",
    "os.environ['PYSPARK_PYTHON'] = sys.executable\n",
    "os.environ['PYSPARK_DRIVER_PYTHON'] = sys.executable\n",
    "\n",
    "import findspark\n",
    "findspark.init()\n",
    "findspark.find()\n",
    "import pyspark\n",
    "\n",
    "from pyspark.sql import SparkSession\n",
    "from pyspark import SparkContext, SparkConf\n",
    "from pyspark.sql import SQLContext\n",
    "\n",
    "conf = pyspark.SparkConf().setAppName('appName').setMaster('local')\n",
    "sc = pyspark.SparkContext(conf=conf)\n",
    "spark = SparkSession(sc)\n",
    "sqlcontext=SQLContext(sc)"
   ]
  },
  {
   "cell_type": "code",
   "execution_count": 2,
   "metadata": {},
   "outputs": [],
   "source": [
    "fruitsDF=spark.read.csv(\"fruits.csv\",header=True,inferSchema=True)"
   ]
  },
  {
   "cell_type": "code",
   "execution_count": 3,
   "metadata": {},
   "outputs": [
    {
     "name": "stdout",
     "output_type": "stream",
     "text": [
      "+---------+------+------+\n",
      "|PulpColor| Taste|Edible|\n",
      "+---------+------+------+\n",
      "|      red|  sour|   yes|\n",
      "|      red|  sour|    no|\n",
      "|      red|bitter|    no|\n",
      "|   yellow| sweet|   yes|\n",
      "|   yellow|bitter|    no|\n",
      "|    green|  sour|   yes|\n",
      "|    green| sweet|   yes|\n",
      "|    green|bitter|    no|\n",
      "+---------+------+------+\n",
      "\n"
     ]
    }
   ],
   "source": [
    "fruitsDF.show()"
   ]
  },
  {
   "cell_type": "code",
   "execution_count": 6,
   "metadata": {},
   "outputs": [
    {
     "data": {
      "text/plain": [
       "8"
      ]
     },
     "execution_count": 6,
     "metadata": {},
     "output_type": "execute_result"
    }
   ],
   "source": [
    "sizeDf=fruitsDF.count()\n",
    "sizeDf"
   ]
  },
  {
   "cell_type": "code",
   "execution_count": 12,
   "metadata": {},
   "outputs": [
    {
     "data": {
      "text/plain": [
       "4"
      ]
     },
     "execution_count": 12,
     "metadata": {},
     "output_type": "execute_result"
    }
   ],
   "source": [
    "fruitsDF.filter(fruitsDF[\"Edible\"]==\"yes\").count()"
   ]
  },
  {
   "cell_type": "code",
   "execution_count": 13,
   "metadata": {},
   "outputs": [],
   "source": [
    "yes_count=fruitsDF.filter(fruitsDF[\"Edible\"]==\"yes\").count()"
   ]
  },
  {
   "cell_type": "code",
   "execution_count": 14,
   "metadata": {},
   "outputs": [],
   "source": [
    "p_yes=yes_count/sizeDf"
   ]
  },
  {
   "cell_type": "code",
   "execution_count": 15,
   "metadata": {},
   "outputs": [
    {
     "data": {
      "text/plain": [
       "0.5"
      ]
     },
     "execution_count": 15,
     "metadata": {},
     "output_type": "execute_result"
    }
   ],
   "source": [
    "p_yes"
   ]
  },
  {
   "cell_type": "code",
   "execution_count": 16,
   "metadata": {},
   "outputs": [],
   "source": [
    "no_count=fruitsDF.filter(fruitsDF[\"Edible\"]==\"no\").count()"
   ]
  },
  {
   "cell_type": "code",
   "execution_count": 17,
   "metadata": {},
   "outputs": [],
   "source": [
    "p_no=no_count/sizeDf"
   ]
  },
  {
   "cell_type": "code",
   "execution_count": 18,
   "metadata": {},
   "outputs": [
    {
     "data": {
      "text/plain": [
       "(0.5, 0.5)"
      ]
     },
     "execution_count": 18,
     "metadata": {},
     "output_type": "execute_result"
    }
   ],
   "source": [
    "p_yes,p_no"
   ]
  },
  {
   "cell_type": "code",
   "execution_count": 21,
   "metadata": {},
   "outputs": [],
   "source": [
    "red_yes=fruitsDF.filter((fruitsDF[\"PulpColor\"]==\"red\") & (fruitsDF[\"Edible\"]==\"yes\")).count()"
   ]
  },
  {
   "cell_type": "code",
   "execution_count": 22,
   "metadata": {},
   "outputs": [],
   "source": [
    "red_no=fruitsDF.filter((fruitsDF[\"PulpColor\"]==\"red\") & (fruitsDF[\"Edible\"]==\"no\")).count()"
   ]
  },
  {
   "cell_type": "code",
   "execution_count": 24,
   "metadata": {},
   "outputs": [],
   "source": [
    "red_tot=fruitsDF.filter(fruitsDF[\"PulpColor\"]==\"red\").count()"
   ]
  },
  {
   "cell_type": "code",
   "execution_count": 25,
   "metadata": {},
   "outputs": [],
   "source": [
    "p_red_yes=red_yes/red_tot"
   ]
  },
  {
   "cell_type": "code",
   "execution_count": 26,
   "metadata": {},
   "outputs": [],
   "source": [
    "p_red_no=red_no/red_tot"
   ]
  },
  {
   "cell_type": "code",
   "execution_count": 27,
   "metadata": {},
   "outputs": [
    {
     "data": {
      "text/plain": [
       "(0.3333333333333333, 0.6666666666666666)"
      ]
     },
     "execution_count": 27,
     "metadata": {},
     "output_type": "execute_result"
    }
   ],
   "source": [
    "p_red_yes,p_red_no"
   ]
  },
  {
   "cell_type": "code",
   "execution_count": 28,
   "metadata": {},
   "outputs": [
    {
     "data": {
      "text/plain": [
       "(0.5, 0.5)"
      ]
     },
     "execution_count": 28,
     "metadata": {},
     "output_type": "execute_result"
    }
   ],
   "source": [
    "p_yes,p_no"
   ]
  },
  {
   "cell_type": "code",
   "execution_count": 29,
   "metadata": {},
   "outputs": [],
   "source": [
    "# we are only concerned with yellow and bitter "
   ]
  },
  {
   "cell_type": "code",
   "execution_count": 30,
   "metadata": {},
   "outputs": [
    {
     "data": {
      "text/plain": [
       "(0.5, 0.5)"
      ]
     },
     "execution_count": 30,
     "metadata": {},
     "output_type": "execute_result"
    }
   ],
   "source": [
    "yellow_yes=fruitsDF.filter((fruitsDF[\"PulpColor\"]==\"yellow\") & (fruitsDF[\"Edible\"]==\"yes\")).count()\n",
    "yellow_no=fruitsDF.filter((fruitsDF[\"PulpColor\"]==\"yellow\") & (fruitsDF[\"Edible\"]==\"no\")).count()\n",
    "yellow_tot=fruitsDF.filter(fruitsDF[\"PulpColor\"]==\"yellow\").count()\n",
    "p_yellow_yes=yellow_yes/yellow_tot\n",
    "p_yellow_no=yellow_no/yellow_tot\n",
    "p_yellow_yes,p_yellow_no"
   ]
  },
  {
   "cell_type": "code",
   "execution_count": 31,
   "metadata": {},
   "outputs": [
    {
     "data": {
      "text/plain": [
       "(0.6666666666666666, 0.3333333333333333)"
      ]
     },
     "execution_count": 31,
     "metadata": {},
     "output_type": "execute_result"
    }
   ],
   "source": [
    "sour_yes=fruitsDF.filter((fruitsDF[\"Taste\"]==\"sour\") & (fruitsDF[\"Edible\"]==\"yes\")).count()\n",
    "sour_no=fruitsDF.filter((fruitsDF[\"Taste\"]==\"sour\") & (fruitsDF[\"Edible\"]==\"no\")).count()\n",
    "sour_tot=fruitsDF.filter(fruitsDF[\"Taste\"]==\"sour\").count()\n",
    "p_sour_yes=sour_yes/sour_tot\n",
    "p_sour_no=sour_no/sour_tot\n",
    "p_sour_yes,p_sour_no"
   ]
  },
  {
   "cell_type": "code",
   "execution_count": 37,
   "metadata": {},
   "outputs": [
    {
     "name": "stdout",
     "output_type": "stream",
     "text": [
      "0.16666666666666666 Liklihood Yes > liklihood No 0.08333333333333333 Its Edible\n"
     ]
    }
   ],
   "source": [
    "# yellow, sour, yes\n",
    "liklihood_yes=p_yellow_yes*p_sour_yes*p_yes\n",
    "liklihood_no=p_yellow_no*p_sour_no*p_no\n",
    "if liklihood_yes > liklihood_no:\n",
    "    print(liklihood_yes,\"Liklihood Yes > liklihood No\",liklihood_no,\"Its Edible\")\n",
    "else:\n",
    "    print(liklihood_no,\"No its not Edible\")"
   ]
  },
  {
   "cell_type": "code",
   "execution_count": null,
   "metadata": {},
   "outputs": [],
   "source": []
  }
 ],
 "metadata": {
  "kernelspec": {
   "display_name": "Python 3",
   "language": "python",
   "name": "python3"
  },
  "language_info": {
   "codemirror_mode": {
    "name": "ipython",
    "version": 3
   },
   "file_extension": ".py",
   "mimetype": "text/x-python",
   "name": "python",
   "nbconvert_exporter": "python",
   "pygments_lexer": "ipython3",
   "version": "3.7.4"
  }
 },
 "nbformat": 4,
 "nbformat_minor": 2
}
