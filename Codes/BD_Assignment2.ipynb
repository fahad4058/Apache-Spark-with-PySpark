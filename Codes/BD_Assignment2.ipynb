{
 "cells": [
  {
   "cell_type": "markdown",
   "metadata": {},
   "source": [
    "# Initializing Spark\n",
    "********************************************"
   ]
  },
  {
   "cell_type": "code",
   "execution_count": 1,
   "metadata": {},
   "outputs": [],
   "source": [
    "import os\n",
    "import sys\n",
    "\n",
    "os.environ['PYSPARK_PYTHON'] = sys.executable\n",
    "os.environ['PYSPARK_DRIVER_PYTHON'] = sys.executable\n",
    "\n",
    "import findspark\n",
    "findspark.init()\n",
    "findspark.find()\n",
    "import pyspark\n",
    "\n",
    "from pyspark.sql import SparkSession\n",
    "from pyspark import SparkContext, SparkConf\n",
    "from pyspark.sql import SQLContext\n",
    "\n",
    "conf = pyspark.SparkConf().setAppName('appName').setMaster('local')\n",
    "sc = pyspark.SparkContext(conf=conf)\n",
    "spark = SparkSession(sc)\n",
    "sqlcontext=SQLContext(sc)"
   ]
  },
  {
   "cell_type": "markdown",
   "metadata": {},
   "source": [
    "\n",
    "# Knowledge Questions\n",
    "*******************************************************************\n",
    "\n",
    "### Spark Assumptions and Spark Optimization\n",
    "\n",
    "#### Some Facts:\n",
    "##### 1. Spark has immutable Dataframes\n",
    "##### 2. Can run on multiple Clusters\n",
    "##### 3. It is always clear on how the values were created\n",
    "##### 4. Lazy Transformations and Eager Actions\n",
    "##### 5. Transformation results into new modified Dataframes\n",
    "##### 6. The \"explain()\" function is used to look at the physical plan Spark has created\n",
    "##### 7. If we have to filter and sort some data, the filter operation is executed before the sort operation\n",
    "##### 8. Functional Programming\n",
    "##### 9. Distributive Property and homomorphism\n",
    "##### 10. Spark by default saves the data in several partitions\n",
    "\n"
   ]
  },
  {
   "cell_type": "markdown",
   "metadata": {},
   "source": [
    "\n",
    "\n",
    "# Programming \n",
    "*********************************************************************\n",
    "\n",
    "### Selection\n",
    "\n",
    "You are given a data set called \"German/US Trending Youtube Video Statistics\" which contains the following columns:\n",
    "\n",
    "    video_id: contains the video ID\n",
    "    trending_date: contains the date on which the video has been trending.\n",
    "    title: the title of the video\n",
    "    channel_title: the name of the channel that published the video.\n",
    "    category_id: the category id of the video\n",
    "    publish_time: publish date and time of the video\n",
    "    tags: the tags of the video.\n",
    "    views: number of views.\n",
    "    likes: number of likes.\n",
    "    dislikes: number of dislikes.\n",
    "    You are asked to select only the following columns: \"video_id\", \"trending_date\", \"title\", \"views\", into a new dataframe.\n",
    "\n",
    "Please write the corresponding line of code. The code needs to be in one line, and one instruction\n",
    "\n",
    "Note: Name of dataframe is \"dataframe\"\n",
    "\n",
    "Name of new dataframe is \"videoStats\"\n",
    "\n",
    " "
   ]
  },
  {
   "cell_type": "code",
   "execution_count": 24,
   "metadata": {},
   "outputs": [],
   "source": [
    "dataframe=spark.read.csv(\"USvideos.csv\",header=True,inferSchema=True)"
   ]
  },
  {
   "cell_type": "code",
   "execution_count": 25,
   "metadata": {},
   "outputs": [
    {
     "name": "stdout",
     "output_type": "stream",
     "text": [
      "root\n",
      " |-- video_id: string (nullable = true)\n",
      " |-- trending_date: string (nullable = true)\n",
      " |-- title: string (nullable = true)\n",
      " |-- channel_title: string (nullable = true)\n",
      " |-- category_id: string (nullable = true)\n",
      " |-- publish_time: string (nullable = true)\n",
      " |-- tags: string (nullable = true)\n",
      " |-- views: string (nullable = true)\n",
      " |-- likes: string (nullable = true)\n",
      " |-- dislikes: string (nullable = true)\n",
      " |-- comment_count: string (nullable = true)\n",
      " |-- thumbnail_link: string (nullable = true)\n",
      " |-- comments_disabled: string (nullable = true)\n",
      " |-- ratings_disabled: string (nullable = true)\n",
      " |-- video_error_or_removed: string (nullable = true)\n",
      " |-- description: string (nullable = true)\n",
      "\n"
     ]
    }
   ],
   "source": [
    "dataframe.printSchema()"
   ]
  },
  {
   "cell_type": "code",
   "execution_count": 26,
   "metadata": {},
   "outputs": [],
   "source": [
    "videoStats=dataframe.select(\"video_id\",\"trending_date\",\"title\",\"views\")"
   ]
  },
  {
   "cell_type": "code",
   "execution_count": 27,
   "metadata": {},
   "outputs": [
    {
     "name": "stdout",
     "output_type": "stream",
     "text": [
      "+-----------+-------------+--------------------+-------+\n",
      "|   video_id|trending_date|               title|  views|\n",
      "+-----------+-------------+--------------------+-------+\n",
      "|2kyS6SvSYSE|     17.14.11|WE WANT TO TALK A...| 748374|\n",
      "|1ZAPwfrtAFY|     17.14.11|The Trump Preside...|2418783|\n",
      "|5qpjK5DgCt4|     17.14.11|Racist Superman |...|3191434|\n",
      "|puqaWrEC7tY|     17.14.11|Nickelback Lyrics...| 343168|\n",
      "|d380meD0W0M|     17.14.11|I Dare You: GOING...|2095731|\n",
      "|gHZ1Qz0KiKM|     17.14.11|2 Weeks with iPho...| 119180|\n",
      "|39idVpFF7NQ|     17.14.11|Roy Moore & Jeff ...|2103417|\n",
      "|nc99ccSXST0|     17.14.11|5 Ice Cream Gadge...| 817732|\n",
      "|jr9QtXwC9vc|     17.14.11|The Greatest Show...| 826059|\n",
      "|TUmyygCMMGA|     17.14.11|Why the rise of t...| 256426|\n",
      "|9wRQljFNDW8|     17.14.11|Dion Lewis' 103-Y...|  81377|\n",
      "|VifQlJit6A0|     17.14.11|(SPOILERS) 'Shiva...| 104578|\n",
      "|5E4ZBSInqUU|     17.14.11|Marshmello - Bloc...| 687582|\n",
      "|GgVmn66oK_A|     17.14.11|Which Countries A...| 544770|\n",
      "|TaTleo4cOs8|     17.14.11|SHOPPING FOR NEW ...| 207532|\n",
      "|kgaO45SyaO4|     17.14.11|    The New SpotMini|  75752|\n",
      "|ZAQs-ctOqXQ|     17.14.11|One Change That W...| 295639|\n",
      "|YVfyYrEmzgM|     17.14.11|How does your bod...|  78044|\n",
      "|eNSN6qet1kE|     17.14.11|HomeMade Electric...|  97007|\n",
      "|B5HORANmzHw|     17.14.11|Founding An Inbre...| 223871|\n",
      "+-----------+-------------+--------------------+-------+\n",
      "only showing top 20 rows\n",
      "\n"
     ]
    }
   ],
   "source": [
    "videoStats.show()"
   ]
  },
  {
   "cell_type": "markdown",
   "metadata": {},
   "source": [
    "### Columns Creation\n",
    "\n",
    "Now after selecting the columns we are interested in, we would like to create a new column inside \"videoStats\" dataframe with the name \"new\" that contains the views divided by 100.\n",
    "\n",
    "Example:\n",
    "\n",
    "row\tviews\tnew\n",
    "\n",
    "1\t10000\t100\n",
    " \n",
    "\n",
    " \n",
    "\n",
    " \n",
    " "
   ]
  },
  {
   "cell_type": "code",
   "execution_count": 28,
   "metadata": {},
   "outputs": [
    {
     "name": "stdout",
     "output_type": "stream",
     "text": [
      "+-----------+-------------+--------------------+-------+--------+\n",
      "|   video_id|trending_date|               title|  views|     new|\n",
      "+-----------+-------------+--------------------+-------+--------+\n",
      "|2kyS6SvSYSE|     17.14.11|WE WANT TO TALK A...| 748374| 7483.74|\n",
      "|1ZAPwfrtAFY|     17.14.11|The Trump Preside...|2418783|24187.83|\n",
      "|5qpjK5DgCt4|     17.14.11|Racist Superman |...|3191434|31914.34|\n",
      "|puqaWrEC7tY|     17.14.11|Nickelback Lyrics...| 343168| 3431.68|\n",
      "|d380meD0W0M|     17.14.11|I Dare You: GOING...|2095731|20957.31|\n",
      "|gHZ1Qz0KiKM|     17.14.11|2 Weeks with iPho...| 119180|  1191.8|\n",
      "|39idVpFF7NQ|     17.14.11|Roy Moore & Jeff ...|2103417|21034.17|\n",
      "|nc99ccSXST0|     17.14.11|5 Ice Cream Gadge...| 817732| 8177.32|\n",
      "|jr9QtXwC9vc|     17.14.11|The Greatest Show...| 826059| 8260.59|\n",
      "|TUmyygCMMGA|     17.14.11|Why the rise of t...| 256426| 2564.26|\n",
      "|9wRQljFNDW8|     17.14.11|Dion Lewis' 103-Y...|  81377|  813.77|\n",
      "|VifQlJit6A0|     17.14.11|(SPOILERS) 'Shiva...| 104578| 1045.78|\n",
      "|5E4ZBSInqUU|     17.14.11|Marshmello - Bloc...| 687582| 6875.82|\n",
      "|GgVmn66oK_A|     17.14.11|Which Countries A...| 544770|  5447.7|\n",
      "|TaTleo4cOs8|     17.14.11|SHOPPING FOR NEW ...| 207532| 2075.32|\n",
      "|kgaO45SyaO4|     17.14.11|    The New SpotMini|  75752|  757.52|\n",
      "|ZAQs-ctOqXQ|     17.14.11|One Change That W...| 295639| 2956.39|\n",
      "|YVfyYrEmzgM|     17.14.11|How does your bod...|  78044|  780.44|\n",
      "|eNSN6qet1kE|     17.14.11|HomeMade Electric...|  97007|  970.07|\n",
      "|B5HORANmzHw|     17.14.11|Founding An Inbre...| 223871| 2238.71|\n",
      "+-----------+-------------+--------------------+-------+--------+\n",
      "only showing top 20 rows\n",
      "\n"
     ]
    }
   ],
   "source": [
    "videoStats.withColumn(\"new\",videoStats[\"views\"]/100).show()"
   ]
  },
  {
   "cell_type": "markdown",
   "metadata": {},
   "source": [
    "### Statistics\n",
    "\n",
    "\n",
    "you are provided with a dataframe called \"videoStats\" about \"German Trending Youtube Video Statistics\" that contains the following columns:\n",
    "\n",
    "        video_id: contains the video ID\n",
    "        trending_date: contains the date on which the video has been trending.\n",
    "        title: the title of the video\n",
    "        views: number of views.\n",
    "\n",
    "\n",
    "Note: for the following questions you do not need to put the results on a new variable.\n",
    "\n",
    "\n",
    " \n",
    "\n",
    "    1. Please write the line of code to calculate the mean of the views:\n",
    "\n",
    "    2. Please write the line of code to calculate the standard deviation of the population of the views:\n",
    "\n",
    "    3. Please write the line of code to find the maximum of the views:\n",
    "\n"
   ]
  },
  {
   "cell_type": "code",
   "execution_count": 29,
   "metadata": {},
   "outputs": [
    {
     "data": {
      "text/plain": [
       "['video_id', 'trending_date', 'title', 'views']"
      ]
     },
     "execution_count": 29,
     "metadata": {},
     "output_type": "execute_result"
    }
   ],
   "source": [
    "videoStats.columns"
   ]
  },
  {
   "cell_type": "code",
   "execution_count": 30,
   "metadata": {},
   "outputs": [
    {
     "name": "stdout",
     "output_type": "stream",
     "text": [
      "+------------------+\n",
      "|        avg(views)|\n",
      "+------------------+\n",
      "|2360784.6382573447|\n",
      "+------------------+\n",
      "\n"
     ]
    }
   ],
   "source": [
    "videoStats.agg({\"views\":\"mean\"}).show()"
   ]
  },
  {
   "cell_type": "code",
   "execution_count": 32,
   "metadata": {},
   "outputs": [
    {
     "name": "stdout",
     "output_type": "stream",
     "text": [
      "+-----------------+\n",
      "|    stddev(views)|\n",
      "+-----------------+\n",
      "|7394113.759703937|\n",
      "+-----------------+\n",
      "\n"
     ]
    }
   ],
   "source": [
    "videoStats.agg({\"views\":\"std\"}).show()"
   ]
  },
  {
   "cell_type": "code",
   "execution_count": 33,
   "metadata": {},
   "outputs": [
    {
     "name": "stdout",
     "output_type": "stream",
     "text": [
      "+----------+\n",
      "|max(views)|\n",
      "+----------+\n",
      "|     99999|\n",
      "+----------+\n",
      "\n"
     ]
    }
   ],
   "source": [
    "videoStats.agg({\"views\":\"max\"}).show()\n",
    "\n"
   ]
  },
  {
   "cell_type": "markdown",
   "metadata": {},
   "source": [
    "### Grouping and Aggregation\n",
    "\n",
    "you are provided with a dataframe called \"videoStats\" about \"German Trending Youtube Video Statistics\" that contains the following columns:\n",
    "\n",
    "    video_id: contains the video ID\n",
    "    trending_date: contains the date of which the video has been in trending.\n",
    "    title: the title of the video\n",
    "    views: number of views.\n",
    "\n",
    "\n",
    "Group the dataframe by the \"trending_date\" column and aggregate by the mean of the \"views\" column. The result should be put in a new dataframe named \"videoStatGroup\""
   ]
  },
  {
   "cell_type": "code",
   "execution_count": 43,
   "metadata": {},
   "outputs": [
    {
     "data": {
      "text/plain": [
       "['video_id', 'trending_date', 'title', 'views']"
      ]
     },
     "execution_count": 43,
     "metadata": {},
     "output_type": "execute_result"
    }
   ],
   "source": [
    "videoStats.columns"
   ]
  },
  {
   "cell_type": "code",
   "execution_count": 44,
   "metadata": {},
   "outputs": [
    {
     "name": "stdout",
     "output_type": "stream",
     "text": [
      "+--------------------+-------------+--------------------+--------+\n",
      "|            video_id|trending_date|               title|   views|\n",
      "+--------------------+-------------+--------------------+--------+\n",
      "|         2kyS6SvSYSE|     17.14.11|WE WANT TO TALK A...|  748374|\n",
      "|         1ZAPwfrtAFY|     17.14.11|The Trump Preside...| 2418783|\n",
      "|         5qpjK5DgCt4|     17.14.11|Racist Superman |...| 3191434|\n",
      "|         puqaWrEC7tY|     17.14.11|Nickelback Lyrics...|  343168|\n",
      "|         d380meD0W0M|     17.14.11|I Dare You: GOING...| 2095731|\n",
      "|         gHZ1Qz0KiKM|     17.14.11|2 Weeks with iPho...|  119180|\n",
      "|         39idVpFF7NQ|     17.14.11|Roy Moore & Jeff ...| 2103417|\n",
      "|         nc99ccSXST0|     17.14.11|5 Ice Cream Gadge...|  817732|\n",
      "|         jr9QtXwC9vc|     17.14.11|The Greatest Show...|  826059|\n",
      "|         TUmyygCMMGA|     17.14.11|Why the rise of t...|  256426|\n",
      "|         9wRQljFNDW8|     17.14.11|Dion Lewis' 103-Y...|   81377|\n",
      "|         VifQlJit6A0|     17.14.11|(SPOILERS) 'Shiva...|  104578|\n",
      "|         5E4ZBSInqUU|     17.14.11|Marshmello - Bloc...|  687582|\n",
      "|         GgVmn66oK_A|     17.14.11|Which Countries A...|  544770|\n",
      "|         TaTleo4cOs8|     17.14.11|SHOPPING FOR NEW ...|  207532|\n",
      "|         kgaO45SyaO4|     17.14.11|    The New SpotMini|   75752|\n",
      "|         ZAQs-ctOqXQ|     17.14.11|One Change That W...|  295639|\n",
      "|         YVfyYrEmzgM|     17.14.11|How does your bod...|   78044|\n",
      "|         eNSN6qet1kE|     17.14.11|HomeMade Electric...|   97007|\n",
      "|         B5HORANmzHw|     17.14.11|Founding An Inbre...|  223871|\n",
      "|         vU14JY3x81A|     17.14.11|How Can You Contr...|  115791|\n",
      "|         6VhU_T463sU|     17.14.11|The Making of Hel...|  224019|\n",
      "|         _-aDHxoblr4|     17.14.11|Is It Dangerous T...|  144418|\n",
      "|         JBZTZZAcFTw|     17.14.11|What $4,800 Will ...|  145921|\n",
      "|         lZ68j2J_GOM|     17.14.11|Using Other Peopl...|   33980|\n",
      "|         dRpNZV18N_g|     17.14.11|SPAGHETTI BURRITO...|  223077|\n",
      "|         fcVjitaM3LY|     17.14.11|78557 and Proth P...|   80705|\n",
      "|         qeWvgZLz9yU|     17.14.11|A Smart... MUG?! ...|  120727|\n",
      "|         iIxy3JN3-jc|     17.14.11|LeBron James admi...|   27943|\n",
      "|         n30k5CwLhS4|     17.14.11|Nick Andopolis: D...|   50867|\n",
      "|         U0hAC8O7RoI|     17.14.11|I TOOK THE $3,000...|   98378|\n",
      "|         CBVGjS_EJok|     17.14.11|Amazon Christmas ...|   26000|\n",
      "|         n1WpP7iowLc|     17.14.11|Eminem - Walk On ...|17158531|\n",
      "|         hz7ukDjuq4w|     17.14.11|What's Inside a D...|   67661|\n",
      "|         p2hJxyF7mok|     17.14.11|New Emirates Firs...|  141148|\n",
      "|         0mlNzVSJrT0|     17.14.11|Me-O Cats Commercial|   98966|\n",
      "|         Om_zGhJLZ5U|     17.14.11|TL;DW - Every DCE...|  288922|\n",
      "|         e_7zHm7GsYc|     17.14.11|Hunter Hayes - Yo...|   13917|\n",
      "|         dQvIbulWCM4|     17.14.11|Celebrities on Th...|  605932|\n",
      "|         zZ9FciUx6gs|     17.14.11|Nickelback - The ...|   57169|\n",
      "|         PaJCFHXcWmM|     17.14.11|   U2 - The Blackout|   60506|\n",
      "|         goP4Z5wyOlM|     17.14.11|Iraq-Iran earthqu...|   34785|\n",
      "|         NZFhMSgbKKM|     17.14.11|Dennis Smith Jr. ...|     945|\n",
      "|         0tO_l_Ed5Rs|     17.14.11|Matthew Santoro -...|  328330|\n",
      "|         STI2fI7sKMo|     17.14.11|AFFAIRS, EX BOYFR...|  321053|\n",
      "|         BWPrk9PUwQE|     17.14.11|iPhone X vs Makeu...| 1456472|\n",
      "|         ogYum4kWXgk|     17.14.11|People are Awesom...|   69844|\n",
      "|         sbcbvuitiTc|     17.14.11|Stephon Marbury a...|  956169|\n",
      "|         zNqCVTs38nU|     17.14.11|Heidelberg's nift...|    4569|\n",
      "|         DM-ni_LSOFE|     17.14.11|ELDERS REACT TO i...| 2045386|\n",
      "|         0PpNlNJ6Nng|     17.14.11|Will It Watermarb...| 1842393|\n",
      "|         c-3JxzN2u34|     17.14.11|Lin-Manuel Mirand...|    6473|\n",
      "|         069D0NmW39o|     17.14.11|Wildest Superstar...| 1044813|\n",
      "|\\nSubscribe to WW...|         null|                null|    null|\n",
      "|\\nVisit WWE.com: ...|         null|                null|    null|\n",
      "|\\nMust-See WWE vi...|         null|                null|    null|\n",
      "|         9t9u_yPEidY|     17.14.11|Jennifer Lopez - ...| 9548677|\n",
      "|         KODzih-pYlU|     17.14.11|BLIND(folded) CAK...|  197062|\n",
      "|         8NHA23f7LvU|     17.14.11|Jason Momoa Wows ...| 1496225|\n",
      "|         w0XYVssCKjw|     17.14.11|JaVale McGee's Pa...|  162597|\n",
      "+--------------------+-------------+--------------------+--------+\n",
      "only showing top 60 rows\n",
      "\n"
     ]
    }
   ],
   "source": [
    "videoStats.show(60)"
   ]
  },
  {
   "cell_type": "code",
   "execution_count": 45,
   "metadata": {},
   "outputs": [
    {
     "name": "stdout",
     "output_type": "stream",
     "text": [
      "+--------------------+------------------+\n",
      "|       trending_date|        avg(views)|\n",
      "+--------------------+------------------+\n",
      "|            18.08.05|       4717125.855|\n",
      "|            17.20.11|       1285000.555|\n",
      "|            17.09.12|       1472959.565|\n",
      "|            18.14.02|1711845.1859296483|\n",
      "|            18.20.03| 2572119.185929648|\n",
      "|            18.04.05|        3779207.67|\n",
      "|            18.21.02|        1271300.39|\n",
      "| 2018\\n\\nStill ha...|              null|\n",
      "|             fitness|              null|\n",
      "|            18.30.04|        4089305.62|\n",
      "| Twitter &amp; Wi...|              null|\n",
      "|            18.06.05|       4192681.855|\n",
      "|            18.11.02|       2025360.815|\n",
      "|            18.15.03|2139255.1959798997|\n",
      "|            18.08.06|       5542179.725|\n",
      "|            18.09.06|        5458786.25|\n",
      "|            18.08.01|        1159250.43|\n",
      "|            18.20.01|         750397.96|\n",
      "| at 10/9c on Nati...|              null|\n",
      "| Then and Now: Pr...|              null|\n",
      "+--------------------+------------------+\n",
      "only showing top 20 rows\n",
      "\n"
     ]
    }
   ],
   "source": [
    "videoStats.groupBy(\"trending_date\").agg({\"views\":\"mean\"}).show()"
   ]
  },
  {
   "cell_type": "code",
   "execution_count": null,
   "metadata": {},
   "outputs": [],
   "source": []
  }
 ],
 "metadata": {
  "kernelspec": {
   "display_name": "Python 3",
   "language": "python",
   "name": "python3"
  },
  "language_info": {
   "codemirror_mode": {
    "name": "ipython",
    "version": 3
   },
   "file_extension": ".py",
   "mimetype": "text/x-python",
   "name": "python",
   "nbconvert_exporter": "python",
   "pygments_lexer": "ipython3",
   "version": "3.7.4"
  }
 },
 "nbformat": 4,
 "nbformat_minor": 2
}
