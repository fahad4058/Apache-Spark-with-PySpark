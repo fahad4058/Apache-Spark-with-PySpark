{
 "cells": [
  {
   "cell_type": "code",
   "execution_count": 1,
   "metadata": {},
   "outputs": [],
   "source": [
    "import os\n",
    "import sys\n",
    "\n",
    "os.environ['PYSPARK_PYTHON'] = sys.executable\n",
    "os.environ['PYSPARK_DRIVER_PYTHON'] = sys.executable\n",
    "\n",
    "import findspark\n",
    "findspark.init()\n",
    "findspark.find()\n",
    "import pyspark\n",
    "\n",
    "from pyspark.sql import SparkSession\n",
    "from pyspark import SparkContext, SparkConf\n",
    "from pyspark.sql import SQLContext\n",
    "\n",
    "conf = pyspark.SparkConf().setAppName('appName').setMaster('local')\n",
    "sc = pyspark.SparkContext(conf=conf)\n",
    "spark = SparkSession(sc)\n",
    "sqlcontext=SQLContext(sc)"
   ]
  },
  {
   "cell_type": "code",
   "execution_count": 2,
   "metadata": {},
   "outputs": [
    {
     "name": "stdout",
     "output_type": "stream",
     "text": [
      "+---+------+---------+\n",
      "|Age|Salary|Purchased|\n",
      "+---+------+---------+\n",
      "| 59| 88000|        0|\n",
      "| 35| 61000|        1|\n",
      "| 37| 70000|        0|\n",
      "| 52| 21000|        0|\n",
      "| 48|141000|        1|\n",
      "| 37| 93000|        0|\n",
      "| 37| 62000|        1|\n",
      "| 48|138000|        0|\n",
      "| 41| 79000|        1|\n",
      "| 37| 78000|        0|\n",
      "| 39|134000|        0|\n",
      "| 49| 89000|        0|\n",
      "| 55| 39000|        0|\n",
      "| 37| 77000|        1|\n",
      "| 35| 57000|        1|\n",
      "| 36| 63000|        1|\n",
      "| 42| 73000|        0|\n",
      "+---+------+---------+\n",
      "\n"
     ]
    }
   ],
   "source": [
    "df=spark.read.csv(\"df.csv\",header=True,inferSchema=True)\n",
    "df.show()"
   ]
  },
  {
   "cell_type": "code",
   "execution_count": 3,
   "metadata": {},
   "outputs": [
    {
     "name": "stdout",
     "output_type": "stream",
     "text": [
      "root\n",
      " |-- Age: integer (nullable = true)\n",
      " |-- Salary: integer (nullable = true)\n",
      " |-- Purchased: integer (nullable = true)\n",
      "\n"
     ]
    }
   ],
   "source": [
    "df.printSchema()"
   ]
  },
  {
   "cell_type": "code",
   "execution_count": 4,
   "metadata": {},
   "outputs": [
    {
     "data": {
      "text/plain": [
       "(45.5, 67.16666666666667)"
      ]
     },
     "execution_count": 4,
     "metadata": {},
     "output_type": "execute_result"
    }
   ],
   "source": [
    "mean_age_0=df.filter(df[\"Purchased\"]==0).groupBy(\"Purchased\").agg({\"Age\":\"mean\"}).collect()[0][1]\n",
    "var_age_0=df.filter(df[\"Purchased\"]==0).groupBy(\"Purchased\").agg({\"Age\":\"variance\"}).collect()[0][1]\n",
    "mean_age_0,var_age_0"
   ]
  },
  {
   "cell_type": "code",
   "execution_count": 5,
   "metadata": {},
   "outputs": [
    {
     "data": {
      "text/plain": [
       "(38.42857142857143, 21.952380952380953)"
      ]
     },
     "execution_count": 5,
     "metadata": {},
     "output_type": "execute_result"
    }
   ],
   "source": [
    "mean_age_1=df.filter(df[\"Purchased\"]==1).groupBy(\"Purchased\").agg({\"Age\":\"mean\"}).collect()[0][1]\n",
    "var_age_1=df.filter(df[\"Purchased\"]==1).groupBy(\"Purchased\").agg({\"Age\":\"variance\"}).collect()[0][1]\n",
    "mean_age_1,var_age_1"
   ]
  },
  {
   "cell_type": "code",
   "execution_count": 6,
   "metadata": {},
   "outputs": [
    {
     "data": {
      "text/plain": [
       "(82300.0, 1317344444.4444444)"
      ]
     },
     "execution_count": 6,
     "metadata": {},
     "output_type": "execute_result"
    }
   ],
   "source": [
    "mean_salary_0=df.filter(df[\"Purchased\"]==0).groupBy(\"Purchased\").agg({\"Salary\":\"mean\"}).collect()[0][1]\n",
    "var_salary_0=df.filter(df[\"Purchased\"]==0).groupBy(\"Purchased\").agg({\"Salary\":\"variance\"}).collect()[0][1]\n",
    "mean_salary_0,var_salary_0"
   ]
  },
  {
   "cell_type": "code",
   "execution_count": 7,
   "metadata": {},
   "outputs": [
    {
     "data": {
      "text/plain": [
       "(77142.85714285714, 862809523.8095237)"
      ]
     },
     "execution_count": 7,
     "metadata": {},
     "output_type": "execute_result"
    }
   ],
   "source": [
    "mean_salary_1=df.filter(df[\"Purchased\"]==1).groupBy(\"Purchased\").agg({\"Salary\":\"mean\"}).collect()[0][1]\n",
    "var_salary_1=df.filter(df[\"Purchased\"]==1).groupBy(\"Purchased\").agg({\"Salary\":\"variance\"}).collect()[0][1]\n",
    "mean_salary_1,var_salary_1"
   ]
  },
  {
   "cell_type": "code",
   "execution_count": 8,
   "metadata": {},
   "outputs": [
    {
     "data": {
      "text/plain": [
       "17"
      ]
     },
     "execution_count": 8,
     "metadata": {},
     "output_type": "execute_result"
    }
   ],
   "source": [
    "sizeDf=df.count()\n",
    "sizeDf"
   ]
  },
  {
   "cell_type": "code",
   "execution_count": 9,
   "metadata": {},
   "outputs": [
    {
     "data": {
      "text/plain": [
       "7"
      ]
     },
     "execution_count": 9,
     "metadata": {},
     "output_type": "execute_result"
    }
   ],
   "source": [
    "nos_1=df.filter(df[\"Purchased\"]==1).count()\n",
    "nos_1"
   ]
  },
  {
   "cell_type": "code",
   "execution_count": 10,
   "metadata": {},
   "outputs": [
    {
     "data": {
      "text/plain": [
       "10"
      ]
     },
     "execution_count": 10,
     "metadata": {},
     "output_type": "execute_result"
    }
   ],
   "source": [
    "nos_0=df.filter(df[\"Purchased\"]==0).count()\n",
    "nos_0"
   ]
  },
  {
   "cell_type": "code",
   "execution_count": 11,
   "metadata": {},
   "outputs": [
    {
     "data": {
      "text/plain": [
       "(0.5882352941176471, 0.4117647058823529)"
      ]
     },
     "execution_count": 11,
     "metadata": {},
     "output_type": "execute_result"
    }
   ],
   "source": [
    "p_n=nos_0/sizeDf\n",
    "p_y=nos_1/sizeDf\n",
    "p_n,p_y"
   ]
  },
  {
   "attachments": {
    "image.png": {
     "image/png": "[encoded data removed]"
    }
   },
   "cell_type": "markdown",
   "metadata": {},
   "source": [
    "![image.png](attachment:image.png)"
   ]
  },
  {
   "attachments": {
    "image.png": {
     "image/png": "[encoded data removed]"
    }
   },
   "cell_type": "markdown",
   "metadata": {},
   "source": [
    "![image.png](attachment:image.png)"
   ]
  },
  {
   "cell_type": "markdown",
   "metadata": {},
   "source": [
    "# x represents the independent feature columns and y is the hypothesis class "
   ]
  },
  {
   "cell_type": "code",
   "execution_count": 12,
   "metadata": {},
   "outputs": [],
   "source": [
    "import math"
   ]
  },
  {
   "cell_type": "code",
   "execution_count": 13,
   "metadata": {},
   "outputs": [
    {
     "data": {
      "text/plain": [
       "0.08479151603350477"
      ]
     },
     "execution_count": 13,
     "metadata": {},
     "output_type": "execute_result"
    }
   ],
   "source": [
    "p_x1_yes=(1/math.sqrt(2*math.pi*var_age_1))*math.exp(-0.5*((38-mean_age_1)**2)/var_age_1)\n",
    "p_x1_yes"
   ]
  },
  {
   "cell_type": "code",
   "execution_count": 14,
   "metadata": {},
   "outputs": [
    {
     "data": {
      "text/plain": [
       "0.03202425896032866"
      ]
     },
     "execution_count": 14,
     "metadata": {},
     "output_type": "execute_result"
    }
   ],
   "source": [
    "p_x1_no=(1/math.sqrt(2*math.pi*var_age_0))*math.exp(-0.5*((38-mean_age_0)**2)/var_age_0)\n",
    "p_x1_no\n"
   ]
  },
  {
   "cell_type": "code",
   "execution_count": 15,
   "metadata": {},
   "outputs": [
    {
     "data": {
      "text/plain": [
       "1.3287881202425882e-05"
      ]
     },
     "execution_count": 15,
     "metadata": {},
     "output_type": "execute_result"
    }
   ],
   "source": [
    "p_x2_yes=(1/math.sqrt(2*math.pi*var_salary_1))*math.exp(-0.5*((71000-mean_salary_1)**2)/var_salary_1)\n",
    "p_x2_yes\n"
   ]
  },
  {
   "cell_type": "code",
   "execution_count": 16,
   "metadata": {},
   "outputs": [
    {
     "data": {
      "text/plain": [
       "1.0471583113637713e-05"
      ]
     },
     "execution_count": 16,
     "metadata": {},
     "output_type": "execute_result"
    }
   ],
   "source": [
    "p_x2_no=(1/math.sqrt(2*math.pi*var_salary_0))*math.exp(-0.5*((71000-mean_salary_0)**2)/var_salary_0)\n",
    "p_x2_no\n"
   ]
  },
  {
   "cell_type": "code",
   "execution_count": 17,
   "metadata": {},
   "outputs": [
    {
     "data": {
      "text/plain": [
       "1.1266995920268007e-06"
      ]
     },
     "execution_count": 17,
     "metadata": {},
     "output_type": "execute_result"
    }
   ],
   "source": [
    "p_x_yes=p_x1_yes*p_x2_yes\n",
    "p_x_yes"
   ]
  },
  {
   "cell_type": "code",
   "execution_count": 18,
   "metadata": {},
   "outputs": [
    {
     "data": {
      "text/plain": [
       "3.353446893557388e-07"
      ]
     },
     "execution_count": 18,
     "metadata": {},
     "output_type": "execute_result"
    }
   ],
   "source": [
    "p_x_no=p_x2_no*p_x1_no\n",
    "p_x_no"
   ]
  },
  {
   "cell_type": "code",
   "execution_count": 19,
   "metadata": {},
   "outputs": [
    {
     "data": {
      "text/plain": [
       "0.7706330145906184"
      ]
     },
     "execution_count": 19,
     "metadata": {},
     "output_type": "execute_result"
    }
   ],
   "source": [
    "p_x_yes_normalized=p_x_yes/(p_x_yes+p_x_no)\n",
    "p_x_yes_normalized"
   ]
  },
  {
   "cell_type": "code",
   "execution_count": 20,
   "metadata": {},
   "outputs": [
    {
     "data": {
      "text/plain": [
       "0.22936698540938164"
      ]
     },
     "execution_count": 20,
     "metadata": {},
     "output_type": "execute_result"
    }
   ],
   "source": [
    "p_x_no_normalized=p_x_no/(p_x_yes+p_x_no)\n",
    "p_x_no_normalized"
   ]
  },
  {
   "cell_type": "code",
   "execution_count": 21,
   "metadata": {},
   "outputs": [
    {
     "data": {
      "text/plain": [
       "1.0"
      ]
     },
     "execution_count": 21,
     "metadata": {},
     "output_type": "execute_result"
    }
   ],
   "source": [
    "total_prob=p_x_yes_normalized+p_x_no_normalized\n",
    "total_prob"
   ]
  },
  {
   "cell_type": "code",
   "execution_count": null,
   "metadata": {},
   "outputs": [],
   "source": []
  }
 ],
 "metadata": {
  "kernelspec": {
   "display_name": "Python 3",
   "language": "python",
   "name": "python3"
  },
  "language_info": {
   "codemirror_mode": {
    "name": "ipython",
    "version": 3
   },
   "file_extension": ".py",
   "mimetype": "text/x-python",
   "name": "python",
   "nbconvert_exporter": "python",
   "pygments_lexer": "ipython3",
   "version": "3.7.4"
  }
 },
 "nbformat": 4,
 "nbformat_minor": 2
}
