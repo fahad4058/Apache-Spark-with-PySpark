{
 "cells": [
  {
   "cell_type": "code",
   "execution_count": 2,
   "metadata": {},
   "outputs": [],
   "source": [
    "import os\n",
    "import sys\n",
    "\n",
    "os.environ['PYSPARK_PYTHON'] = sys.executable\n",
    "os.environ['PYSPARK_DRIVER_PYTHON'] = sys.executable\n",
    "\n",
    "import findspark\n",
    "findspark.init()\n",
    "findspark.find()\n",
    "import pyspark\n",
    "\n",
    "from pyspark.sql import SparkSession\n",
    "from pyspark import SparkContext, SparkConf\n",
    "from pyspark.sql import SQLContext\n",
    "\n",
    "conf = pyspark.SparkConf().setAppName('appName').setMaster('local')\n",
    "sc = pyspark.SparkContext(conf=conf)\n",
    "spark = SparkSession(sc)\n",
    "sqlcontext=SQLContext(sc)"
   ]
  },
  {
   "cell_type": "code",
   "execution_count": 3,
   "metadata": {},
   "outputs": [],
   "source": [
    "flightDF=spark.read.csv(\"2015-summary.csv\",header=True,inferSchema=True)"
   ]
  },
  {
   "cell_type": "code",
   "execution_count": 4,
   "metadata": {},
   "outputs": [
    {
     "name": "stdout",
     "output_type": "stream",
     "text": [
      "+--------------------+-------------------+-----+\n",
      "|   DEST_COUNTRY_NAME|ORIGIN_COUNTRY_NAME|count|\n",
      "+--------------------+-------------------+-----+\n",
      "|       United States|            Romania|   15|\n",
      "|       United States|            Croatia|    1|\n",
      "|       United States|            Ireland|  344|\n",
      "|               Egypt|      United States|   15|\n",
      "|       United States|              India|   62|\n",
      "|       United States|          Singapore|    1|\n",
      "|       United States|            Grenada|   62|\n",
      "|          Costa Rica|      United States|  588|\n",
      "|             Senegal|      United States|   40|\n",
      "|             Moldova|      United States|    1|\n",
      "|       United States|       Sint Maarten|  325|\n",
      "|       United States|   Marshall Islands|   39|\n",
      "|              Guyana|      United States|   64|\n",
      "|               Malta|      United States|    1|\n",
      "|            Anguilla|      United States|   41|\n",
      "|             Bolivia|      United States|   30|\n",
      "|       United States|           Paraguay|    6|\n",
      "|             Algeria|      United States|    4|\n",
      "|Turks and Caicos ...|      United States|  230|\n",
      "|       United States|          Gibraltar|    1|\n",
      "+--------------------+-------------------+-----+\n",
      "only showing top 20 rows\n",
      "\n"
     ]
    }
   ],
   "source": [
    "flightDF.show()"
   ]
  },
  {
   "cell_type": "code",
   "execution_count": 13,
   "metadata": {},
   "outputs": [
    {
     "name": "stdout",
     "output_type": "stream",
     "text": [
      "== Physical Plan ==\n",
      "*(3) Sort [ORIGIN_COUNTRY_NAME#17 ASC NULLS FIRST], true, 0\n",
      "+- Exchange rangepartitioning(ORIGIN_COUNTRY_NAME#17 ASC NULLS FIRST, 200), ENSURE_REQUIREMENTS, [id=#226]\n",
      "   +- *(2) HashAggregate(keys=[ORIGIN_COUNTRY_NAME#17], functions=[sum(cast(count#18 as bigint))])\n",
      "      +- Exchange hashpartitioning(ORIGIN_COUNTRY_NAME#17, 200), ENSURE_REQUIREMENTS, [id=#222]\n",
      "         +- *(1) HashAggregate(keys=[ORIGIN_COUNTRY_NAME#17], functions=[partial_sum(cast(count#18 as bigint))])\n",
      "            +- *(1) Project [ORIGIN_COUNTRY_NAME#17, count#18]\n",
      "               +- *(1) Filter (isnotnull(DEST_COUNTRY_NAME#16) AND (DEST_COUNTRY_NAME#16 = United States))\n",
      "                  +- FileScan csv [DEST_COUNTRY_NAME#16,ORIGIN_COUNTRY_NAME#17,count#18] Batched: false, DataFilters: [isnotnull(DEST_COUNTRY_NAME#16), (DEST_COUNTRY_NAME#16 = United States)], Format: CSV, Location: InMemoryFileIndex[file:/C:/Users/Lenovo/PYSPARK/Big Data Course/2015-summary.csv], PartitionFilters: [], PushedFilters: [IsNotNull(DEST_COUNTRY_NAME), EqualTo(DEST_COUNTRY_NAME,United States)], ReadSchema: struct<DEST_COUNTRY_NAME:string,ORIGIN_COUNTRY_NAME:string,count:int>\n",
      "\n",
      "\n"
     ]
    }
   ],
   "source": [
    "flightDF.filter(flightDF[\"DEST_COUNTRY_NAME\"]==\"United States\").groupBy(\"ORIGIN_COUNTRY_NAME\")\\\n",
    ".agg({\"count\":\"sum\"}).orderBy(\"ORIGIN_COUNTRY_NAME\",ascending=True).explain()"
   ]
  },
  {
   "cell_type": "code",
   "execution_count": 11,
   "metadata": {},
   "outputs": [],
   "source": [
    "df=spark.read.csv(\"flights.csv\",header=True,inferSchema=True)"
   ]
  },
  {
   "cell_type": "code",
   "execution_count": 7,
   "metadata": {},
   "outputs": [
    {
     "name": "stdout",
     "output_type": "stream",
     "text": [
      "+----+------+\n",
      "|Dest| Miles|\n",
      "+----+------+\n",
      "| LAX|2402.0|\n",
      "| LAX|2402.0|\n",
      "| LAX|2402.0|\n",
      "| LAX|2402.0|\n",
      "| LAX|2402.0|\n",
      "| ORD|1744.0|\n",
      "| LAX|2402.0|\n",
      "| LAX|2402.0|\n",
      "| LAX|2402.0|\n",
      "+----+------+\n",
      "\n"
     ]
    }
   ],
   "source": [
    "df.orderBy"
   ]
  },
  {
   "cell_type": "code",
   "execution_count": 14,
   "metadata": {},
   "outputs": [
    {
     "name": "stdout",
     "output_type": "stream",
     "text": [
      "== Physical Plan ==\n",
      "TakeOrderedAndProject(limit=5, orderBy=[destination_total#187 ASC NULLS FIRST], output=[Dest#84,destination_total#187])\n",
      "+- *(2) HashAggregate(keys=[Dest#84], functions=[sum(Miles#85)])\n",
      "   +- Exchange hashpartitioning(Dest#84, 200), ENSURE_REQUIREMENTS, [id=#264]\n",
      "      +- *(1) HashAggregate(keys=[Dest#84], functions=[partial_sum(Miles#85)])\n",
      "         +- FileScan csv [Dest#84,Miles#85] Batched: false, DataFilters: [], Format: CSV, Location: InMemoryFileIndex[file:/C:/Users/Lenovo/PYSPARK/Big Data Course/flights.csv], PartitionFilters: [], PushedFilters: [], ReadSchema: struct<Dest:string,Miles:double>\n",
      "\n",
      "\n"
     ]
    }
   ],
   "source": [
    "df.groupBy(\"Dest\").sum(\"Miles\").withColumnRenamed(\"sum(Miles)\",\"destination_total\").orderBy(\"destination_total\").limit(5)\\\n",
    ".explain()"
   ]
  },
  {
   "cell_type": "code",
   "execution_count": null,
   "metadata": {},
   "outputs": [],
   "source": []
  }
 ],
 "metadata": {
  "kernelspec": {
   "display_name": "Python 3",
   "language": "python",
   "name": "python3"
  },
  "language_info": {
   "codemirror_mode": {
    "name": "ipython",
    "version": 3
   },
   "file_extension": ".py",
   "mimetype": "text/x-python",
   "name": "python",
   "nbconvert_exporter": "python",
   "pygments_lexer": "ipython3",
   "version": "3.7.4"
  }
 },
 "nbformat": 4,
 "nbformat_minor": 2
}
