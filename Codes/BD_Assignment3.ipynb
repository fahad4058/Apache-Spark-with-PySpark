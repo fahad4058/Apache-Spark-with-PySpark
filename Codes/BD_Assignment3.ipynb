{
 "cells": [
  {
   "cell_type": "markdown",
   "metadata": {},
   "source": [
    "# Initializing Spark "
   ]
  },
  {
   "cell_type": "code",
   "execution_count": 1,
   "metadata": {},
   "outputs": [],
   "source": [
    "import os\n",
    "import sys\n",
    "\n",
    "os.environ['PYSPARK_PYTHON'] = sys.executable\n",
    "os.environ['PYSPARK_DRIVER_PYTHON'] = sys.executable\n",
    "\n",
    "import findspark\n",
    "findspark.init()\n",
    "findspark.find()\n",
    "import pyspark\n",
    "\n",
    "from pyspark.sql import SparkSession\n",
    "from pyspark import SparkContext, SparkConf\n",
    "from pyspark.sql import SQLContext\n",
    "\n",
    "conf = pyspark.SparkConf().setAppName('appName').setMaster('local')\n",
    "sc = pyspark.SparkContext(conf=conf)\n",
    "spark = SparkSession(sc)\n",
    "sqlcontext=SQLContext(sc)"
   ]
  },
  {
   "cell_type": "markdown",
   "metadata": {},
   "source": [
    "\n",
    "# Knowledge  Questions\n",
    "\n",
    "### Transactional systems, Analytic Systems and Data Warehouse\n",
    "    \n",
    "    See Lectures"
   ]
  },
  {
   "cell_type": "markdown",
   "metadata": {},
   "source": [
    "# Aggregations using Apache Spark \n",
    "\n",
    "### Implementation From Lectures"
   ]
  },
  {
   "cell_type": "code",
   "execution_count": 112,
   "metadata": {},
   "outputs": [],
   "source": [
    "retail_df=sqlcontext.read.csv(\"online-retail-dataset.csv\",header=True,inferSchema=True)"
   ]
  },
  {
   "cell_type": "code",
   "execution_count": 113,
   "metadata": {},
   "outputs": [
    {
     "name": "stdout",
     "output_type": "stream",
     "text": [
      "+---------+---------+--------------------+--------+--------------+---------+----------+--------------+\n",
      "|InvoiceNo|StockCode|         Description|Quantity|   InvoiceDate|UnitPrice|CustomerID|       Country|\n",
      "+---------+---------+--------------------+--------+--------------+---------+----------+--------------+\n",
      "|   536365|   85123A|WHITE HANGING HEA...|       6|12/1/2010 8:26|     2.55|     17850|United Kingdom|\n",
      "|   536365|    71053| WHITE METAL LANTERN|       6|12/1/2010 8:26|     3.39|     17850|United Kingdom|\n",
      "|   536365|   84406B|CREAM CUPID HEART...|       8|12/1/2010 8:26|     2.75|     17850|United Kingdom|\n",
      "|   536365|   84029G|KNITTED UNION FLA...|       6|12/1/2010 8:26|     3.39|     17850|United Kingdom|\n",
      "|   536365|   84029E|RED WOOLLY HOTTIE...|       6|12/1/2010 8:26|     3.39|     17850|United Kingdom|\n",
      "|   536365|    22752|SET 7 BABUSHKA NE...|       2|12/1/2010 8:26|     7.65|     17850|United Kingdom|\n",
      "|   536365|    21730|GLASS STAR FROSTE...|       6|12/1/2010 8:26|     4.25|     17850|United Kingdom|\n",
      "|   536366|    22633|HAND WARMER UNION...|       6|12/1/2010 8:28|     1.85|     17850|United Kingdom|\n",
      "|   536366|    22632|HAND WARMER RED P...|       6|12/1/2010 8:28|     1.85|     17850|United Kingdom|\n",
      "|   536367|    84879|ASSORTED COLOUR B...|      32|12/1/2010 8:34|     1.69|     13047|United Kingdom|\n",
      "|   536367|    22745|POPPY'S PLAYHOUSE...|       6|12/1/2010 8:34|      2.1|     13047|United Kingdom|\n",
      "|   536367|    22748|POPPY'S PLAYHOUSE...|       6|12/1/2010 8:34|      2.1|     13047|United Kingdom|\n",
      "|   536367|    22749|FELTCRAFT PRINCES...|       8|12/1/2010 8:34|     3.75|     13047|United Kingdom|\n",
      "|   536367|    22310|IVORY KNITTED MUG...|       6|12/1/2010 8:34|     1.65|     13047|United Kingdom|\n",
      "|   536367|    84969|BOX OF 6 ASSORTED...|       6|12/1/2010 8:34|     4.25|     13047|United Kingdom|\n",
      "|   536367|    22623|BOX OF VINTAGE JI...|       3|12/1/2010 8:34|     4.95|     13047|United Kingdom|\n",
      "|   536367|    22622|BOX OF VINTAGE AL...|       2|12/1/2010 8:34|     9.95|     13047|United Kingdom|\n",
      "|   536367|    21754|HOME BUILDING BLO...|       3|12/1/2010 8:34|     5.95|     13047|United Kingdom|\n",
      "|   536367|    21755|LOVE BUILDING BLO...|       3|12/1/2010 8:34|     5.95|     13047|United Kingdom|\n",
      "|   536367|    21777|RECIPE BOX WITH M...|       4|12/1/2010 8:34|     7.95|     13047|United Kingdom|\n",
      "|   536367|    48187| DOORMAT NEW ENGLAND|       4|12/1/2010 8:34|     7.95|     13047|United Kingdom|\n",
      "|   536368|    22960|JAM MAKING SET WI...|       6|12/1/2010 8:34|     4.25|     13047|United Kingdom|\n",
      "|   536368|    22913|RED COAT RACK PAR...|       3|12/1/2010 8:34|     4.95|     13047|United Kingdom|\n",
      "|   536368|    22912|YELLOW COAT RACK ...|       3|12/1/2010 8:34|     4.95|     13047|United Kingdom|\n",
      "|   536368|    22914|BLUE COAT RACK PA...|       3|12/1/2010 8:34|     4.95|     13047|United Kingdom|\n",
      "|   536369|    21756|BATH BUILDING BLO...|       3|12/1/2010 8:35|     5.95|     13047|United Kingdom|\n",
      "|   536370|    22728|ALARM CLOCK BAKEL...|      24|12/1/2010 8:45|     3.75|     12583|        France|\n",
      "|   536370|    22727|ALARM CLOCK BAKEL...|      24|12/1/2010 8:45|     3.75|     12583|        France|\n",
      "|   536370|    22726|ALARM CLOCK BAKEL...|      12|12/1/2010 8:45|     3.75|     12583|        France|\n",
      "|   536370|    21724|PANDA AND BUNNIES...|      12|12/1/2010 8:45|     0.85|     12583|        France|\n",
      "|   536370|    21883|    STARS GIFT TAPE |      24|12/1/2010 8:45|     0.65|     12583|        France|\n",
      "|   536370|    10002|INFLATABLE POLITI...|      48|12/1/2010 8:45|     0.85|     12583|        France|\n",
      "|   536370|    21791|VINTAGE HEADS AND...|      24|12/1/2010 8:45|     1.25|     12583|        France|\n",
      "|   536370|    21035|SET/2 RED RETROSP...|      18|12/1/2010 8:45|     2.95|     12583|        France|\n",
      "|   536370|    22326|ROUND SNACK BOXES...|      24|12/1/2010 8:45|     2.95|     12583|        France|\n",
      "|   536370|    22629| SPACEBOY LUNCH BOX |      24|12/1/2010 8:45|     1.95|     12583|        France|\n",
      "|   536370|    22659|LUNCH BOX I LOVE ...|      24|12/1/2010 8:45|     1.95|     12583|        France|\n",
      "|   536370|    22631|CIRCUS PARADE LUN...|      24|12/1/2010 8:45|     1.95|     12583|        France|\n",
      "|   536370|    22661|CHARLOTTE BAG DOL...|      20|12/1/2010 8:45|     0.85|     12583|        France|\n",
      "|   536370|    21731|RED TOADSTOOL LED...|      24|12/1/2010 8:45|     1.65|     12583|        France|\n",
      "|   536370|    22900| SET 2 TEA TOWELS...|      24|12/1/2010 8:45|     2.95|     12583|        France|\n",
      "|   536370|    21913|VINTAGE SEASIDE J...|      12|12/1/2010 8:45|     3.75|     12583|        France|\n",
      "|   536370|    22540|MINI JIGSAW CIRCU...|      24|12/1/2010 8:45|     0.42|     12583|        France|\n",
      "|   536370|    22544|MINI JIGSAW SPACEBOY|      24|12/1/2010 8:45|     0.42|     12583|        France|\n",
      "|   536370|    22492|MINI PAINT SET VI...|      36|12/1/2010 8:45|     0.65|     12583|        France|\n",
      "|   536370|     POST|             POSTAGE|       3|12/1/2010 8:45|     18.0|     12583|        France|\n",
      "|   536371|    22086|PAPER CHAIN KIT 5...|      80|12/1/2010 9:00|     2.55|     13748|United Kingdom|\n",
      "|   536372|    22632|HAND WARMER RED P...|       6|12/1/2010 9:01|     1.85|     17850|United Kingdom|\n",
      "|   536372|    22633|HAND WARMER UNION...|       6|12/1/2010 9:01|     1.85|     17850|United Kingdom|\n",
      "|   536373|   85123A|WHITE HANGING HEA...|       6|12/1/2010 9:02|     2.55|     17850|United Kingdom|\n",
      "|   536373|    71053| WHITE METAL LANTERN|       6|12/1/2010 9:02|     3.39|     17850|United Kingdom|\n",
      "|   536373|   84406B|CREAM CUPID HEART...|       8|12/1/2010 9:02|     2.75|     17850|United Kingdom|\n",
      "|   536373|    20679|EDWARDIAN PARASOL...|       6|12/1/2010 9:02|     4.95|     17850|United Kingdom|\n",
      "|   536373|    37370|RETRO COFFEE MUGS...|       6|12/1/2010 9:02|     1.06|     17850|United Kingdom|\n",
      "|   536373|    21871| SAVE THE PLANET MUG|       6|12/1/2010 9:02|     1.06|     17850|United Kingdom|\n",
      "|   536373|    21071|VINTAGE BILLBOARD...|       6|12/1/2010 9:02|     1.06|     17850|United Kingdom|\n",
      "|   536373|    21068|VINTAGE BILLBOARD...|       6|12/1/2010 9:02|     1.06|     17850|United Kingdom|\n",
      "|   536373|    82483|WOOD 2 DRAWER CAB...|       2|12/1/2010 9:02|     4.95|     17850|United Kingdom|\n",
      "|   536373|    82486|WOOD S/3 CABINET ...|       4|12/1/2010 9:02|     6.95|     17850|United Kingdom|\n",
      "|   536373|    82482|WOODEN PICTURE FR...|       6|12/1/2010 9:02|      2.1|     17850|United Kingdom|\n",
      "|   536373|   82494L|WOODEN FRAME ANTI...|       6|12/1/2010 9:02|     2.55|     17850|United Kingdom|\n",
      "|   536373|   84029G|KNITTED UNION FLA...|       6|12/1/2010 9:02|     3.39|     17850|United Kingdom|\n",
      "|   536373|   84029E|RED WOOLLY HOTTIE...|       6|12/1/2010 9:02|     3.39|     17850|United Kingdom|\n",
      "|   536373|    22752|SET 7 BABUSHKA NE...|       2|12/1/2010 9:02|     7.65|     17850|United Kingdom|\n",
      "|   536373|    21730|GLASS STAR FROSTE...|       6|12/1/2010 9:02|     4.25|     17850|United Kingdom|\n",
      "|   536374|    21258|VICTORIAN SEWING ...|      32|12/1/2010 9:09|    10.95|     15100|United Kingdom|\n",
      "|   536375|   85123A|WHITE HANGING HEA...|       6|12/1/2010 9:32|     2.55|     17850|United Kingdom|\n",
      "|   536375|    71053| WHITE METAL LANTERN|       6|12/1/2010 9:32|     3.39|     17850|United Kingdom|\n",
      "|   536375|   84406B|CREAM CUPID HEART...|       8|12/1/2010 9:32|     2.75|     17850|United Kingdom|\n",
      "|   536375|    20679|EDWARDIAN PARASOL...|       6|12/1/2010 9:32|     4.95|     17850|United Kingdom|\n",
      "|   536375|    37370|RETRO COFFEE MUGS...|       6|12/1/2010 9:32|     1.06|     17850|United Kingdom|\n",
      "|   536375|    21871| SAVE THE PLANET MUG|       6|12/1/2010 9:32|     1.06|     17850|United Kingdom|\n",
      "|   536375|    21071|VINTAGE BILLBOARD...|       6|12/1/2010 9:32|     1.06|     17850|United Kingdom|\n",
      "|   536375|    21068|VINTAGE BILLBOARD...|       6|12/1/2010 9:32|     1.06|     17850|United Kingdom|\n",
      "|   536375|    82483|WOOD 2 DRAWER CAB...|       2|12/1/2010 9:32|     4.95|     17850|United Kingdom|\n",
      "|   536375|    82486|WOOD S/3 CABINET ...|       4|12/1/2010 9:32|     6.95|     17850|United Kingdom|\n",
      "|   536375|    82482|WOODEN PICTURE FR...|       6|12/1/2010 9:32|      2.1|     17850|United Kingdom|\n",
      "|   536375|   82494L|WOODEN FRAME ANTI...|       6|12/1/2010 9:32|     2.55|     17850|United Kingdom|\n",
      "|   536375|   84029G|KNITTED UNION FLA...|       6|12/1/2010 9:32|     3.39|     17850|United Kingdom|\n",
      "|   536375|   84029E|RED WOOLLY HOTTIE...|       6|12/1/2010 9:32|     3.39|     17850|United Kingdom|\n",
      "|   536375|    22752|SET 7 BABUSHKA NE...|       2|12/1/2010 9:32|     7.65|     17850|United Kingdom|\n",
      "|   536375|    21730|GLASS STAR FROSTE...|       6|12/1/2010 9:32|     4.25|     17850|United Kingdom|\n",
      "|   536376|    22114|HOT WATER BOTTLE ...|      48|12/1/2010 9:32|     3.45|     15291|United Kingdom|\n",
      "|   536376|    21733|RED HANGING HEART...|      64|12/1/2010 9:32|     2.55|     15291|United Kingdom|\n",
      "|   536377|    22632|HAND WARMER RED P...|       6|12/1/2010 9:34|     1.85|     17850|United Kingdom|\n",
      "|   536377|    22633|HAND WARMER UNION...|       6|12/1/2010 9:34|     1.85|     17850|United Kingdom|\n",
      "|   536378|    22386|JUMBO BAG PINK PO...|      10|12/1/2010 9:37|     1.95|     14688|United Kingdom|\n",
      "|   536378|   85099C|JUMBO  BAG BAROQU...|      10|12/1/2010 9:37|     1.95|     14688|United Kingdom|\n",
      "|   536378|    21033|JUMBO BAG CHARLIE...|      10|12/1/2010 9:37|     2.95|     14688|United Kingdom|\n",
      "|   536378|    20723|STRAWBERRY CHARLO...|      10|12/1/2010 9:37|     0.85|     14688|United Kingdom|\n",
      "|   536378|   84997B|RED 3 PIECE RETRO...|      12|12/1/2010 9:37|     3.75|     14688|United Kingdom|\n",
      "|   536378|   84997C|BLUE 3 PIECE POLK...|       6|12/1/2010 9:37|     3.75|     14688|United Kingdom|\n",
      "|   536378|    21094|SET/6 RED SPOTTY ...|      12|12/1/2010 9:37|     0.85|     14688|United Kingdom|\n",
      "|   536378|    20725|LUNCH BAG RED RET...|      10|12/1/2010 9:37|     1.65|     14688|United Kingdom|\n",
      "|   536378|    21559|STRAWBERRY LUNCH ...|       6|12/1/2010 9:37|     2.55|     14688|United Kingdom|\n",
      "|   536378|    22352|LUNCH BOX WITH CU...|       6|12/1/2010 9:37|     2.55|     14688|United Kingdom|\n",
      "|   536378|    21212|PACK OF 72 RETROS...|     120|12/1/2010 9:37|     0.42|     14688|United Kingdom|\n",
      "|   536378|    21975|PACK OF 60 DINOSA...|      24|12/1/2010 9:37|     0.55|     14688|United Kingdom|\n",
      "|   536378|    21977|PACK OF 60 PINK P...|      24|12/1/2010 9:37|     0.55|     14688|United Kingdom|\n",
      "|   536378|    84991|60 TEATIME FAIRY ...|      24|12/1/2010 9:37|     0.55|     14688|United Kingdom|\n",
      "+---------+---------+--------------------+--------+--------------+---------+----------+--------------+\n",
      "only showing top 100 rows\n",
      "\n"
     ]
    }
   ],
   "source": [
    "retail_df.show(100)"
   ]
  },
  {
   "cell_type": "code",
   "execution_count": 114,
   "metadata": {},
   "outputs": [
    {
     "name": "stdout",
     "output_type": "stream",
     "text": [
      "root\n",
      " |-- InvoiceNo: string (nullable = true)\n",
      " |-- StockCode: string (nullable = true)\n",
      " |-- Description: string (nullable = true)\n",
      " |-- Quantity: integer (nullable = true)\n",
      " |-- InvoiceDate: string (nullable = true)\n",
      " |-- UnitPrice: double (nullable = true)\n",
      " |-- CustomerID: integer (nullable = true)\n",
      " |-- Country: string (nullable = true)\n",
      "\n"
     ]
    }
   ],
   "source": [
    "retail_df.printSchema()"
   ]
  },
  {
   "cell_type": "code",
   "execution_count": 115,
   "metadata": {},
   "outputs": [
    {
     "data": {
      "text/plain": [
       "['InvoiceNo',\n",
       " 'StockCode',\n",
       " 'Description',\n",
       " 'Quantity',\n",
       " 'InvoiceDate',\n",
       " 'UnitPrice',\n",
       " 'CustomerID',\n",
       " 'Country']"
      ]
     },
     "execution_count": 115,
     "metadata": {},
     "output_type": "execute_result"
    }
   ],
   "source": [
    "retail_df.columns"
   ]
  },
  {
   "cell_type": "code",
   "execution_count": 116,
   "metadata": {},
   "outputs": [],
   "source": [
    "# Adding Dimension to the above dataset - Adding time\n",
    "# Dropping the null data\n",
    "retailDFNoNull=retail_df.na.drop()"
   ]
  },
  {
   "cell_type": "code",
   "execution_count": 117,
   "metadata": {},
   "outputs": [
    {
     "data": {
      "text/plain": [
       "541909"
      ]
     },
     "execution_count": 117,
     "metadata": {},
     "output_type": "execute_result"
    }
   ],
   "source": [
    "retail_df.count()"
   ]
  },
  {
   "cell_type": "code",
   "execution_count": 118,
   "metadata": {},
   "outputs": [
    {
     "data": {
      "text/plain": [
       "406829"
      ]
     },
     "execution_count": 118,
     "metadata": {},
     "output_type": "execute_result"
    }
   ],
   "source": [
    "retailDFNoNull.count()"
   ]
  },
  {
   "cell_type": "code",
   "execution_count": 156,
   "metadata": {},
   "outputs": [
    {
     "name": "stdout",
     "output_type": "stream",
     "text": [
      "+---------+---------+--------------------+--------+--------------+---------+----------+--------------+----+\n",
      "|InvoiceNo|StockCode|         Description|Quantity|   InvoiceDate|UnitPrice|CustomerID|       Country|Date|\n",
      "+---------+---------+--------------------+--------+--------------+---------+----------+--------------+----+\n",
      "|   536365|   85123A|WHITE HANGING HEA...|       6|12/1/2010 8:26|     2.55|     17850|United Kingdom|null|\n",
      "|   536365|    71053| WHITE METAL LANTERN|       6|12/1/2010 8:26|     3.39|     17850|United Kingdom|null|\n",
      "|   536365|   84406B|CREAM CUPID HEART...|       8|12/1/2010 8:26|     2.75|     17850|United Kingdom|null|\n",
      "|   536365|   84029G|KNITTED UNION FLA...|       6|12/1/2010 8:26|     3.39|     17850|United Kingdom|null|\n",
      "|   536365|   84029E|RED WOOLLY HOTTIE...|       6|12/1/2010 8:26|     3.39|     17850|United Kingdom|null|\n",
      "|   536365|    22752|SET 7 BABUSHKA NE...|       2|12/1/2010 8:26|     7.65|     17850|United Kingdom|null|\n",
      "|   536365|    21730|GLASS STAR FROSTE...|       6|12/1/2010 8:26|     4.25|     17850|United Kingdom|null|\n",
      "|   536366|    22633|HAND WARMER UNION...|       6|12/1/2010 8:28|     1.85|     17850|United Kingdom|null|\n",
      "|   536366|    22632|HAND WARMER RED P...|       6|12/1/2010 8:28|     1.85|     17850|United Kingdom|null|\n",
      "|   536367|    84879|ASSORTED COLOUR B...|      32|12/1/2010 8:34|     1.69|     13047|United Kingdom|null|\n",
      "|   536367|    22745|POPPY'S PLAYHOUSE...|       6|12/1/2010 8:34|      2.1|     13047|United Kingdom|null|\n",
      "|   536367|    22748|POPPY'S PLAYHOUSE...|       6|12/1/2010 8:34|      2.1|     13047|United Kingdom|null|\n",
      "|   536367|    22749|FELTCRAFT PRINCES...|       8|12/1/2010 8:34|     3.75|     13047|United Kingdom|null|\n",
      "|   536367|    22310|IVORY KNITTED MUG...|       6|12/1/2010 8:34|     1.65|     13047|United Kingdom|null|\n",
      "|   536367|    84969|BOX OF 6 ASSORTED...|       6|12/1/2010 8:34|     4.25|     13047|United Kingdom|null|\n",
      "|   536367|    22623|BOX OF VINTAGE JI...|       3|12/1/2010 8:34|     4.95|     13047|United Kingdom|null|\n",
      "|   536367|    22622|BOX OF VINTAGE AL...|       2|12/1/2010 8:34|     9.95|     13047|United Kingdom|null|\n",
      "|   536367|    21754|HOME BUILDING BLO...|       3|12/1/2010 8:34|     5.95|     13047|United Kingdom|null|\n",
      "|   536367|    21755|LOVE BUILDING BLO...|       3|12/1/2010 8:34|     5.95|     13047|United Kingdom|null|\n",
      "|   536367|    21777|RECIPE BOX WITH M...|       4|12/1/2010 8:34|     7.95|     13047|United Kingdom|null|\n",
      "|   536367|    48187| DOORMAT NEW ENGLAND|       4|12/1/2010 8:34|     7.95|     13047|United Kingdom|null|\n",
      "|   536368|    22960|JAM MAKING SET WI...|       6|12/1/2010 8:34|     4.25|     13047|United Kingdom|null|\n",
      "|   536368|    22913|RED COAT RACK PAR...|       3|12/1/2010 8:34|     4.95|     13047|United Kingdom|null|\n",
      "|   536368|    22912|YELLOW COAT RACK ...|       3|12/1/2010 8:34|     4.95|     13047|United Kingdom|null|\n",
      "|   536368|    22914|BLUE COAT RACK PA...|       3|12/1/2010 8:34|     4.95|     13047|United Kingdom|null|\n",
      "|   536369|    21756|BATH BUILDING BLO...|       3|12/1/2010 8:35|     5.95|     13047|United Kingdom|null|\n",
      "|   536370|    22728|ALARM CLOCK BAKEL...|      24|12/1/2010 8:45|     3.75|     12583|        France|null|\n",
      "|   536370|    22727|ALARM CLOCK BAKEL...|      24|12/1/2010 8:45|     3.75|     12583|        France|null|\n",
      "|   536370|    22726|ALARM CLOCK BAKEL...|      12|12/1/2010 8:45|     3.75|     12583|        France|null|\n",
      "|   536370|    21724|PANDA AND BUNNIES...|      12|12/1/2010 8:45|     0.85|     12583|        France|null|\n",
      "|   536370|    21883|    STARS GIFT TAPE |      24|12/1/2010 8:45|     0.65|     12583|        France|null|\n",
      "|   536370|    10002|INFLATABLE POLITI...|      48|12/1/2010 8:45|     0.85|     12583|        France|null|\n",
      "|   536370|    21791|VINTAGE HEADS AND...|      24|12/1/2010 8:45|     1.25|     12583|        France|null|\n",
      "|   536370|    21035|SET/2 RED RETROSP...|      18|12/1/2010 8:45|     2.95|     12583|        France|null|\n",
      "|   536370|    22326|ROUND SNACK BOXES...|      24|12/1/2010 8:45|     2.95|     12583|        France|null|\n",
      "|   536370|    22629| SPACEBOY LUNCH BOX |      24|12/1/2010 8:45|     1.95|     12583|        France|null|\n",
      "|   536370|    22659|LUNCH BOX I LOVE ...|      24|12/1/2010 8:45|     1.95|     12583|        France|null|\n",
      "|   536370|    22631|CIRCUS PARADE LUN...|      24|12/1/2010 8:45|     1.95|     12583|        France|null|\n",
      "|   536370|    22661|CHARLOTTE BAG DOL...|      20|12/1/2010 8:45|     0.85|     12583|        France|null|\n",
      "|   536370|    21731|RED TOADSTOOL LED...|      24|12/1/2010 8:45|     1.65|     12583|        France|null|\n",
      "|   536370|    22900| SET 2 TEA TOWELS...|      24|12/1/2010 8:45|     2.95|     12583|        France|null|\n",
      "|   536370|    21913|VINTAGE SEASIDE J...|      12|12/1/2010 8:45|     3.75|     12583|        France|null|\n",
      "|   536370|    22540|MINI JIGSAW CIRCU...|      24|12/1/2010 8:45|     0.42|     12583|        France|null|\n",
      "|   536370|    22544|MINI JIGSAW SPACEBOY|      24|12/1/2010 8:45|     0.42|     12583|        France|null|\n",
      "|   536370|    22492|MINI PAINT SET VI...|      36|12/1/2010 8:45|     0.65|     12583|        France|null|\n",
      "|   536370|     POST|             POSTAGE|       3|12/1/2010 8:45|     18.0|     12583|        France|null|\n",
      "|   536371|    22086|PAPER CHAIN KIT 5...|      80|12/1/2010 9:00|     2.55|     13748|United Kingdom|null|\n",
      "|   536372|    22632|HAND WARMER RED P...|       6|12/1/2010 9:01|     1.85|     17850|United Kingdom|null|\n",
      "|   536372|    22633|HAND WARMER UNION...|       6|12/1/2010 9:01|     1.85|     17850|United Kingdom|null|\n",
      "|   536373|   85123A|WHITE HANGING HEA...|       6|12/1/2010 9:02|     2.55|     17850|United Kingdom|null|\n",
      "|   536373|    71053| WHITE METAL LANTERN|       6|12/1/2010 9:02|     3.39|     17850|United Kingdom|null|\n",
      "|   536373|   84406B|CREAM CUPID HEART...|       8|12/1/2010 9:02|     2.75|     17850|United Kingdom|null|\n",
      "|   536373|    20679|EDWARDIAN PARASOL...|       6|12/1/2010 9:02|     4.95|     17850|United Kingdom|null|\n",
      "|   536373|    37370|RETRO COFFEE MUGS...|       6|12/1/2010 9:02|     1.06|     17850|United Kingdom|null|\n",
      "|   536373|    21871| SAVE THE PLANET MUG|       6|12/1/2010 9:02|     1.06|     17850|United Kingdom|null|\n",
      "|   536373|    21071|VINTAGE BILLBOARD...|       6|12/1/2010 9:02|     1.06|     17850|United Kingdom|null|\n",
      "|   536373|    21068|VINTAGE BILLBOARD...|       6|12/1/2010 9:02|     1.06|     17850|United Kingdom|null|\n",
      "|   536373|    82483|WOOD 2 DRAWER CAB...|       2|12/1/2010 9:02|     4.95|     17850|United Kingdom|null|\n",
      "|   536373|    82486|WOOD S/3 CABINET ...|       4|12/1/2010 9:02|     6.95|     17850|United Kingdom|null|\n",
      "|   536373|    82482|WOODEN PICTURE FR...|       6|12/1/2010 9:02|      2.1|     17850|United Kingdom|null|\n",
      "|   536373|   82494L|WOODEN FRAME ANTI...|       6|12/1/2010 9:02|     2.55|     17850|United Kingdom|null|\n",
      "|   536373|   84029G|KNITTED UNION FLA...|       6|12/1/2010 9:02|     3.39|     17850|United Kingdom|null|\n",
      "|   536373|   84029E|RED WOOLLY HOTTIE...|       6|12/1/2010 9:02|     3.39|     17850|United Kingdom|null|\n",
      "|   536373|    22752|SET 7 BABUSHKA NE...|       2|12/1/2010 9:02|     7.65|     17850|United Kingdom|null|\n",
      "|   536373|    21730|GLASS STAR FROSTE...|       6|12/1/2010 9:02|     4.25|     17850|United Kingdom|null|\n",
      "|   536374|    21258|VICTORIAN SEWING ...|      32|12/1/2010 9:09|    10.95|     15100|United Kingdom|null|\n",
      "|   536375|   85123A|WHITE HANGING HEA...|       6|12/1/2010 9:32|     2.55|     17850|United Kingdom|null|\n",
      "|   536375|    71053| WHITE METAL LANTERN|       6|12/1/2010 9:32|     3.39|     17850|United Kingdom|null|\n",
      "|   536375|   84406B|CREAM CUPID HEART...|       8|12/1/2010 9:32|     2.75|     17850|United Kingdom|null|\n",
      "|   536375|    20679|EDWARDIAN PARASOL...|       6|12/1/2010 9:32|     4.95|     17850|United Kingdom|null|\n",
      "|   536375|    37370|RETRO COFFEE MUGS...|       6|12/1/2010 9:32|     1.06|     17850|United Kingdom|null|\n",
      "|   536375|    21871| SAVE THE PLANET MUG|       6|12/1/2010 9:32|     1.06|     17850|United Kingdom|null|\n",
      "|   536375|    21071|VINTAGE BILLBOARD...|       6|12/1/2010 9:32|     1.06|     17850|United Kingdom|null|\n",
      "|   536375|    21068|VINTAGE BILLBOARD...|       6|12/1/2010 9:32|     1.06|     17850|United Kingdom|null|\n",
      "|   536375|    82483|WOOD 2 DRAWER CAB...|       2|12/1/2010 9:32|     4.95|     17850|United Kingdom|null|\n",
      "|   536375|    82486|WOOD S/3 CABINET ...|       4|12/1/2010 9:32|     6.95|     17850|United Kingdom|null|\n",
      "|   536375|    82482|WOODEN PICTURE FR...|       6|12/1/2010 9:32|      2.1|     17850|United Kingdom|null|\n",
      "|   536375|   82494L|WOODEN FRAME ANTI...|       6|12/1/2010 9:32|     2.55|     17850|United Kingdom|null|\n",
      "|   536375|   84029G|KNITTED UNION FLA...|       6|12/1/2010 9:32|     3.39|     17850|United Kingdom|null|\n",
      "|   536375|   84029E|RED WOOLLY HOTTIE...|       6|12/1/2010 9:32|     3.39|     17850|United Kingdom|null|\n",
      "|   536375|    22752|SET 7 BABUSHKA NE...|       2|12/1/2010 9:32|     7.65|     17850|United Kingdom|null|\n",
      "|   536375|    21730|GLASS STAR FROSTE...|       6|12/1/2010 9:32|     4.25|     17850|United Kingdom|null|\n",
      "|   536376|    22114|HOT WATER BOTTLE ...|      48|12/1/2010 9:32|     3.45|     15291|United Kingdom|null|\n",
      "|   536376|    21733|RED HANGING HEART...|      64|12/1/2010 9:32|     2.55|     15291|United Kingdom|null|\n",
      "|   536377|    22632|HAND WARMER RED P...|       6|12/1/2010 9:34|     1.85|     17850|United Kingdom|null|\n",
      "|   536377|    22633|HAND WARMER UNION...|       6|12/1/2010 9:34|     1.85|     17850|United Kingdom|null|\n",
      "|   536378|    22386|JUMBO BAG PINK PO...|      10|12/1/2010 9:37|     1.95|     14688|United Kingdom|null|\n",
      "|   536378|   85099C|JUMBO  BAG BAROQU...|      10|12/1/2010 9:37|     1.95|     14688|United Kingdom|null|\n",
      "|   536378|    21033|JUMBO BAG CHARLIE...|      10|12/1/2010 9:37|     2.95|     14688|United Kingdom|null|\n",
      "|   536378|    20723|STRAWBERRY CHARLO...|      10|12/1/2010 9:37|     0.85|     14688|United Kingdom|null|\n",
      "|   536378|   84997B|RED 3 PIECE RETRO...|      12|12/1/2010 9:37|     3.75|     14688|United Kingdom|null|\n",
      "|   536378|   84997C|BLUE 3 PIECE POLK...|       6|12/1/2010 9:37|     3.75|     14688|United Kingdom|null|\n",
      "|   536378|    21094|SET/6 RED SPOTTY ...|      12|12/1/2010 9:37|     0.85|     14688|United Kingdom|null|\n",
      "|   536378|    20725|LUNCH BAG RED RET...|      10|12/1/2010 9:37|     1.65|     14688|United Kingdom|null|\n",
      "|   536378|    21559|STRAWBERRY LUNCH ...|       6|12/1/2010 9:37|     2.55|     14688|United Kingdom|null|\n",
      "|   536378|    22352|LUNCH BOX WITH CU...|       6|12/1/2010 9:37|     2.55|     14688|United Kingdom|null|\n",
      "|   536378|    21212|PACK OF 72 RETROS...|     120|12/1/2010 9:37|     0.42|     14688|United Kingdom|null|\n",
      "|   536378|    21975|PACK OF 60 DINOSA...|      24|12/1/2010 9:37|     0.55|     14688|United Kingdom|null|\n",
      "|   536378|    21977|PACK OF 60 PINK P...|      24|12/1/2010 9:37|     0.55|     14688|United Kingdom|null|\n",
      "|   536378|    84991|60 TEATIME FAIRY ...|      24|12/1/2010 9:37|     0.55|     14688|United Kingdom|null|\n",
      "+---------+---------+--------------------+--------+--------------+---------+----------+--------------+----+\n",
      "only showing top 100 rows\n",
      "\n"
     ]
    }
   ],
   "source": [
    "retailDFNoNull.show(100)"
   ]
  },
  {
   "cell_type": "code",
   "execution_count": 125,
   "metadata": {},
   "outputs": [],
   "source": [
    "from datetime import *\n",
    "from pyspark.sql.types import *\n",
    "from pyspark.sql.functions import to_date"
   ]
  },
  {
   "cell_type": "code",
   "execution_count": 130,
   "metadata": {},
   "outputs": [],
   "source": [
    "retailDFNoNull=retailDFNoNull.withColumn(\"Date\",to_date(retailDFNoNull[\"InvoiceDate\"],format=\"MM-d-yyyy H:mm\"))"
   ]
  },
  {
   "cell_type": "code",
   "execution_count": 131,
   "metadata": {},
   "outputs": [
    {
     "data": {
      "text/plain": [
       "[('InvoiceNo', 'string'),\n",
       " ('StockCode', 'string'),\n",
       " ('Description', 'string'),\n",
       " ('Quantity', 'int'),\n",
       " ('InvoiceDate', 'string'),\n",
       " ('UnitPrice', 'double'),\n",
       " ('CustomerID', 'int'),\n",
       " ('Country', 'string'),\n",
       " ('Date', 'date')]"
      ]
     },
     "execution_count": 131,
     "metadata": {},
     "output_type": "execute_result"
    }
   ],
   "source": [
    "retailDFNoNull.dtypes"
   ]
  },
  {
   "cell_type": "code",
   "execution_count": 132,
   "metadata": {},
   "outputs": [
    {
     "name": "stdout",
     "output_type": "stream",
     "text": [
      "+---------+---------+--------------------+--------+--------------+---------+----------+--------------+----+\n",
      "|InvoiceNo|StockCode|         Description|Quantity|   InvoiceDate|UnitPrice|CustomerID|       Country|Date|\n",
      "+---------+---------+--------------------+--------+--------------+---------+----------+--------------+----+\n",
      "|   536365|   85123A|WHITE HANGING HEA...|       6|12/1/2010 8:26|     2.55|     17850|United Kingdom|null|\n",
      "+---------+---------+--------------------+--------+--------------+---------+----------+--------------+----+\n",
      "only showing top 1 row\n",
      "\n"
     ]
    }
   ],
   "source": [
    "retailDFNoNull.show(1)"
   ]
  },
  {
   "cell_type": "code",
   "execution_count": 302,
   "metadata": {},
   "outputs": [],
   "source": [
    "# adding region dimension to the retailDF\n",
    "# Creating a user defined function to generalize country \n",
    "def generalize_country(country=str):\n",
    "    my_list=[\"Austria\",\"France\",\"Germany\",\"Italy\",\"Spain\",\"Belgium\"]\n",
    "    my_list1=[\"Canada\",\"USA\",\"Brazil\"]\n",
    "    x=0\n",
    "    if country==\"United Kingdom\" :\n",
    "        return \"British Isles\"\n",
    "    elif country in my_list:\n",
    "        for x in my_list:\n",
    "            my_list==country\n",
    "            return \"EU\"\n",
    "    elif country in my_list1:\n",
    "        for x in my_list1:\n",
    "            my_list==country\n",
    "            return \"Amerika\"\n",
    "    else:\n",
    "        return \"Others\"\n",
    "    \n",
    "    \n",
    "generalize_countryUDF=udf(lambda x: generalize_country(x))        "
   ]
  },
  {
   "cell_type": "code",
   "execution_count": 303,
   "metadata": {},
   "outputs": [
    {
     "data": {
      "text/plain": [
       "'British Isles'"
      ]
     },
     "execution_count": 303,
     "metadata": {},
     "output_type": "execute_result"
    }
   ],
   "source": [
    "generalize_country(\"United Kingdom\")"
   ]
  },
  {
   "cell_type": "code",
   "execution_count": 304,
   "metadata": {},
   "outputs": [
    {
     "data": {
      "text/plain": [
       "['InvoiceNo',\n",
       " 'StockCode',\n",
       " 'Description',\n",
       " 'Quantity',\n",
       " 'InvoiceDate',\n",
       " 'UnitPrice',\n",
       " 'CustomerID',\n",
       " 'Country',\n",
       " 'Date',\n",
       " 'Region']"
      ]
     },
     "execution_count": 304,
     "metadata": {},
     "output_type": "execute_result"
    }
   ],
   "source": [
    "retailDFNoNull=retailDFNoNull.withColumn(\"Region\",generalize_countryUDF(retailDFNoNull[\"Country\"]))\n",
    "retailDFNoNull.columns"
   ]
  },
  {
   "cell_type": "code",
   "execution_count": 305,
   "metadata": {},
   "outputs": [],
   "source": [
    "#Selecting a column and displaying it with spark.sql/filtering data\n",
    "retailDFNoNull.createOrReplaceTempView(\"retailData\")"
   ]
  },
  {
   "cell_type": "code",
   "execution_count": 308,
   "metadata": {},
   "outputs": [
    {
     "name": "stdout",
     "output_type": "stream",
     "text": [
      "+-------+-------+\n",
      "|Country| Region|\n",
      "+-------+-------+\n",
      "| Canada|Amerika|\n",
      "| Canada|Amerika|\n",
      "| Canada|Amerika|\n",
      "| Canada|Amerika|\n",
      "| Canada|Amerika|\n",
      "| Canada|Amerika|\n",
      "| Canada|Amerika|\n",
      "| Canada|Amerika|\n",
      "| Canada|Amerika|\n",
      "| Canada|Amerika|\n",
      "| Brazil|Amerika|\n",
      "| Brazil|Amerika|\n",
      "| Brazil|Amerika|\n",
      "| Brazil|Amerika|\n",
      "| Brazil|Amerika|\n",
      "| Brazil|Amerika|\n",
      "| Brazil|Amerika|\n",
      "| Brazil|Amerika|\n",
      "| Brazil|Amerika|\n",
      "| Brazil|Amerika|\n",
      "+-------+-------+\n",
      "only showing top 20 rows\n",
      "\n"
     ]
    }
   ],
   "source": [
    "#selecting column and filtering it with spark.sql\n",
    "spark.sql(\"\"\"SELECT Country,Region FROM retailData WHERE Region=(\"Amerika\")\"\"\").show()"
   ]
  },
  {
   "cell_type": "code",
   "execution_count": 312,
   "metadata": {},
   "outputs": [
    {
     "name": "stdout",
     "output_type": "stream",
     "text": [
      "+-------------+-------------+\n",
      "|       Region|sum(Quantity)|\n",
      "+-------------+-------------+\n",
      "|      Amerika|         4153|\n",
      "|British Isles|      4008533|\n",
      "|           EU|       290098|\n",
      "|       Others|       604104|\n",
      "+-------------+-------------+\n",
      "\n"
     ]
    }
   ],
   "source": [
    "# Aggregating quantity over countries/regions\n",
    "retailDFNoNull.select(\"Region\",\"Quantity\").groupBy(\"Region\").agg({\"Quantity\":\"sum\"})\\\n",
    "                        .orderBy(retailDFNoNull[\"Region\"]).show(100)\n",
    "\n",
    "\n"
   ]
  },
  {
   "cell_type": "code",
   "execution_count": 340,
   "metadata": {},
   "outputs": [
    {
     "name": "stdout",
     "output_type": "stream",
     "text": [
      "+--------------------+-------------+-------------+\n",
      "|             Country|       Region|sum(Quantity)|\n",
      "+--------------------+-------------+-------------+\n",
      "|           Australia|       Others|        83653|\n",
      "|             Austria|           EU|         4827|\n",
      "|             Bahrain|       Others|          260|\n",
      "|             Belgium|           EU|        23152|\n",
      "|              Brazil|      Amerika|          356|\n",
      "|              Canada|      Amerika|         2763|\n",
      "|     Channel Islands|       Others|         9479|\n",
      "|              Cyprus|       Others|         6317|\n",
      "|      Czech Republic|       Others|          592|\n",
      "|             Denmark|       Others|         8188|\n",
      "|                EIRE|       Others|       136329|\n",
      "|  European Community|       Others|          497|\n",
      "|             Finland|       Others|        10666|\n",
      "|              France|           EU|       109848|\n",
      "|             Germany|           EU|       117448|\n",
      "|              Greece|       Others|         1556|\n",
      "|             Iceland|       Others|         2458|\n",
      "|              Israel|       Others|         3990|\n",
      "|               Italy|           EU|         7999|\n",
      "|               Japan|       Others|        25218|\n",
      "|             Lebanon|       Others|          386|\n",
      "|           Lithuania|       Others|          652|\n",
      "|               Malta|       Others|          944|\n",
      "|         Netherlands|       Others|       200128|\n",
      "|              Norway|       Others|        19247|\n",
      "|              Poland|       Others|         3653|\n",
      "|            Portugal|       Others|        16044|\n",
      "|                 RSA|       Others|          352|\n",
      "|        Saudi Arabia|       Others|           75|\n",
      "|           Singapore|       Others|         5234|\n",
      "|               Spain|           EU|        26824|\n",
      "|              Sweden|       Others|        35637|\n",
      "|         Switzerland|       Others|        29778|\n",
      "|                 USA|      Amerika|         1034|\n",
      "|United Arab Emirates|       Others|          982|\n",
      "|      United Kingdom|British Isles|      4008533|\n",
      "|         Unspecified|       Others|         1789|\n",
      "+--------------------+-------------+-------------+\n",
      "\n"
     ]
    }
   ],
   "source": [
    "# Aggregating quantity over countries\n",
    "retailDFNoNull.select(\"Country\",\"Quantity\",\"Region\").groupBy(\"Country\",\"Region\").agg({\"Quantity\":\"sum\"})\\\n",
    "                        .orderBy(retailDFNoNull[\"Country\"]).show(100)\n"
   ]
  },
  {
   "cell_type": "code",
   "execution_count": 315,
   "metadata": {},
   "outputs": [
    {
     "name": "stdout",
     "output_type": "stream",
     "text": [
      "+-------------+-------------+\n",
      "|       Region|sum(Quantity)|\n",
      "+-------------+-------------+\n",
      "|      Amerika|         4153|\n",
      "|British Isles|      4008533|\n",
      "|           EU|       290098|\n",
      "|       Others|       604104|\n",
      "+-------------+-------------+\n",
      "\n"
     ]
    }
   ],
   "source": [
    "# Aggregating with SQL queries / wrt Regions\n",
    "retailDFNoNull.createOrReplaceTempView(\"retailData\")\n",
    "\n",
    "spark.sql(\"\"\"SELECT Region,sum(Quantity) FROM retailData GROUP BY Region ORDER BY Region \"\"\").show()"
   ]
  },
  {
   "cell_type": "code",
   "execution_count": 333,
   "metadata": {},
   "outputs": [
    {
     "name": "stdout",
     "output_type": "stream",
     "text": [
      "+--------------------+-------------+\n",
      "|             Country|sum(Quantity)|\n",
      "+--------------------+-------------+\n",
      "|           Australia|        83653|\n",
      "|             Austria|         4827|\n",
      "|             Bahrain|          260|\n",
      "|             Belgium|        23152|\n",
      "|              Brazil|          356|\n",
      "|              Canada|         2763|\n",
      "|     Channel Islands|         9479|\n",
      "|              Cyprus|         6317|\n",
      "|      Czech Republic|          592|\n",
      "|             Denmark|         8188|\n",
      "|                EIRE|       136329|\n",
      "|  European Community|          497|\n",
      "|             Finland|        10666|\n",
      "|              France|       109848|\n",
      "|             Germany|       117448|\n",
      "|              Greece|         1556|\n",
      "|             Iceland|         2458|\n",
      "|              Israel|         3990|\n",
      "|               Italy|         7999|\n",
      "|               Japan|        25218|\n",
      "|             Lebanon|          386|\n",
      "|           Lithuania|          652|\n",
      "|               Malta|          944|\n",
      "|         Netherlands|       200128|\n",
      "|              Norway|        19247|\n",
      "|              Poland|         3653|\n",
      "|            Portugal|        16044|\n",
      "|                 RSA|          352|\n",
      "|        Saudi Arabia|           75|\n",
      "|           Singapore|         5234|\n",
      "|               Spain|        26824|\n",
      "|              Sweden|        35637|\n",
      "|         Switzerland|        29778|\n",
      "|                 USA|         1034|\n",
      "|United Arab Emirates|          982|\n",
      "|      United Kingdom|      4008533|\n",
      "|         Unspecified|         1789|\n",
      "+--------------------+-------------+\n",
      "\n"
     ]
    }
   ],
   "source": [
    "# Aggregating with SQL queries / wrt Countries\n",
    "spark.sql(\"\"\"SELECT Country,sum(Quantity) FROM retailData GROUP BY Country ORDER BY Country \"\"\").show(100)\n"
   ]
  },
  {
   "cell_type": "code",
   "execution_count": 363,
   "metadata": {},
   "outputs": [
    {
     "name": "stdout",
     "output_type": "stream",
     "text": [
      "+-------------+--------------------+-------------+\n",
      "|       Region|             Country|sum(Quantity)|\n",
      "+-------------+--------------------+-------------+\n",
      "|         null|                null|      4906888|\n",
      "|       Others|                null|       604104|\n",
      "|      Amerika|                null|         4153|\n",
      "|           EU|                null|       290098|\n",
      "|British Isles|                null|      4008533|\n",
      "|         null|           Australia|        83653|\n",
      "|       Others|           Australia|        83653|\n",
      "|         null|             Austria|         4827|\n",
      "|           EU|             Austria|         4827|\n",
      "|       Others|             Bahrain|          260|\n",
      "|         null|             Bahrain|          260|\n",
      "|           EU|             Belgium|        23152|\n",
      "|         null|             Belgium|        23152|\n",
      "|      Amerika|              Brazil|          356|\n",
      "|         null|              Brazil|          356|\n",
      "|         null|              Canada|         2763|\n",
      "|      Amerika|              Canada|         2763|\n",
      "|       Others|     Channel Islands|         9479|\n",
      "|         null|     Channel Islands|         9479|\n",
      "|         null|              Cyprus|         6317|\n",
      "|       Others|              Cyprus|         6317|\n",
      "|       Others|      Czech Republic|          592|\n",
      "|         null|      Czech Republic|          592|\n",
      "|         null|             Denmark|         8188|\n",
      "|       Others|             Denmark|         8188|\n",
      "|       Others|                EIRE|       136329|\n",
      "|         null|                EIRE|       136329|\n",
      "|         null|  European Community|          497|\n",
      "|       Others|  European Community|          497|\n",
      "|         null|             Finland|        10666|\n",
      "|       Others|             Finland|        10666|\n",
      "|         null|              France|       109848|\n",
      "|           EU|              France|       109848|\n",
      "|         null|             Germany|       117448|\n",
      "|           EU|             Germany|       117448|\n",
      "|       Others|              Greece|         1556|\n",
      "|         null|              Greece|         1556|\n",
      "|       Others|             Iceland|         2458|\n",
      "|         null|             Iceland|         2458|\n",
      "|         null|              Israel|         3990|\n",
      "|       Others|              Israel|         3990|\n",
      "|           EU|               Italy|         7999|\n",
      "|         null|               Italy|         7999|\n",
      "|       Others|               Japan|        25218|\n",
      "|         null|               Japan|        25218|\n",
      "|       Others|             Lebanon|          386|\n",
      "|         null|             Lebanon|          386|\n",
      "|       Others|           Lithuania|          652|\n",
      "|         null|           Lithuania|          652|\n",
      "|       Others|               Malta|          944|\n",
      "|         null|               Malta|          944|\n",
      "|       Others|         Netherlands|       200128|\n",
      "|         null|         Netherlands|       200128|\n",
      "|         null|              Norway|        19247|\n",
      "|       Others|              Norway|        19247|\n",
      "|       Others|              Poland|         3653|\n",
      "|         null|              Poland|         3653|\n",
      "|         null|            Portugal|        16044|\n",
      "|       Others|            Portugal|        16044|\n",
      "|       Others|                 RSA|          352|\n",
      "|         null|                 RSA|          352|\n",
      "|       Others|        Saudi Arabia|           75|\n",
      "|         null|        Saudi Arabia|           75|\n",
      "|       Others|           Singapore|         5234|\n",
      "|         null|           Singapore|         5234|\n",
      "|         null|               Spain|        26824|\n",
      "|           EU|               Spain|        26824|\n",
      "|       Others|              Sweden|        35637|\n",
      "|         null|              Sweden|        35637|\n",
      "|         null|         Switzerland|        29778|\n",
      "|       Others|         Switzerland|        29778|\n",
      "|         null|                 USA|         1034|\n",
      "|      Amerika|                 USA|         1034|\n",
      "|         null|United Arab Emirates|          982|\n",
      "|       Others|United Arab Emirates|          982|\n",
      "|British Isles|      United Kingdom|      4008533|\n",
      "|         null|      United Kingdom|      4008533|\n",
      "|       Others|         Unspecified|         1789|\n",
      "|         null|         Unspecified|         1789|\n",
      "+-------------+--------------------+-------------+\n",
      "\n"
     ]
    }
   ],
   "source": [
    "# Aggregating with Roll up/Cube\n",
    "retailDFNoNull.cube(\"Region\",\"Country\").sum(\"Quantity\").orderBy(col(\"Country\")).show(100)\n"
   ]
  },
  {
   "cell_type": "code",
   "execution_count": 373,
   "metadata": {},
   "outputs": [
    {
     "name": "stdout",
     "output_type": "stream",
     "text": [
      "+------------------+-------+-------------+------+------+\n",
      "|           Country|Amerika|British Isles|    EU|Others|\n",
      "+------------------+-------+-------------+------+------+\n",
      "|            Sweden|   null|         null|  null| 35637|\n",
      "|         Singapore|   null|         null|  null|  5234|\n",
      "|           Germany|   null|         null|117448|  null|\n",
      "|               RSA|   null|         null|  null|   352|\n",
      "|            France|   null|         null|109848|  null|\n",
      "|            Greece|   null|         null|  null|  1556|\n",
      "|European Community|   null|         null|  null|   497|\n",
      "|           Belgium|   null|         null| 23152|  null|\n",
      "|           Finland|   null|         null|  null| 10666|\n",
      "|             Malta|   null|         null|  null|   944|\n",
      "|       Unspecified|   null|         null|  null|  1789|\n",
      "|             Italy|   null|         null|  7999|  null|\n",
      "|              EIRE|   null|         null|  null|136329|\n",
      "|         Lithuania|   null|         null|  null|   652|\n",
      "|            Norway|   null|         null|  null| 19247|\n",
      "|             Spain|   null|         null| 26824|  null|\n",
      "|           Denmark|   null|         null|  null|  8188|\n",
      "|            Israel|   null|         null|  null|  3990|\n",
      "|           Iceland|   null|         null|  null|  2458|\n",
      "|   Channel Islands|   null|         null|  null|  9479|\n",
      "+------------------+-------+-------------+------+------+\n",
      "only showing top 20 rows\n",
      "\n"
     ]
    }
   ],
   "source": [
    "#using pivot (Changes perspective)\n",
    "retailDFNoNull.select(\"Country\",\"Region\",\"Quantity\").groupBy(\"Country\").pivot(\"Region\").sum(\"Quantity\").show()"
   ]
  },
  {
   "cell_type": "code",
   "execution_count": 378,
   "metadata": {},
   "outputs": [
    {
     "name": "stdout",
     "output_type": "stream",
     "text": [
      "+--------------+-------------+--------+\n",
      "|       Country|       Region|Quantity|\n",
      "+--------------+-------------+--------+\n",
      "|United Kingdom|British Isles|       6|\n",
      "|United Kingdom|British Isles|       6|\n",
      "|United Kingdom|British Isles|       8|\n",
      "|United Kingdom|British Isles|       2|\n",
      "|United Kingdom|British Isles|       6|\n",
      "|United Kingdom|British Isles|       6|\n",
      "|United Kingdom|British Isles|       6|\n",
      "|United Kingdom|British Isles|       6|\n",
      "|United Kingdom|British Isles|       3|\n",
      "|United Kingdom|British Isles|       4|\n",
      "|United Kingdom|British Isles|       4|\n",
      "|United Kingdom|British Isles|       6|\n",
      "|United Kingdom|British Isles|       3|\n",
      "|United Kingdom|British Isles|       3|\n",
      "|United Kingdom|British Isles|       3|\n",
      "|        France|           EU|      24|\n",
      "|        France|           EU|      24|\n",
      "|        France|           EU|      18|\n",
      "|        France|           EU|      24|\n",
      "|        France|           EU|      24|\n",
      "+--------------+-------------+--------+\n",
      "only showing top 20 rows\n",
      "\n"
     ]
    }
   ],
   "source": [
    "#sampling data \n",
    "retailDFNoNull.select(\"Country\",\"Region\",\"Quantity\").sample(fraction=0.5).show()"
   ]
  },
  {
   "cell_type": "code",
   "execution_count": 405,
   "metadata": {},
   "outputs": [
    {
     "name": "stdout",
     "output_type": "stream",
     "text": [
      "+-------+-----------------+\n",
      "|summary|         Quantity|\n",
      "+-------+-----------------+\n",
      "|  count|           406829|\n",
      "|   mean|12.06130339774205|\n",
      "| stddev|248.6933700188259|\n",
      "|    min|           -80995|\n",
      "|    25%|                2|\n",
      "|    50%|                5|\n",
      "|    75%|               12|\n",
      "|    max|            80995|\n",
      "+-------+-----------------+\n",
      "\n"
     ]
    }
   ],
   "source": [
    "#computing statistics\n",
    "retailDFNoNull.select(\"Quantity\").summary().show()"
   ]
  },
  {
   "cell_type": "markdown",
   "metadata": {},
   "source": [
    "# Practise Questions\n",
    "\n",
    "Download the dataset from here: https://github.com/databricks/Spark-The-Definitive-Guide/blob/master/data/retail-data/by-day/2010-12-01.csv\n",
    "\n",
    "### SQL Query 1\n",
    "\n",
    "#### Use SQL query operation provided by SPARK in order to answer the following questions.\n",
    "\n",
    "Use \"spark.sql()\" function to write the queries.\n",
    "\n",
    "Note: the following questions are not automatically correct by the OLAT system, therefore, as far as the solutions result in the right answer they will be considered.\n",
    "\n",
    " \n",
    "\n",
    "#### How many orders did customers perform at which hour?"
   ]
  },
  {
   "cell_type": "code",
   "execution_count": 622,
   "metadata": {},
   "outputs": [],
   "source": [
    "#reading the data and initial processing\n",
    "\n",
    "retailsdata=sqlcontext.read.csv(\"2010-12-01.json\",header=True,inferSchema=True)"
   ]
  },
  {
   "cell_type": "code",
   "execution_count": 623,
   "metadata": {},
   "outputs": [
    {
     "name": "stdout",
     "output_type": "stream",
     "text": [
      "root\n",
      " |-- InvoiceNo: string (nullable = true)\n",
      " |-- StockCode: string (nullable = true)\n",
      " |-- Description: string (nullable = true)\n",
      " |-- Quantity: integer (nullable = true)\n",
      " |-- InvoiceDate: string (nullable = true)\n",
      " |-- UnitPrice: double (nullable = true)\n",
      " |-- CustomerID: double (nullable = true)\n",
      " |-- Country: string (nullable = true)\n",
      "\n"
     ]
    }
   ],
   "source": [
    "retailsdata.printSchema()"
   ]
  },
  {
   "cell_type": "code",
   "execution_count": 624,
   "metadata": {},
   "outputs": [
    {
     "name": "stdout",
     "output_type": "stream",
     "text": [
      "+---------+---------+--------------------+--------+-------------------+---------+----------+--------------+\n",
      "|InvoiceNo|StockCode|         Description|Quantity|        InvoiceDate|UnitPrice|CustomerID|       Country|\n",
      "+---------+---------+--------------------+--------+-------------------+---------+----------+--------------+\n",
      "|   536365|   85123A|WHITE HANGING HEA...|       6|2010-12-01 08:26:00|     2.55|   17850.0|United Kingdom|\n",
      "|   536365|    71053| WHITE METAL LANTERN|       6|2010-12-01 08:26:00|     3.39|   17850.0|United Kingdom|\n",
      "+---------+---------+--------------------+--------+-------------------+---------+----------+--------------+\n",
      "only showing top 2 rows\n",
      "\n"
     ]
    }
   ],
   "source": [
    "retailsdata.show(2)"
   ]
  },
  {
   "cell_type": "code",
   "execution_count": 625,
   "metadata": {},
   "outputs": [],
   "source": [
    "# Adding Date and Yearcolumns to the dataframe\n",
    "retailsdata=retailsdata.withColumn('Date',to_date(retailsdata[\"InvoiceDate\"],format=\"yyyy-MM-dd HH:mm:ss\"))\\\n",
    ".withColumn(\"Year\",year(retailsdata[\"InvoiceDate\"]))\\\n",
    ".withColumn(\"InvoiceDate\",to_timestamp(retailsdata[\"InvoiceDate\"]))\n",
    "                       "
   ]
  },
  {
   "cell_type": "code",
   "execution_count": 626,
   "metadata": {},
   "outputs": [
    {
     "name": "stdout",
     "output_type": "stream",
     "text": [
      "root\n",
      " |-- InvoiceNo: string (nullable = true)\n",
      " |-- StockCode: string (nullable = true)\n",
      " |-- Description: string (nullable = true)\n",
      " |-- Quantity: integer (nullable = true)\n",
      " |-- InvoiceDate: timestamp (nullable = true)\n",
      " |-- UnitPrice: double (nullable = true)\n",
      " |-- CustomerID: double (nullable = true)\n",
      " |-- Country: string (nullable = true)\n",
      " |-- Date: date (nullable = true)\n",
      " |-- Year: integer (nullable = true)\n",
      "\n"
     ]
    }
   ],
   "source": [
    "retailsdata.printSchema()"
   ]
  },
  {
   "cell_type": "code",
   "execution_count": 627,
   "metadata": {},
   "outputs": [
    {
     "name": "stdout",
     "output_type": "stream",
     "text": [
      "+---------+---------+--------------------+--------+-------------------+---------+----------+--------------+----------+----+\n",
      "|InvoiceNo|StockCode|         Description|Quantity|        InvoiceDate|UnitPrice|CustomerID|       Country|      Date|Year|\n",
      "+---------+---------+--------------------+--------+-------------------+---------+----------+--------------+----------+----+\n",
      "|   536365|   85123A|WHITE HANGING HEA...|       6|2010-12-01 08:26:00|     2.55|   17850.0|United Kingdom|2010-12-01|2010|\n",
      "|   536365|    71053| WHITE METAL LANTERN|       6|2010-12-01 08:26:00|     3.39|   17850.0|United Kingdom|2010-12-01|2010|\n",
      "|   536365|   84406B|CREAM CUPID HEART...|       8|2010-12-01 08:26:00|     2.75|   17850.0|United Kingdom|2010-12-01|2010|\n",
      "|   536365|   84029G|KNITTED UNION FLA...|       6|2010-12-01 08:26:00|     3.39|   17850.0|United Kingdom|2010-12-01|2010|\n",
      "|   536365|   84029E|RED WOOLLY HOTTIE...|       6|2010-12-01 08:26:00|     3.39|   17850.0|United Kingdom|2010-12-01|2010|\n",
      "|   536365|    22752|SET 7 BABUSHKA NE...|       2|2010-12-01 08:26:00|     7.65|   17850.0|United Kingdom|2010-12-01|2010|\n",
      "|   536365|    21730|GLASS STAR FROSTE...|       6|2010-12-01 08:26:00|     4.25|   17850.0|United Kingdom|2010-12-01|2010|\n",
      "|   536366|    22633|HAND WARMER UNION...|       6|2010-12-01 08:28:00|     1.85|   17850.0|United Kingdom|2010-12-01|2010|\n",
      "|   536366|    22632|HAND WARMER RED P...|       6|2010-12-01 08:28:00|     1.85|   17850.0|United Kingdom|2010-12-01|2010|\n",
      "|   536367|    84879|ASSORTED COLOUR B...|      32|2010-12-01 08:34:00|     1.69|   13047.0|United Kingdom|2010-12-01|2010|\n",
      "|   536367|    22745|POPPY'S PLAYHOUSE...|       6|2010-12-01 08:34:00|      2.1|   13047.0|United Kingdom|2010-12-01|2010|\n",
      "|   536367|    22748|POPPY'S PLAYHOUSE...|       6|2010-12-01 08:34:00|      2.1|   13047.0|United Kingdom|2010-12-01|2010|\n",
      "|   536367|    22749|FELTCRAFT PRINCES...|       8|2010-12-01 08:34:00|     3.75|   13047.0|United Kingdom|2010-12-01|2010|\n",
      "|   536367|    22310|IVORY KNITTED MUG...|       6|2010-12-01 08:34:00|     1.65|   13047.0|United Kingdom|2010-12-01|2010|\n",
      "|   536367|    84969|BOX OF 6 ASSORTED...|       6|2010-12-01 08:34:00|     4.25|   13047.0|United Kingdom|2010-12-01|2010|\n",
      "|   536367|    22623|BOX OF VINTAGE JI...|       3|2010-12-01 08:34:00|     4.95|   13047.0|United Kingdom|2010-12-01|2010|\n",
      "|   536367|    22622|BOX OF VINTAGE AL...|       2|2010-12-01 08:34:00|     9.95|   13047.0|United Kingdom|2010-12-01|2010|\n",
      "|   536367|    21754|HOME BUILDING BLO...|       3|2010-12-01 08:34:00|     5.95|   13047.0|United Kingdom|2010-12-01|2010|\n",
      "|   536367|    21755|LOVE BUILDING BLO...|       3|2010-12-01 08:34:00|     5.95|   13047.0|United Kingdom|2010-12-01|2010|\n",
      "|   536367|    21777|RECIPE BOX WITH M...|       4|2010-12-01 08:34:00|     7.95|   13047.0|United Kingdom|2010-12-01|2010|\n",
      "+---------+---------+--------------------+--------+-------------------+---------+----------+--------------+----------+----+\n",
      "only showing top 20 rows\n",
      "\n"
     ]
    }
   ],
   "source": [
    "retailsdata.show()"
   ]
  },
  {
   "cell_type": "code",
   "execution_count": 628,
   "metadata": {},
   "outputs": [],
   "source": [
    "#retailsdata=retailsdata.na.drop()"
   ]
  },
  {
   "cell_type": "code",
   "execution_count": 629,
   "metadata": {},
   "outputs": [
    {
     "name": "stdout",
     "output_type": "stream",
     "text": [
      "+-------------------+-------------+\n",
      "|        InvoiceDate|sum(Quantity)|\n",
      "+-------------------+-------------+\n",
      "|2010-12-01 08:26:00|           40|\n",
      "|2010-12-01 08:28:00|           12|\n",
      "|2010-12-01 08:34:00|           98|\n",
      "|2010-12-01 08:35:00|            3|\n",
      "|2010-12-01 08:45:00|          449|\n",
      "|2010-12-01 09:00:00|           80|\n",
      "|2010-12-01 09:01:00|           12|\n",
      "|2010-12-01 09:02:00|           88|\n",
      "|2010-12-01 09:09:00|           32|\n",
      "|2010-12-01 09:32:00|          200|\n",
      "|2010-12-01 09:34:00|           12|\n",
      "|2010-12-01 09:37:00|          454|\n",
      "|2010-12-01 09:41:00|          221|\n",
      "|2010-12-01 09:45:00|          134|\n",
      "|2010-12-01 09:49:00|           -1|\n",
      "|2010-12-01 09:53:00|          190|\n",
      "|2010-12-01 09:56:00|           53|\n",
      "|2010-12-01 09:57:00|          236|\n",
      "|2010-12-01 09:58:00|         1440|\n",
      "|2010-12-01 09:59:00|          108|\n",
      "+-------------------+-------------+\n",
      "only showing top 20 rows\n",
      "\n"
     ]
    }
   ],
   "source": [
    "# USing spark Query\n",
    "retailsdata.select(\"CustomerID\",\"InvoiceDate\",\"Quantity\").groupBy(\"InvoiceDate\").agg({\"Quantity\":\"sum\"})\\\n",
    ".orderBy(\"InvoiceDate\").show()"
   ]
  },
  {
   "cell_type": "code",
   "execution_count": 630,
   "metadata": {},
   "outputs": [],
   "source": [
    "#using SQL query\n",
    "#initiating\n",
    "retailsdata.createOrReplaceTempView(\"retails\")"
   ]
  },
  {
   "cell_type": "code",
   "execution_count": 631,
   "metadata": {},
   "outputs": [
    {
     "name": "stdout",
     "output_type": "stream",
     "text": [
      "+-------------------+-------------+\n",
      "|        InvoiceDate|sum(Quantity)|\n",
      "+-------------------+-------------+\n",
      "|2010-12-01 08:26:00|           40|\n",
      "|2010-12-01 08:28:00|           12|\n",
      "|2010-12-01 08:34:00|           98|\n",
      "|2010-12-01 08:35:00|            3|\n",
      "|2010-12-01 08:45:00|          449|\n",
      "|2010-12-01 09:00:00|           80|\n",
      "|2010-12-01 09:01:00|           12|\n",
      "|2010-12-01 09:02:00|           88|\n",
      "|2010-12-01 09:09:00|           32|\n",
      "|2010-12-01 09:32:00|          200|\n",
      "|2010-12-01 09:34:00|           12|\n",
      "|2010-12-01 09:37:00|          454|\n",
      "|2010-12-01 09:41:00|          221|\n",
      "|2010-12-01 09:45:00|          134|\n",
      "|2010-12-01 09:49:00|           -1|\n",
      "|2010-12-01 09:53:00|          190|\n",
      "|2010-12-01 09:56:00|           53|\n",
      "|2010-12-01 09:57:00|          236|\n",
      "|2010-12-01 09:58:00|         1440|\n",
      "|2010-12-01 09:59:00|          108|\n",
      "+-------------------+-------------+\n",
      "only showing top 20 rows\n",
      "\n"
     ]
    }
   ],
   "source": [
    "#SQL query\n",
    "spark.sql(\"\"\"SELECT InvoiceDate,sum(Quantity) FROM retails Group by InvoiceDate Order by InvoiceDate ;\"\"\").show()"
   ]
  },
  {
   "cell_type": "markdown",
   "metadata": {},
   "source": [
    "###  SQL query 2\n",
    "\n",
    "#### Use SQL query operation provided by SPARK in order to answer the following questions.\n",
    "\n",
    "Use \"spark.sql()\" function to write the queries.\n",
    "\n",
    "Note: the following questions are not automatically correct by the OLAT system, therefore, as far as the solutions result in the right answer they will be considered.\n",
    "\n",
    " \n",
    "\n",
    "#### How frequently was each product bought in different countries?\n",
    "\n"
   ]
  },
  {
   "cell_type": "code",
   "execution_count": 632,
   "metadata": {},
   "outputs": [
    {
     "name": "stdout",
     "output_type": "stream",
     "text": [
      "+---------+--------+--------------+\n",
      "|StockCode|Quantity|       Country|\n",
      "+---------+--------+--------------+\n",
      "|   85123A|       6|United Kingdom|\n",
      "|    71053|       6|United Kingdom|\n",
      "|   84406B|       8|United Kingdom|\n",
      "|   84029G|       6|United Kingdom|\n",
      "|   84029E|       6|United Kingdom|\n",
      "+---------+--------+--------------+\n",
      "only showing top 5 rows\n",
      "\n"
     ]
    }
   ],
   "source": [
    "# First using spark query\n",
    "retailsdata.select(\"StockCode\",\"Quantity\",\"Country\").show(5)"
   ]
  },
  {
   "cell_type": "code",
   "execution_count": 633,
   "metadata": {},
   "outputs": [
    {
     "name": "stdout",
     "output_type": "stream",
     "text": [
      "+---------+--------------+---------------+\n",
      "|StockCode|       Country|count(Quantity)|\n",
      "+---------+--------------+---------------+\n",
      "|    10002|United Kingdom|              1|\n",
      "|    10002|        France|              1|\n",
      "|    10125|United Kingdom|              1|\n",
      "|    10133|United Kingdom|              1|\n",
      "|    10135|United Kingdom|              1|\n",
      "|    11001|United Kingdom|              1|\n",
      "|   15044B|United Kingdom|              1|\n",
      "|  15056BL|United Kingdom|              3|\n",
      "|   15056N|United Kingdom|              3|\n",
      "|   15056P|United Kingdom|              1|\n",
      "|    16014|United Kingdom|              1|\n",
      "|    16016|United Kingdom|              1|\n",
      "|   16168M|United Kingdom|              1|\n",
      "|    16236|United Kingdom|              2|\n",
      "|    16237|United Kingdom|              4|\n",
      "|    16238|United Kingdom|              3|\n",
      "|   16258A|United Kingdom|              1|\n",
      "|    17003|United Kingdom|              2|\n",
      "|   17011F|United Kingdom|              1|\n",
      "|   17012A|United Kingdom|              2|\n",
      "+---------+--------------+---------------+\n",
      "only showing top 20 rows\n",
      "\n"
     ]
    }
   ],
   "source": [
    "# How frequently was each product bought in different countries?\n",
    "retailsdata.groupBy(\"StockCode\",\"Country\").agg({\"Quantity\":\"count\"}).orderBy(\"StockCode\").show()"
   ]
  },
  {
   "cell_type": "code",
   "execution_count": 634,
   "metadata": {},
   "outputs": [],
   "source": [
    "#retailsdata.rollup(\"Country\",\"StockCode\").agg({\"Quantity\":\"count\"}).orderBy(\"StockCode\").show()"
   ]
  },
  {
   "cell_type": "code",
   "execution_count": 635,
   "metadata": {},
   "outputs": [],
   "source": [
    "#Using SQL query\n",
    "retailsdata.createOrReplaceTempView(\"retails\")"
   ]
  },
  {
   "cell_type": "code",
   "execution_count": 636,
   "metadata": {},
   "outputs": [
    {
     "name": "stdout",
     "output_type": "stream",
     "text": [
      "+---------+--------------+---------------+\n",
      "|StockCode|       Country|count(Quantity)|\n",
      "+---------+--------------+---------------+\n",
      "|    10002|United Kingdom|              1|\n",
      "|    10002|        France|              1|\n",
      "|    10125|United Kingdom|              1|\n",
      "|    10133|United Kingdom|              1|\n",
      "|    10135|United Kingdom|              1|\n",
      "|    11001|United Kingdom|              1|\n",
      "|   15044B|United Kingdom|              1|\n",
      "|  15056BL|United Kingdom|              3|\n",
      "|   15056N|United Kingdom|              3|\n",
      "|   15056P|United Kingdom|              1|\n",
      "|    16014|United Kingdom|              1|\n",
      "|    16016|United Kingdom|              1|\n",
      "|   16168M|United Kingdom|              1|\n",
      "|    16236|United Kingdom|              2|\n",
      "|    16237|United Kingdom|              4|\n",
      "|    16238|United Kingdom|              3|\n",
      "|   16258A|United Kingdom|              1|\n",
      "|    17003|United Kingdom|              2|\n",
      "|   17011F|United Kingdom|              1|\n",
      "|   17012A|United Kingdom|              2|\n",
      "+---------+--------------+---------------+\n",
      "only showing top 20 rows\n",
      "\n"
     ]
    }
   ],
   "source": [
    "spark.sql(\"\"\"SELECT StockCode,Country,count(Quantity) FROM retails Group by StockCode,Country Order by StockCode\"\"\").show()"
   ]
  },
  {
   "cell_type": "markdown",
   "metadata": {},
   "source": [
    "# Programming Questions\n",
    "\n",
    "### Slice operation\n",
    "\n",
    "#### Select from a datacube a slice that contains only items from the United States."
   ]
  },
  {
   "cell_type": "code",
   "execution_count": 637,
   "metadata": {},
   "outputs": [
    {
     "name": "stdout",
     "output_type": "stream",
     "text": [
      "+---------+---------+--------------------+--------+-------------------+---------+----------+--------------+----------+----+\n",
      "|InvoiceNo|StockCode|         Description|Quantity|        InvoiceDate|UnitPrice|CustomerID|       Country|      Date|Year|\n",
      "+---------+---------+--------------------+--------+-------------------+---------+----------+--------------+----------+----+\n",
      "|   536365|   85123A|WHITE HANGING HEA...|       6|2010-12-01 08:26:00|     2.55|   17850.0|United Kingdom|2010-12-01|2010|\n",
      "|   536365|    71053| WHITE METAL LANTERN|       6|2010-12-01 08:26:00|     3.39|   17850.0|United Kingdom|2010-12-01|2010|\n",
      "|   536365|   84406B|CREAM CUPID HEART...|       8|2010-12-01 08:26:00|     2.75|   17850.0|United Kingdom|2010-12-01|2010|\n",
      "|   536365|   84029G|KNITTED UNION FLA...|       6|2010-12-01 08:26:00|     3.39|   17850.0|United Kingdom|2010-12-01|2010|\n",
      "|   536365|   84029E|RED WOOLLY HOTTIE...|       6|2010-12-01 08:26:00|     3.39|   17850.0|United Kingdom|2010-12-01|2010|\n",
      "+---------+---------+--------------------+--------+-------------------+---------+----------+--------------+----------+----+\n",
      "only showing top 5 rows\n",
      "\n"
     ]
    }
   ],
   "source": [
    "retailsdata.show(5)"
   ]
  },
  {
   "cell_type": "code",
   "execution_count": 638,
   "metadata": {},
   "outputs": [
    {
     "name": "stdout",
     "output_type": "stream",
     "text": [
      "+---------+---------+--------------------+--------+-------------------+---------+----------+--------------+----------+----+\n",
      "|InvoiceNo|StockCode|         Description|Quantity|        InvoiceDate|UnitPrice|CustomerID|       Country|      Date|Year|\n",
      "+---------+---------+--------------------+--------+-------------------+---------+----------+--------------+----------+----+\n",
      "|   536365|   85123A|WHITE HANGING HEA...|       6|2010-12-01 08:26:00|     2.55|   17850.0|United Kingdom|2010-12-01|2010|\n",
      "|   536365|    71053| WHITE METAL LANTERN|       6|2010-12-01 08:26:00|     3.39|   17850.0|United Kingdom|2010-12-01|2010|\n",
      "|   536365|   84406B|CREAM CUPID HEART...|       8|2010-12-01 08:26:00|     2.75|   17850.0|United Kingdom|2010-12-01|2010|\n",
      "|   536365|   84029G|KNITTED UNION FLA...|       6|2010-12-01 08:26:00|     3.39|   17850.0|United Kingdom|2010-12-01|2010|\n",
      "|   536365|   84029E|RED WOOLLY HOTTIE...|       6|2010-12-01 08:26:00|     3.39|   17850.0|United Kingdom|2010-12-01|2010|\n",
      "|   536365|    22752|SET 7 BABUSHKA NE...|       2|2010-12-01 08:26:00|     7.65|   17850.0|United Kingdom|2010-12-01|2010|\n",
      "|   536365|    21730|GLASS STAR FROSTE...|       6|2010-12-01 08:26:00|     4.25|   17850.0|United Kingdom|2010-12-01|2010|\n",
      "|   536366|    22633|HAND WARMER UNION...|       6|2010-12-01 08:28:00|     1.85|   17850.0|United Kingdom|2010-12-01|2010|\n",
      "|   536366|    22632|HAND WARMER RED P...|       6|2010-12-01 08:28:00|     1.85|   17850.0|United Kingdom|2010-12-01|2010|\n",
      "|   536367|    84879|ASSORTED COLOUR B...|      32|2010-12-01 08:34:00|     1.69|   13047.0|United Kingdom|2010-12-01|2010|\n",
      "|   536367|    22745|POPPY'S PLAYHOUSE...|       6|2010-12-01 08:34:00|      2.1|   13047.0|United Kingdom|2010-12-01|2010|\n",
      "|   536367|    22748|POPPY'S PLAYHOUSE...|       6|2010-12-01 08:34:00|      2.1|   13047.0|United Kingdom|2010-12-01|2010|\n",
      "|   536367|    22749|FELTCRAFT PRINCES...|       8|2010-12-01 08:34:00|     3.75|   13047.0|United Kingdom|2010-12-01|2010|\n",
      "|   536367|    22310|IVORY KNITTED MUG...|       6|2010-12-01 08:34:00|     1.65|   13047.0|United Kingdom|2010-12-01|2010|\n",
      "|   536367|    84969|BOX OF 6 ASSORTED...|       6|2010-12-01 08:34:00|     4.25|   13047.0|United Kingdom|2010-12-01|2010|\n",
      "|   536367|    22623|BOX OF VINTAGE JI...|       3|2010-12-01 08:34:00|     4.95|   13047.0|United Kingdom|2010-12-01|2010|\n",
      "|   536367|    22622|BOX OF VINTAGE AL...|       2|2010-12-01 08:34:00|     9.95|   13047.0|United Kingdom|2010-12-01|2010|\n",
      "|   536367|    21754|HOME BUILDING BLO...|       3|2010-12-01 08:34:00|     5.95|   13047.0|United Kingdom|2010-12-01|2010|\n",
      "|   536367|    21755|LOVE BUILDING BLO...|       3|2010-12-01 08:34:00|     5.95|   13047.0|United Kingdom|2010-12-01|2010|\n",
      "|   536367|    21777|RECIPE BOX WITH M...|       4|2010-12-01 08:34:00|     7.95|   13047.0|United Kingdom|2010-12-01|2010|\n",
      "+---------+---------+--------------------+--------+-------------------+---------+----------+--------------+----------+----+\n",
      "only showing top 20 rows\n",
      "\n"
     ]
    }
   ],
   "source": [
    "retailsdata.filter(retailsdata[\"Country\"]==\"United Kingdom\").show()"
   ]
  },
  {
   "cell_type": "markdown",
   "metadata": {},
   "source": [
    "### Dice Operation\n",
    "\n",
    "#### Select a sub-cube from a datacube that contains items from United states and United Kingdom with quantities 0:\n",
    "\n"
   ]
  },
  {
   "cell_type": "code",
   "execution_count": 684,
   "metadata": {},
   "outputs": [],
   "source": [
    "\n",
    "dice = retailsdata.where(((col(\"Country\") == \"United States\") | (col(\"Country\") == \"United Kingdom\")) & (col(\"Quantity\") == 1))"
   ]
  },
  {
   "cell_type": "code",
   "execution_count": 686,
   "metadata": {},
   "outputs": [
    {
     "name": "stdout",
     "output_type": "stream",
     "text": [
      "+---------+---------+--------------------+--------+-------------------+---------+----------+--------------+----------+----+\n",
      "|InvoiceNo|StockCode|         Description|Quantity|        InvoiceDate|UnitPrice|CustomerID|       Country|      Date|Year|\n",
      "+---------+---------+--------------------+--------+-------------------+---------+----------+--------------+----------+----+\n",
      "|   536381|    71270|     PHOTO CLIP LINE|       1|2010-12-01 09:41:00|     1.25|   15311.0|United Kingdom|2010-12-01|2010|\n",
      "|   536381|    22262|FELT EGG COSY CHI...|       1|2010-12-01 09:41:00|     0.85|   15311.0|United Kingdom|2010-12-01|2010|\n",
      "|   536381|    22637|PIGGY BANK RETROS...|       1|2010-12-01 09:41:00|     2.55|   15311.0|United Kingdom|2010-12-01|2010|\n",
      "|   536381|    21166|COOK WITH WINE ME...|       1|2010-12-01 09:41:00|     1.95|   15311.0|United Kingdom|2010-12-01|2010|\n",
      "|   536381|   37444A|YELLOW BREAKFAST ...|       1|2010-12-01 09:41:00|     2.95|   15311.0|United Kingdom|2010-12-01|2010|\n",
      "|   536381|   37444C|PINK BREAKFAST CU...|       1|2010-12-01 09:41:00|     2.95|   15311.0|United Kingdom|2010-12-01|2010|\n",
      "|   536381|    22083|PAPER CHAIN KIT R...|       1|2010-12-01 09:41:00|     2.95|   15311.0|United Kingdom|2010-12-01|2010|\n",
      "|   536381|    22261|FELT EGG COSY WHI...|       1|2010-12-01 09:41:00|     0.85|   15311.0|United Kingdom|2010-12-01|2010|\n",
      "|   536381|    84832|ZINC WILLIE WINKI...|       1|2010-12-01 09:41:00|     0.85|   15311.0|United Kingdom|2010-12-01|2010|\n",
      "|   536381|    22644|CERAMIC CHERRY CA...|       1|2010-12-01 09:41:00|     1.45|   15311.0|United Kingdom|2010-12-01|2010|\n",
      "|   536381|    21533|RETROSPOT LARGE M...|       1|2010-12-01 09:41:00|     4.95|   15311.0|United Kingdom|2010-12-01|2010|\n",
      "|   536381|    22176|   BLUE OWL SOFT TOY|       1|2010-12-01 09:41:00|     2.95|   15311.0|United Kingdom|2010-12-01|2010|\n",
      "|   536381|    22438|BALLOON ART MAKE ...|       1|2010-12-01 09:41:00|     1.95|   15311.0|United Kingdom|2010-12-01|2010|\n",
      "|   536385|    22783|SET 3 WICKER OVAL...|       1|2010-12-01 09:56:00|    19.95|   17420.0|United Kingdom|2010-12-01|2010|\n",
      "|   536392|    22827|RUSTIC  SEVENTEEN...|       1|2010-12-01 10:29:00|    165.0|   13705.0|United Kingdom|2010-12-01|2010|\n",
      "|   536401|    22110|BIRD HOUSE HOT WA...|       1|2010-12-01 11:21:00|     2.55|   15862.0|United Kingdom|2010-12-01|2010|\n",
      "|   536401|    22098|BOUDOIR SQUARE TI...|       1|2010-12-01 11:21:00|     1.25|   15862.0|United Kingdom|2010-12-01|2010|\n",
      "|   536401|    22766| PHOTO FRAME CORNICE|       1|2010-12-01 11:21:00|     2.95|   15862.0|United Kingdom|2010-12-01|2010|\n",
      "|   536401|    22451|SILK PURSE BABUSH...|       1|2010-12-01 11:21:00|     3.35|   15862.0|United Kingdom|2010-12-01|2010|\n",
      "|   536401|    22549|    PICTURE DOMINOES|       1|2010-12-01 11:21:00|     1.45|   15862.0|United Kingdom|2010-12-01|2010|\n",
      "+---------+---------+--------------------+--------+-------------------+---------+----------+--------------+----------+----+\n",
      "only showing top 20 rows\n",
      "\n"
     ]
    }
   ],
   "source": [
    "dice.show()"
   ]
  },
  {
   "cell_type": "code",
   "execution_count": 683,
   "metadata": {},
   "outputs": [
    {
     "name": "stdout",
     "output_type": "stream",
     "text": [
      "+---------+--------------+---------------+\n",
      "|StockCode|       Country|count(Quantity)|\n",
      "+---------+--------------+---------------+\n",
      "|     null|          null|           3108|\n",
      "|    10002|          null|              2|\n",
      "|    10002|United Kingdom|              1|\n",
      "|    10002|        France|              1|\n",
      "|    10125|United Kingdom|              1|\n",
      "|    10125|          null|              1|\n",
      "|    10133|United Kingdom|              1|\n",
      "|    10133|          null|              1|\n",
      "|    10135|          null|              1|\n",
      "|    10135|United Kingdom|              1|\n",
      "|    11001|United Kingdom|              1|\n",
      "|    11001|          null|              1|\n",
      "|   15044B|          null|              1|\n",
      "|   15044B|United Kingdom|              1|\n",
      "|  15056BL|United Kingdom|              3|\n",
      "|  15056BL|          null|              3|\n",
      "|   15056N|United Kingdom|              3|\n",
      "|   15056N|          null|              3|\n",
      "|   15056P|          null|              1|\n",
      "|   15056P|United Kingdom|              1|\n",
      "+---------+--------------+---------------+\n",
      "only showing top 20 rows\n",
      "\n"
     ]
    }
   ],
   "source": [
    "#Roll up operation,cube\n",
    "\n",
    "retailsdata.rollup(\"StockCode\",\"Country\").agg({\"Quantity\":\"count\"}).orderBy(\"StockCode\").show()\n"
   ]
  },
  {
   "cell_type": "code",
   "execution_count": null,
   "metadata": {},
   "outputs": [],
   "source": []
  }
 ],
 "metadata": {
  "kernelspec": {
   "display_name": "Python 3",
   "language": "python",
   "name": "python3"
  },
  "language_info": {
   "codemirror_mode": {
    "name": "ipython",
    "version": 3
   },
   "file_extension": ".py",
   "mimetype": "text/x-python",
   "name": "python",
   "nbconvert_exporter": "python",
   "pygments_lexer": "ipython3",
   "version": "3.7.4"
  }
 },
 "nbformat": 4,
 "nbformat_minor": 2
}
