{
 "cells": [
  {
   "cell_type": "code",
   "execution_count": 1,
   "metadata": {},
   "outputs": [],
   "source": [
    "import os\n",
    "import sys\n",
    "\n",
    "os.environ['PYSPARK_PYTHON'] = sys.executable\n",
    "os.environ['PYSPARK_DRIVER_PYTHON'] = sys.executable\n",
    "\n",
    "import findspark\n",
    "findspark.init()\n",
    "findspark.find()\n",
    "import pyspark\n",
    "\n",
    "from pyspark.sql import SparkSession\n",
    "from pyspark import SparkContext, SparkConf\n",
    "from pyspark.sql import SQLContext\n",
    "\n",
    "conf = pyspark.SparkConf().setAppName('appName').setMaster('local')\n",
    "sc = pyspark.SparkContext(conf=conf)\n",
    "spark = SparkSession(sc)\n",
    "sqlcontext=SQLContext(sc)"
   ]
  },
  {
   "cell_type": "code",
   "execution_count": 41,
   "metadata": {},
   "outputs": [],
   "source": [
    "trainingDf=spark.read.csv(\"vehicle_stolen_dataset.csv\",header=True,inferSchema=True)"
   ]
  },
  {
   "cell_type": "code",
   "execution_count": 42,
   "metadata": {},
   "outputs": [],
   "source": [
    "trainingDf=trainingDf.select(\"brand\",\"color\",\"time\",\"stoled\")"
   ]
  },
  {
   "cell_type": "code",
   "execution_count": 43,
   "metadata": {},
   "outputs": [
    {
     "name": "stdout",
     "output_type": "stream",
     "text": [
      "+------+-----+-----+------+\n",
      "| brand|color| time|stoled|\n",
      "+------+-----+-----+------+\n",
      "|   BMW|black|night|   yes|\n",
      "|  Audi|black|night|    no|\n",
      "|NISSAN|black|night|   yes|\n",
      "|  VEGA|  red|  day|   yes|\n",
      "|   BMW| blue|  day|    no|\n",
      "|  Audi|black|  day|   yes|\n",
      "|  VEGA|  red|night|    no|\n",
      "|  Audi| blue|  day|   yes|\n",
      "|  VEGA|black|  day|   yes|\n",
      "|NISSAN| blue|  day|    no|\n",
      "|   BMW|black|night|   yes|\n",
      "|NISSAN|  red|  day|    no|\n",
      "|  VEGA|black|night|   yes|\n",
      "|   BMW|  red|  day|    no|\n",
      "|  Audi|black|  day|   yes|\n",
      "|  Audi| blue|night|   yes|\n",
      "|  Audi|  red|  day|    no|\n",
      "|NISSAN|black|  day|   yes|\n",
      "|   BMW| blue|  day|   yes|\n",
      "|   BMW|  red|night|   yes|\n",
      "+------+-----+-----+------+\n",
      "\n"
     ]
    },
    {
     "data": {
      "text/plain": [
       "['brand', 'color', 'time', 'stoled']"
      ]
     },
     "execution_count": 43,
     "metadata": {},
     "output_type": "execute_result"
    }
   ],
   "source": [
    "trainingDf.show()\n",
    "trainingDf.columns"
   ]
  },
  {
   "cell_type": "code",
   "execution_count": 39,
   "metadata": {},
   "outputs": [],
   "source": [
    "#train,test=trainingDf.randomSplit([0.7,0.3])\n",
    "#test=spark.createDataFrame([(\"Audi\",\"blue\",\"day\",\"yes\")]).toDF(\"brand\",\"color\",\"time\",\"stoled\")"
   ]
  },
  {
   "cell_type": "code",
   "execution_count": 40,
   "metadata": {},
   "outputs": [],
   "source": [
    "from pyspark.ml.feature import RFormula"
   ]
  },
  {
   "cell_type": "code",
   "execution_count": 44,
   "metadata": {},
   "outputs": [],
   "source": [
    "rf=RFormula(formula=\"stoled ~ brand + color + time\")\n",
    "indexed_trainingDF=rf.fit(trainingDf).transform(trainingDf)"
   ]
  },
  {
   "cell_type": "code",
   "execution_count": 45,
   "metadata": {},
   "outputs": [
    {
     "name": "stdout",
     "output_type": "stream",
     "text": [
      "+------+-----+-----+------+--------------------+-----+\n",
      "| brand|color| time|stoled|            features|label|\n",
      "+------+-----+-----+------+--------------------+-----+\n",
      "|   BMW|black|night|   yes| (6,[1,3],[1.0,1.0])|  0.0|\n",
      "|  Audi|black|night|    no| (6,[0,3],[1.0,1.0])|  1.0|\n",
      "|NISSAN|black|night|   yes| (6,[2,3],[1.0,1.0])|  0.0|\n",
      "|  VEGA|  red|  day|   yes| (6,[4,5],[1.0,1.0])|  0.0|\n",
      "|   BMW| blue|  day|    no| (6,[1,5],[1.0,1.0])|  1.0|\n",
      "|  Audi|black|  day|   yes|[1.0,0.0,0.0,1.0,...|  0.0|\n",
      "|  VEGA|  red|night|    no|       (6,[4],[1.0])|  1.0|\n",
      "|  Audi| blue|  day|   yes| (6,[0,5],[1.0,1.0])|  0.0|\n",
      "|  VEGA|black|  day|   yes| (6,[3,5],[1.0,1.0])|  0.0|\n",
      "|NISSAN| blue|  day|    no| (6,[2,5],[1.0,1.0])|  1.0|\n",
      "|   BMW|black|night|   yes| (6,[1,3],[1.0,1.0])|  0.0|\n",
      "|NISSAN|  red|  day|    no|[0.0,0.0,1.0,0.0,...|  1.0|\n",
      "|  VEGA|black|night|   yes|       (6,[3],[1.0])|  0.0|\n",
      "|   BMW|  red|  day|    no|[0.0,1.0,0.0,0.0,...|  1.0|\n",
      "|  Audi|black|  day|   yes|[1.0,0.0,0.0,1.0,...|  0.0|\n",
      "|  Audi| blue|night|   yes|       (6,[0],[1.0])|  0.0|\n",
      "|  Audi|  red|  day|    no|[1.0,0.0,0.0,0.0,...|  1.0|\n",
      "|NISSAN|black|  day|   yes|[0.0,0.0,1.0,1.0,...|  0.0|\n",
      "|   BMW| blue|  day|   yes| (6,[1,5],[1.0,1.0])|  0.0|\n",
      "|   BMW|  red|night|   yes| (6,[1,4],[1.0,1.0])|  0.0|\n",
      "+------+-----+-----+------+--------------------+-----+\n",
      "\n"
     ]
    }
   ],
   "source": [
    "indexed_trainingDF.show()"
   ]
  },
  {
   "cell_type": "code",
   "execution_count": 14,
   "metadata": {},
   "outputs": [],
   "source": [
    "from pyspark.ml.classification import NaiveBayes\n",
    "from pyspark.ml.linalg import *"
   ]
  },
  {
   "cell_type": "code",
   "execution_count": 55,
   "metadata": {},
   "outputs": [],
   "source": [
    "train,test=indexed_trainingDF.randomSplit([0.7,0.3],1234)\n"
   ]
  },
  {
   "cell_type": "code",
   "execution_count": 56,
   "metadata": {},
   "outputs": [],
   "source": [
    "nb=NaiveBayes(featuresCol=\"features\",labelCol=\"label\")"
   ]
  },
  {
   "cell_type": "code",
   "execution_count": 57,
   "metadata": {},
   "outputs": [],
   "source": [
    "#stages=[rf,nb]"
   ]
  },
  {
   "cell_type": "code",
   "execution_count": 58,
   "metadata": {},
   "outputs": [],
   "source": [
    "#from pyspark.ml import Pipeline"
   ]
  },
  {
   "cell_type": "code",
   "execution_count": 59,
   "metadata": {},
   "outputs": [],
   "source": [
    "#pipeline=Pipeline().setStages(stages)"
   ]
  },
  {
   "cell_type": "code",
   "execution_count": 60,
   "metadata": {},
   "outputs": [],
   "source": [
    "model=nb.fit(train)"
   ]
  },
  {
   "cell_type": "code",
   "execution_count": 61,
   "metadata": {},
   "outputs": [],
   "source": [
    "pred_results=model.transform(test)"
   ]
  },
  {
   "cell_type": "code",
   "execution_count": 62,
   "metadata": {},
   "outputs": [
    {
     "name": "stdout",
     "output_type": "stream",
     "text": [
      "+-----+-----+-----+------+--------------------+-----+--------------------+--------------------+----------+\n",
      "|brand|color| time|stoled|            features|label|       rawPrediction|         probability|prediction|\n",
      "+-----+-----+-----+------+--------------------+-----+--------------------+--------------------+----------+\n",
      "| Audi|black|  day|   yes|[1.0,0.0,0.0,1.0,...|  0.0|[-5.8900165215892...|[0.66029056470057...|       0.0|\n",
      "| Audi|black|  day|   yes|[1.0,0.0,0.0,1.0,...|  0.0|[-5.8900165215892...|[0.66029056470057...|       0.0|\n",
      "| Audi| blue|night|   yes|       (6,[0],[1.0])|  0.0|[-3.1114930638296...|[0.43682310469314...|       1.0|\n",
      "+-----+-----+-----+------+--------------------+-----+--------------------+--------------------+----------+\n",
      "\n"
     ]
    }
   ],
   "source": [
    "pred_results.show()"
   ]
  },
  {
   "cell_type": "code",
   "execution_count": 63,
   "metadata": {},
   "outputs": [],
   "source": [
    "from pyspark.ml.evaluation import MulticlassClassificationEvaluator"
   ]
  },
  {
   "cell_type": "code",
   "execution_count": 64,
   "metadata": {},
   "outputs": [],
   "source": [
    "evaluator=MulticlassClassificationEvaluator().setLabelCol(\"label\")"
   ]
  },
  {
   "cell_type": "code",
   "execution_count": 65,
   "metadata": {},
   "outputs": [],
   "source": [
    "accuracy=evaluator.evaluate(pred_results)"
   ]
  },
  {
   "cell_type": "code",
   "execution_count": 66,
   "metadata": {},
   "outputs": [
    {
     "data": {
      "text/plain": [
       "0.8000000000000002"
      ]
     },
     "execution_count": 66,
     "metadata": {},
     "output_type": "execute_result"
    }
   ],
   "source": [
    "accuracy"
   ]
  },
  {
   "cell_type": "code",
   "execution_count": null,
   "metadata": {},
   "outputs": [],
   "source": []
  },
  {
   "cell_type": "code",
   "execution_count": null,
   "metadata": {},
   "outputs": [],
   "source": []
  }
 ],
 "metadata": {
  "kernelspec": {
   "display_name": "Python 3",
   "language": "python",
   "name": "python3"
  },
  "language_info": {
   "codemirror_mode": {
    "name": "ipython",
    "version": 3
   },
   "file_extension": ".py",
   "mimetype": "text/x-python",
   "name": "python",
   "nbconvert_exporter": "python",
   "pygments_lexer": "ipython3",
   "version": "3.7.4"
  }
 },
 "nbformat": 4,
 "nbformat_minor": 2
}
