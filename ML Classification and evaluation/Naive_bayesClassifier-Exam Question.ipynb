{
 "cells": [
  {
   "cell_type": "code",
   "execution_count": 1,
   "metadata": {},
   "outputs": [],
   "source": [
    "import os\n",
    "import sys\n",
    "\n",
    "os.environ['PYSPARK_PYTHON'] = sys.executable\n",
    "os.environ['PYSPARK_DRIVER_PYTHON'] = sys.executable\n",
    "\n",
    "import findspark\n",
    "findspark.init()\n",
    "findspark.find()\n",
    "import pyspark\n",
    "\n",
    "from pyspark.sql import SparkSession\n",
    "from pyspark import SparkContext, SparkConf\n",
    "from pyspark.sql import SQLContext\n",
    "\n",
    "conf = pyspark.SparkConf().setAppName('appName').setMaster('local')\n",
    "sc = pyspark.SparkContext(conf=conf)\n",
    "spark = SparkSession(sc)\n",
    "sqlcontext=SQLContext(sc)"
   ]
  },
  {
   "cell_type": "code",
   "execution_count": 156,
   "metadata": {},
   "outputs": [],
   "source": [
    "trainingDf=spark.read.csv(\"df.csv\",header=True,inferSchema=True)\n",
    "test=spark.createDataFrame([(38,71000)]).toDF(\"Age\",\"Salary\")"
   ]
  },
  {
   "cell_type": "code",
   "execution_count": 157,
   "metadata": {},
   "outputs": [
    {
     "name": "stdout",
     "output_type": "stream",
     "text": [
      "+---+------+---------+\n",
      "|Age|Salary|Purchased|\n",
      "+---+------+---------+\n",
      "| 59| 88000|        0|\n",
      "| 35| 61000|        1|\n",
      "| 37| 70000|        0|\n",
      "| 52| 21000|        0|\n",
      "| 48|141000|        1|\n",
      "| 37| 93000|        0|\n",
      "| 37| 62000|        1|\n",
      "| 48|138000|        0|\n",
      "| 41| 79000|        1|\n",
      "| 37| 78000|        0|\n",
      "| 39|134000|        0|\n",
      "| 49| 89000|        0|\n",
      "| 55| 39000|        0|\n",
      "| 37| 77000|        1|\n",
      "| 35| 57000|        1|\n",
      "| 36| 63000|        1|\n",
      "| 42| 73000|        0|\n",
      "+---+------+---------+\n",
      "\n",
      "+---+------+\n",
      "|Age|Salary|\n",
      "+---+------+\n",
      "| 38| 71000|\n",
      "+---+------+\n",
      "\n"
     ]
    },
    {
     "data": {
      "text/plain": [
       "(None, None)"
      ]
     },
     "execution_count": 157,
     "metadata": {},
     "output_type": "execute_result"
    }
   ],
   "source": [
    "trainingDf.show(),test.show()"
   ]
  },
  {
   "cell_type": "code",
   "execution_count": 158,
   "metadata": {},
   "outputs": [
    {
     "data": {
      "text/plain": [
       "['Age', 'Salary', 'Purchased']"
      ]
     },
     "execution_count": 158,
     "metadata": {},
     "output_type": "execute_result"
    }
   ],
   "source": [
    "trainingDf.columns"
   ]
  },
  {
   "cell_type": "code",
   "execution_count": 159,
   "metadata": {},
   "outputs": [],
   "source": [
    "from pyspark.ml.feature import VectorAssembler"
   ]
  },
  {
   "cell_type": "code",
   "execution_count": 160,
   "metadata": {},
   "outputs": [
    {
     "name": "stdout",
     "output_type": "stream",
     "text": [
      "+---+------+---------+---------------+\n",
      "|Age|Salary|Purchased|       features|\n",
      "+---+------+---------+---------------+\n",
      "| 59| 88000|        0| [59.0,88000.0]|\n",
      "| 35| 61000|        1| [35.0,61000.0]|\n",
      "| 37| 70000|        0| [37.0,70000.0]|\n",
      "| 52| 21000|        0| [52.0,21000.0]|\n",
      "| 48|141000|        1|[48.0,141000.0]|\n",
      "| 37| 93000|        0| [37.0,93000.0]|\n",
      "| 37| 62000|        1| [37.0,62000.0]|\n",
      "| 48|138000|        0|[48.0,138000.0]|\n",
      "| 41| 79000|        1| [41.0,79000.0]|\n",
      "| 37| 78000|        0| [37.0,78000.0]|\n",
      "| 39|134000|        0|[39.0,134000.0]|\n",
      "| 49| 89000|        0| [49.0,89000.0]|\n",
      "| 55| 39000|        0| [55.0,39000.0]|\n",
      "| 37| 77000|        1| [37.0,77000.0]|\n",
      "| 35| 57000|        1| [35.0,57000.0]|\n",
      "| 36| 63000|        1| [36.0,63000.0]|\n",
      "| 42| 73000|        0| [42.0,73000.0]|\n",
      "+---+------+---------+---------------+\n",
      "\n",
      "+---+------+--------------+\n",
      "|Age|Salary|      features|\n",
      "+---+------+--------------+\n",
      "| 38| 71000|[38.0,71000.0]|\n",
      "+---+------+--------------+\n",
      "\n"
     ]
    },
    {
     "data": {
      "text/plain": [
       "(None, None)"
      ]
     },
     "execution_count": 160,
     "metadata": {},
     "output_type": "execute_result"
    }
   ],
   "source": [
    "va=VectorAssembler().setInputCols([\"Age\",\"Salary\"]).setOutputCol(\"features\")\n",
    "indexedTrain=va.transform(trainingDf)\n",
    "indexedTest=va.transform(test)\n",
    "indexedTrain.show(),indexedTest.show()"
   ]
  },
  {
   "cell_type": "code",
   "execution_count": 161,
   "metadata": {},
   "outputs": [],
   "source": [
    "from pyspark.ml.classification import NaiveBayes"
   ]
  },
  {
   "cell_type": "code",
   "execution_count": 162,
   "metadata": {},
   "outputs": [],
   "source": [
    "nb=NaiveBayes(featuresCol=\"features\",labelCol=\"Purchased\")"
   ]
  },
  {
   "cell_type": "code",
   "execution_count": 163,
   "metadata": {},
   "outputs": [],
   "source": [
    "model=nb.fit(indexedTrain)"
   ]
  },
  {
   "cell_type": "code",
   "execution_count": 164,
   "metadata": {},
   "outputs": [],
   "source": [
    "pred_results=model.transform(indexedTest)"
   ]
  },
  {
   "cell_type": "code",
   "execution_count": 165,
   "metadata": {},
   "outputs": [
    {
     "name": "stdout",
     "output_type": "stream",
     "text": [
      "+---+------+--------------+--------------------+--------------------+----------+\n",
      "|Age|Salary|      features|       rawPrediction|         probability|prediction|\n",
      "+---+------+--------------+--------------------+--------------------+----------+\n",
      "| 38| 71000|[38.0,71000.0]|[-324.82800977208...|[0.59421288295250...|       0.0|\n",
      "+---+------+--------------+--------------------+--------------------+----------+\n",
      "\n"
     ]
    }
   ],
   "source": [
    "pred_results.show()"
   ]
  },
  {
   "cell_type": "code",
   "execution_count": 166,
   "metadata": {},
   "outputs": [
    {
     "data": {
      "text/plain": [
       "[Row(Age=38, Salary=71000, features=DenseVector([38.0, 71000.0]), rawPrediction=DenseVector([-324.828, -325.2094]), probability=DenseVector([0.5942, 0.4058]), prediction=0.0)]"
      ]
     },
     "execution_count": 166,
     "metadata": {},
     "output_type": "execute_result"
    }
   ],
   "source": [
    "pred_results.collect()"
   ]
  },
  {
   "cell_type": "code",
   "execution_count": 155,
   "metadata": {},
   "outputs": [
    {
     "data": {
      "text/plain": [
       "0.0"
      ]
     },
     "execution_count": 155,
     "metadata": {},
     "output_type": "execute_result"
    }
   ],
   "source": [
    "#Predict random results\n",
    "from pyspark.ml.linalg import * # importing vectors\n",
    "\n",
    "model.predict(DenseVector([38.0, 77700.0]))"
   ]
  },
  {
   "cell_type": "markdown",
   "metadata": {},
   "source": [
    "## Person with age=38 and salary=71000 does not make the purchase\n",
    "\n",
    "### Probability(YES)=0.4058, Probability(NO)=0.5942"
   ]
  },
  {
   "cell_type": "code",
   "execution_count": null,
   "metadata": {},
   "outputs": [],
   "source": []
  }
 ],
 "metadata": {
  "kernelspec": {
   "display_name": "Python 3",
   "language": "python",
   "name": "python3"
  },
  "language_info": {
   "codemirror_mode": {
    "name": "ipython",
    "version": 3
   },
   "file_extension": ".py",
   "mimetype": "text/x-python",
   "name": "python",
   "nbconvert_exporter": "python",
   "pygments_lexer": "ipython3",
   "version": "3.7.4"
  }
 },
 "nbformat": 4,
 "nbformat_minor": 2
}
