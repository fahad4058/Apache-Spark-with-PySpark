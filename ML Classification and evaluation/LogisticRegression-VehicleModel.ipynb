{
 "cells": [
  {
   "cell_type": "code",
   "execution_count": 1,
   "metadata": {},
   "outputs": [],
   "source": [
    "import os\n",
    "import sys\n",
    "\n",
    "os.environ['PYSPARK_PYTHON'] = sys.executable\n",
    "os.environ['PYSPARK_DRIVER_PYTHON'] = sys.executable\n",
    "\n",
    "import findspark\n",
    "findspark.init()\n",
    "findspark.find()\n",
    "import pyspark\n",
    "\n",
    "from pyspark.sql import SparkSession\n",
    "from pyspark import SparkContext, SparkConf\n",
    "from pyspark.sql import SQLContext\n",
    "\n",
    "conf = pyspark.SparkConf().setAppName('appName').setMaster('local')\n",
    "sc = pyspark.SparkContext(conf=conf)\n",
    "spark = SparkSession(sc)\n",
    "sqlcontext=SQLContext(sc)"
   ]
  },
  {
   "cell_type": "code",
   "execution_count": 101,
   "metadata": {},
   "outputs": [],
   "source": [
    "trainingDf=spark.read.csv(\"vehicle_stolen_dataset.csv\",header=True,inferSchema=True)"
   ]
  },
  {
   "cell_type": "code",
   "execution_count": 102,
   "metadata": {},
   "outputs": [],
   "source": [
    "trainingDf=trainingDf.select(\"brand\",\"color\",\"time\",\"stoled\")"
   ]
  },
  {
   "cell_type": "code",
   "execution_count": 103,
   "metadata": {},
   "outputs": [
    {
     "name": "stdout",
     "output_type": "stream",
     "text": [
      "+------+-----+-----+------+\n",
      "| brand|color| time|stoled|\n",
      "+------+-----+-----+------+\n",
      "|   BMW|black|night|   yes|\n",
      "|  Audi|black|night|    no|\n",
      "|NISSAN|black|night|   yes|\n",
      "|  VEGA|  red|  day|   yes|\n",
      "|   BMW| blue|  day|    no|\n",
      "|  Audi|black|  day|   yes|\n",
      "|  VEGA|  red|night|    no|\n",
      "|  Audi| blue|  day|   yes|\n",
      "|  VEGA|black|  day|   yes|\n",
      "|NISSAN| blue|  day|    no|\n",
      "|   BMW|black|night|   yes|\n",
      "|NISSAN|  red|  day|    no|\n",
      "|  VEGA|black|night|   yes|\n",
      "|   BMW|  red|  day|    no|\n",
      "|  Audi|black|  day|   yes|\n",
      "|  Audi| blue|night|   yes|\n",
      "|  Audi|  red|  day|    no|\n",
      "|NISSAN|black|  day|   yes|\n",
      "|   BMW| blue|  day|   yes|\n",
      "|   BMW|  red|night|   yes|\n",
      "+------+-----+-----+------+\n",
      "\n"
     ]
    },
    {
     "data": {
      "text/plain": [
       "['brand', 'color', 'time', 'stoled']"
      ]
     },
     "execution_count": 103,
     "metadata": {},
     "output_type": "execute_result"
    }
   ],
   "source": [
    "trainingDf.show()\n",
    "trainingDf.columns"
   ]
  },
  {
   "cell_type": "code",
   "execution_count": 104,
   "metadata": {},
   "outputs": [],
   "source": [
    "from pyspark.ml.feature import RFormula"
   ]
  },
  {
   "cell_type": "code",
   "execution_count": 105,
   "metadata": {},
   "outputs": [],
   "source": [
    "rf=RFormula(formula=\"stoled ~ brand + color + time\")\n"
   ]
  },
  {
   "cell_type": "code",
   "execution_count": 106,
   "metadata": {},
   "outputs": [],
   "source": [
    "indexedDf=rf.fit(trainingDf).transform(trainingDf)"
   ]
  },
  {
   "cell_type": "code",
   "execution_count": 107,
   "metadata": {},
   "outputs": [
    {
     "name": "stdout",
     "output_type": "stream",
     "text": [
      "+------+-----+-----+------+--------------------+-----+\n",
      "| brand|color| time|stoled|            features|label|\n",
      "+------+-----+-----+------+--------------------+-----+\n",
      "|   BMW|black|night|   yes| (6,[1,3],[1.0,1.0])|  0.0|\n",
      "|  Audi|black|night|    no| (6,[0,3],[1.0,1.0])|  1.0|\n",
      "|NISSAN|black|night|   yes| (6,[2,3],[1.0,1.0])|  0.0|\n",
      "|  VEGA|  red|  day|   yes| (6,[4,5],[1.0,1.0])|  0.0|\n",
      "|   BMW| blue|  day|    no| (6,[1,5],[1.0,1.0])|  1.0|\n",
      "|  Audi|black|  day|   yes|[1.0,0.0,0.0,1.0,...|  0.0|\n",
      "|  VEGA|  red|night|    no|       (6,[4],[1.0])|  1.0|\n",
      "|  Audi| blue|  day|   yes| (6,[0,5],[1.0,1.0])|  0.0|\n",
      "|  VEGA|black|  day|   yes| (6,[3,5],[1.0,1.0])|  0.0|\n",
      "|NISSAN| blue|  day|    no| (6,[2,5],[1.0,1.0])|  1.0|\n",
      "|   BMW|black|night|   yes| (6,[1,3],[1.0,1.0])|  0.0|\n",
      "|NISSAN|  red|  day|    no|[0.0,0.0,1.0,0.0,...|  1.0|\n",
      "|  VEGA|black|night|   yes|       (6,[3],[1.0])|  0.0|\n",
      "|   BMW|  red|  day|    no|[0.0,1.0,0.0,0.0,...|  1.0|\n",
      "|  Audi|black|  day|   yes|[1.0,0.0,0.0,1.0,...|  0.0|\n",
      "|  Audi| blue|night|   yes|       (6,[0],[1.0])|  0.0|\n",
      "|  Audi|  red|  day|    no|[1.0,0.0,0.0,0.0,...|  1.0|\n",
      "|NISSAN|black|  day|   yes|[0.0,0.0,1.0,1.0,...|  0.0|\n",
      "|   BMW| blue|  day|   yes| (6,[1,5],[1.0,1.0])|  0.0|\n",
      "|   BMW|  red|night|   yes| (6,[1,4],[1.0,1.0])|  0.0|\n",
      "+------+-----+-----+------+--------------------+-----+\n",
      "\n"
     ]
    }
   ],
   "source": [
    "indexedDf.show()"
   ]
  },
  {
   "cell_type": "code",
   "execution_count": 180,
   "metadata": {},
   "outputs": [],
   "source": [
    "train,test=indexedDf.randomSplit([0.6,0.4],1234)"
   ]
  },
  {
   "cell_type": "code",
   "execution_count": 181,
   "metadata": {},
   "outputs": [],
   "source": [
    "from pyspark.ml.classification import LogisticRegression "
   ]
  },
  {
   "cell_type": "code",
   "execution_count": 182,
   "metadata": {},
   "outputs": [],
   "source": [
    "lr=LogisticRegression(featuresCol=\"features\",labelCol=\"label\")"
   ]
  },
  {
   "cell_type": "code",
   "execution_count": 183,
   "metadata": {},
   "outputs": [],
   "source": [
    "model=lr.fit(train)"
   ]
  },
  {
   "cell_type": "code",
   "execution_count": 184,
   "metadata": {},
   "outputs": [],
   "source": [
    "pred_results=model.transform(test)"
   ]
  },
  {
   "cell_type": "code",
   "execution_count": 185,
   "metadata": {},
   "outputs": [
    {
     "name": "stdout",
     "output_type": "stream",
     "text": [
      "+------+-----+-----+------+--------------------+-----+--------------------+--------------------+----------+\n",
      "| brand|color| time|stoled|            features|label|       rawPrediction|         probability|prediction|\n",
      "+------+-----+-----+------+--------------------+-----+--------------------+--------------------+----------+\n",
      "|  Audi|black|  day|   yes|[1.0,0.0,0.0,1.0,...|  0.0|[1.18683994821813...|[0.76617541515698...|       0.0|\n",
      "|  Audi|black|  day|   yes|[1.0,0.0,0.0,1.0,...|  0.0|[1.18683994821813...|[0.76617541515698...|       0.0|\n",
      "|  Audi| blue|night|   yes|       (6,[0],[1.0])|  0.0|[-1.9873533605182...|[0.12053714562044...|       1.0|\n",
      "|   BMW| blue|  day|   yes| (6,[1,5],[1.0,1.0])|  0.0|[0.17632085360392...|[0.54396636635511...|       0.0|\n",
      "|NISSAN|black|night|   yes| (6,[2,3],[1.0,1.0])|  0.0|[0.45179567556003...|[0.61106608698419...|       0.0|\n",
      "|NISSAN|  red|  day|    no|[0.0,0.0,1.0,0.0,...|  1.0|[-1.5777855837937...|[0.17110932601919...|       1.0|\n",
      "+------+-----+-----+------+--------------------+-----+--------------------+--------------------+----------+\n",
      "\n"
     ]
    }
   ],
   "source": [
    "pred_results.show()"
   ]
  },
  {
   "cell_type": "code",
   "execution_count": 186,
   "metadata": {},
   "outputs": [],
   "source": [
    "from pyspark.ml.evaluation import MulticlassClassificationEvaluator"
   ]
  },
  {
   "cell_type": "code",
   "execution_count": 187,
   "metadata": {},
   "outputs": [],
   "source": [
    "evaluator=MulticlassClassificationEvaluator().setLabelCol(\"label\")"
   ]
  },
  {
   "cell_type": "code",
   "execution_count": 188,
   "metadata": {},
   "outputs": [],
   "source": [
    "accuracy=evaluator.evaluate(pred_results)"
   ]
  },
  {
   "cell_type": "code",
   "execution_count": 189,
   "metadata": {},
   "outputs": [
    {
     "data": {
      "text/plain": [
       "0.8518518518518519"
      ]
     },
     "execution_count": 189,
     "metadata": {},
     "output_type": "execute_result"
    }
   ],
   "source": [
    "accuracy"
   ]
  },
  {
   "cell_type": "code",
   "execution_count": 190,
   "metadata": {},
   "outputs": [
    {
     "data": {
      "text/plain": [
       "1.0"
      ]
     },
     "execution_count": 190,
     "metadata": {},
     "output_type": "execute_result"
    }
   ],
   "source": [
    "from pyspark.ml.linalg import Vectors, DenseVector\n",
    "model.predict(DenseVector([1.0, 0.0, 0.0, 0.0, 1.0, 1.0]))"
   ]
  },
  {
   "cell_type": "code",
   "execution_count": 168,
   "metadata": {},
   "outputs": [
    {
     "data": {
      "text/plain": [
       "[Row(brand='BMW', color='black', time='night', stoled='yes', features=SparseVector(6, {1: 1.0, 3: 1.0}), label=0.0),\n",
       " Row(brand='Audi', color='black', time='night', stoled='no', features=SparseVector(6, {0: 1.0, 3: 1.0}), label=1.0),\n",
       " Row(brand='NISSAN', color='black', time='night', stoled='yes', features=SparseVector(6, {2: 1.0, 3: 1.0}), label=0.0),\n",
       " Row(brand='VEGA', color='red', time='day', stoled='yes', features=SparseVector(6, {4: 1.0, 5: 1.0}), label=0.0),\n",
       " Row(brand='BMW', color='blue', time='day', stoled='no', features=SparseVector(6, {1: 1.0, 5: 1.0}), label=1.0),\n",
       " Row(brand='Audi', color='black', time='day', stoled='yes', features=DenseVector([1.0, 0.0, 0.0, 1.0, 0.0, 1.0]), label=0.0),\n",
       " Row(brand='VEGA', color='red', time='night', stoled='no', features=SparseVector(6, {4: 1.0}), label=1.0),\n",
       " Row(brand='Audi', color='blue', time='day', stoled='yes', features=SparseVector(6, {0: 1.0, 5: 1.0}), label=0.0),\n",
       " Row(brand='VEGA', color='black', time='day', stoled='yes', features=SparseVector(6, {3: 1.0, 5: 1.0}), label=0.0),\n",
       " Row(brand='NISSAN', color='blue', time='day', stoled='no', features=SparseVector(6, {2: 1.0, 5: 1.0}), label=1.0),\n",
       " Row(brand='BMW', color='black', time='night', stoled='yes', features=SparseVector(6, {1: 1.0, 3: 1.0}), label=0.0),\n",
       " Row(brand='NISSAN', color='red', time='day', stoled='no', features=DenseVector([0.0, 0.0, 1.0, 0.0, 1.0, 1.0]), label=1.0),\n",
       " Row(brand='VEGA', color='black', time='night', stoled='yes', features=SparseVector(6, {3: 1.0}), label=0.0),\n",
       " Row(brand='BMW', color='red', time='day', stoled='no', features=DenseVector([0.0, 1.0, 0.0, 0.0, 1.0, 1.0]), label=1.0),\n",
       " Row(brand='Audi', color='black', time='day', stoled='yes', features=DenseVector([1.0, 0.0, 0.0, 1.0, 0.0, 1.0]), label=0.0),\n",
       " Row(brand='Audi', color='blue', time='night', stoled='yes', features=SparseVector(6, {0: 1.0}), label=0.0),\n",
       " Row(brand='Audi', color='red', time='day', stoled='no', features=DenseVector([1.0, 0.0, 0.0, 0.0, 1.0, 1.0]), label=1.0),\n",
       " Row(brand='NISSAN', color='black', time='day', stoled='yes', features=DenseVector([0.0, 0.0, 1.0, 1.0, 0.0, 1.0]), label=0.0),\n",
       " Row(brand='BMW', color='blue', time='day', stoled='yes', features=SparseVector(6, {1: 1.0, 5: 1.0}), label=0.0),\n",
       " Row(brand='BMW', color='red', time='night', stoled='yes', features=SparseVector(6, {1: 1.0, 4: 1.0}), label=0.0)]"
      ]
     },
     "execution_count": 168,
     "metadata": {},
     "output_type": "execute_result"
    }
   ],
   "source": [
    "indexedDf.collect()"
   ]
  },
  {
   "cell_type": "code",
   "execution_count": null,
   "metadata": {},
   "outputs": [],
   "source": []
  }
 ],
 "metadata": {
  "kernelspec": {
   "display_name": "Python 3",
   "language": "python",
   "name": "python3"
  },
  "language_info": {
   "codemirror_mode": {
    "name": "ipython",
    "version": 3
   },
   "file_extension": ".py",
   "mimetype": "text/x-python",
   "name": "python",
   "nbconvert_exporter": "python",
   "pygments_lexer": "ipython3",
   "version": "3.7.4"
  }
 },
 "nbformat": 4,
 "nbformat_minor": 2
}
