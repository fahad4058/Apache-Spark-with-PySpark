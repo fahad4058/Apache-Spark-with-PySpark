{
 "cells": [
  {
   "cell_type": "code",
   "execution_count": 1,
   "metadata": {},
   "outputs": [],
   "source": [
    "import os\n",
    "import sys\n",
    "\n",
    "os.environ['PYSPARK_PYTHON'] = sys.executable\n",
    "os.environ['PYSPARK_DRIVER_PYTHON'] = sys.executable\n",
    "\n",
    "import findspark\n",
    "findspark.init()\n",
    "findspark.find()\n",
    "import pyspark\n",
    "\n",
    "from pyspark.sql import SparkSession\n",
    "from pyspark import SparkContext, SparkConf\n",
    "from pyspark.sql import SQLContext\n",
    "\n",
    "conf = pyspark.SparkConf().setAppName('appName').setMaster('local')\n",
    "sc = pyspark.SparkContext(conf=conf)\n",
    "spark = SparkSession(sc)\n",
    "sqlcontext=SQLContext(sc)"
   ]
  },
  {
   "cell_type": "code",
   "execution_count": 7,
   "metadata": {},
   "outputs": [
    {
     "name": "stdout",
     "output_type": "stream",
     "text": [
      "root\n",
      " |-- AnimalName: string (nullable = true)\n",
      " |-- Hair: integer (nullable = true)\n",
      " |-- Feathers: integer (nullable = true)\n",
      " |-- Eggs: integer (nullable = true)\n",
      " |-- Milk: integer (nullable = true)\n",
      " |-- Airborne: integer (nullable = true)\n",
      " |-- Aquatic: integer (nullable = true)\n",
      " |-- Predator: integer (nullable = true)\n",
      " |-- Toothed: integer (nullable = true)\n",
      " |-- Backbone: integer (nullable = true)\n",
      " |-- Breathes: integer (nullable = true)\n",
      " |-- Venomous: integer (nullable = true)\n",
      " |-- Fins: integer (nullable = true)\n",
      " |-- Legs: integer (nullable = true)\n",
      " |-- Tail: integer (nullable = true)\n",
      " |-- Domestic: integer (nullable = true)\n",
      " |-- Catsize: integer (nullable = true)\n",
      " |-- Type: integer (nullable = true)\n",
      "\n"
     ]
    }
   ],
   "source": [
    "#reading the dataset\n",
    "zooDf=spark.read.csv(\"zoo.csv\",header=True,inferSchema=True)\n",
    "zooDf.printSchema()"
   ]
  },
  {
   "cell_type": "code",
   "execution_count": 10,
   "metadata": {},
   "outputs": [],
   "source": [
    "#creating a new column IsMammal where type=1 IsMammal=1, otherwise 0\n",
    "#creating an IsMammal Function\n",
    "from pyspark.sql.types import * ## importing all the datatypes\n",
    "from pyspark.sql.functions import *\n",
    "\n",
    "def IsMammal(x):\n",
    "    if x==1:\n",
    "        return 1\n",
    "    else:\n",
    "        return 0\n",
    "#creating a User Defined Function to read the values in the column from the dataframe\n",
    "IsMammaludf=udf(lambda x: IsMammal(x),IntegerType())\n",
    "\n",
    "    "
   ]
  },
  {
   "cell_type": "code",
   "execution_count": 12,
   "metadata": {},
   "outputs": [],
   "source": [
    "# Adding a new column named \"IsMammal\" to the dataframe\n",
    "zooDf=zooDf.withColumn(\"IsMammal\",IsMammaludf(zooDf[\"Type\"]))\n"
   ]
  },
  {
   "cell_type": "code",
   "execution_count": 13,
   "metadata": {},
   "outputs": [
    {
     "data": {
      "text/plain": [
       "['AnimalName',\n",
       " 'Hair',\n",
       " 'Feathers',\n",
       " 'Eggs',\n",
       " 'Milk',\n",
       " 'Airborne',\n",
       " 'Aquatic',\n",
       " 'Predator',\n",
       " 'Toothed',\n",
       " 'Backbone',\n",
       " 'Breathes',\n",
       " 'Venomous',\n",
       " 'Fins',\n",
       " 'Legs',\n",
       " 'Tail',\n",
       " 'Domestic',\n",
       " 'Catsize',\n",
       " 'Type',\n",
       " 'IsMammal']"
      ]
     },
     "execution_count": 13,
     "metadata": {},
     "output_type": "execute_result"
    }
   ],
   "source": [
    "zooDf.columns"
   ]
  },
  {
   "cell_type": "code",
   "execution_count": 21,
   "metadata": {},
   "outputs": [],
   "source": [
    "# Importing RFormula and using it to convert the dataframes into feature and label for further processing\n",
    "\n",
    "from pyspark.ml.feature import RFormula\n",
    "rf=RFormula(formula=\" IsMammal ~ AnimalName + Hair + \\\n",
    "Feathers + Eggs + Milk + Airborne + Aquatic + Predator + Toothed + Backbone + Breathes + Venomous \\\n",
    "+ Fins + Legs + Tail + Domestic + Catsize + Type\",labelCol=\"IsMammal\")\n"
   ]
  },
  {
   "cell_type": "code",
   "execution_count": 22,
   "metadata": {},
   "outputs": [],
   "source": [
    "indexed_zooDf=rf.fit(zooDf).transform(zooDf)"
   ]
  },
  {
   "cell_type": "code",
   "execution_count": 23,
   "metadata": {},
   "outputs": [
    {
     "data": {
      "text/plain": [
       "['AnimalName',\n",
       " 'Hair',\n",
       " 'Feathers',\n",
       " 'Eggs',\n",
       " 'Milk',\n",
       " 'Airborne',\n",
       " 'Aquatic',\n",
       " 'Predator',\n",
       " 'Toothed',\n",
       " 'Backbone',\n",
       " 'Breathes',\n",
       " 'Venomous',\n",
       " 'Fins',\n",
       " 'Legs',\n",
       " 'Tail',\n",
       " 'Domestic',\n",
       " 'Catsize',\n",
       " 'Type',\n",
       " 'IsMammal',\n",
       " 'features']"
      ]
     },
     "execution_count": 23,
     "metadata": {},
     "output_type": "execute_result"
    }
   ],
   "source": [
    "indexed_zooDf.columns"
   ]
  },
  {
   "cell_type": "code",
   "execution_count": 24,
   "metadata": {},
   "outputs": [],
   "source": [
    "finalized_data=indexed_zooDf.select(\"AnimalName\",\"Type\",\"IsMammal\",\"features\")"
   ]
  },
  {
   "cell_type": "code",
   "execution_count": 25,
   "metadata": {},
   "outputs": [
    {
     "name": "stdout",
     "output_type": "stream",
     "text": [
      "+----------+----+--------+--------------------+\n",
      "|AnimalName|Type|IsMammal|            features|\n",
      "+----------+----+--------+--------------------+\n",
      "|  aardvark|   1|       1|(116,[1,99,102,10...|\n",
      "|  antelope|   1|       1|(116,[2,99,102,10...|\n",
      "|      bass|   4|       0|(116,[3,101,104,1...|\n",
      "|      bear|   1|       1|(116,[4,99,102,10...|\n",
      "|      boar|   1|       1|(116,[5,99,102,10...|\n",
      "|   buffalo|   1|       1|(116,[6,99,102,10...|\n",
      "|      calf|   1|       1|(116,[7,99,102,10...|\n",
      "|      carp|   4|       0|(116,[8,101,104,1...|\n",
      "|   catfish|   4|       0|(116,[9,101,104,1...|\n",
      "|      cavy|   1|       1|(116,[10,99,102,1...|\n",
      "|   cheetah|   1|       1|(116,[11,99,102,1...|\n",
      "|   chicken|   2|       0|(116,[12,100,101,...|\n",
      "|      chub|   4|       0|(116,[13,101,104,...|\n",
      "|      clam|   7|       0|(116,[14,101,105,...|\n",
      "|      crab|   7|       0|(116,[15,101,104,...|\n",
      "|  crayfish|   7|       0|(116,[16,101,104,...|\n",
      "|      crow|   2|       0|(116,[17,100,101,...|\n",
      "|      deer|   1|       1|(116,[18,99,102,1...|\n",
      "|   dogfish|   4|       0|(116,[19,101,104,...|\n",
      "|   dolphin|   1|       1|(116,[20,102,104,...|\n",
      "+----------+----+--------+--------------------+\n",
      "only showing top 20 rows\n",
      "\n"
     ]
    }
   ],
   "source": [
    "finalized_data.show()"
   ]
  },
  {
   "cell_type": "code",
   "execution_count": 62,
   "metadata": {},
   "outputs": [],
   "source": [
    "from pyspark.ml.classification import LogisticRegression\n",
    "from pyspark.ml.evaluation import BinaryClassificationEvaluator\n",
    "\n",
    "train_data,test_data=finalized_data.randomSplit([0.3,0.7],1234)"
   ]
  },
  {
   "cell_type": "code",
   "execution_count": 63,
   "metadata": {},
   "outputs": [],
   "source": [
    "lr=LogisticRegression(featuresCol=\"features\",labelCol=\"IsMammal\")"
   ]
  },
  {
   "cell_type": "code",
   "execution_count": 64,
   "metadata": {},
   "outputs": [],
   "source": [
    "lrModel=lr.fit(train_data)"
   ]
  },
  {
   "cell_type": "code",
   "execution_count": 65,
   "metadata": {},
   "outputs": [],
   "source": [
    "prediction_result=lrModel.evaluate(test_data)"
   ]
  },
  {
   "cell_type": "code",
   "execution_count": 66,
   "metadata": {},
   "outputs": [],
   "source": [
    "evaluation=BinaryClassificationEvaluator(labelCol=\"IsMammal\")"
   ]
  },
  {
   "cell_type": "code",
   "execution_count": 67,
   "metadata": {},
   "outputs": [
    {
     "name": "stdout",
     "output_type": "stream",
     "text": [
      "+----------+----+--------+--------------------+--------------------+--------------------+----------+\n",
      "|AnimalName|Type|IsMammal|            features|       rawPrediction|         probability|prediction|\n",
      "+----------+----+--------+--------------------+--------------------+--------------------+----------+\n",
      "|  aardvark|   1|       1|(116,[1,99,102,10...|[-14.979290920586...|[3.12303229126101...|       1.0|\n",
      "|  antelope|   1|       1|(116,[2,99,102,10...|[-13.989301051809...|[8.40472257079126...|       1.0|\n",
      "|      boar|   1|       1|(116,[5,99,102,10...|[-14.419092460311...|[5.46849063796294...|       1.0|\n",
      "|   buffalo|   1|       1|(116,[6,99,102,10...|[-13.989301051809...|[8.40472257079126...|       1.0|\n",
      "|      calf|   1|       1|(116,[7,99,102,10...|[-15.243838401230...|[2.39709361562307...|       1.0|\n",
      "|      carp|   4|       0|(116,[8,101,104,1...|[16.3123731012228...|[0.99999991765706...|       0.0|\n",
      "|   catfish|   4|       0|(116,[9,101,104,1...|[17.1371190421423...|[0.99999996390527...|       0.0|\n",
      "|      cavy|   1|       1|(116,[10,99,102,1...|[-14.299909479437...|[6.16067010835941...|       1.0|\n",
      "|   cheetah|   1|       1|(116,[11,99,102,1...|[-14.419092460311...|[5.46849063796294...|       1.0|\n",
      "|   chicken|   2|       0|(116,[12,100,101,...|[16.9511317616051...|[0.99999995652726...|       0.0|\n",
      "|      chub|   4|       0|(116,[13,101,104,...|[17.1371190421423...|[0.99999996390527...|       0.0|\n",
      "|      clam|   7|       0|(116,[14,101,105,...|[18.7236401036203...|[0.99999999261370...|       0.0|\n",
      "|  crayfish|   7|       0|(116,[16,101,104,...|[19.1990687329343...|[0.99999999540854...|       0.0|\n",
      "|      deer|   1|       1|(116,[18,99,102,1...|[-13.989301051809...|[8.40472257079126...|       1.0|\n",
      "|   dogfish|   4|       0|(116,[19,101,104,...|[15.6329916600739...|[0.99999983756563...|       0.0|\n",
      "|   dolphin|   1|       1|(116,[20,102,104,...|[-4.6954910651472...|[0.00905366201454...|       1.0|\n",
      "|      duck|   2|       0|(116,[22,100,101,...|[20.0650836187982...|[0.99999999806872...|       0.0|\n",
      "|  elephant|   1|       1|(116,[23,99,102,1...|[-13.989301051809...|[8.40472257079126...|       1.0|\n",
      "|  flamingo|   2|       0|(116,[24,100,101,...|[16.7015417289580...|[0.99999994420277...|       0.0|\n",
      "|      flea|   6|       0|(116,[25,101,108,...|[15.9888835895368...|[0.99999988620687...|       0.0|\n",
      "+----------+----+--------+--------------------+--------------------+--------------------+----------+\n",
      "only showing top 20 rows\n",
      "\n"
     ]
    }
   ],
   "source": [
    "prediction_result.predictions.show()"
   ]
  },
  {
   "cell_type": "code",
   "execution_count": 68,
   "metadata": {},
   "outputs": [
    {
     "data": {
      "text/plain": [
       "1.0"
      ]
     },
     "execution_count": 68,
     "metadata": {},
     "output_type": "execute_result"
    }
   ],
   "source": [
    "prediction_result.accuracy"
   ]
  },
  {
   "cell_type": "code",
   "execution_count": 69,
   "metadata": {},
   "outputs": [
    {
     "data": {
      "text/plain": [
       "1.0"
      ]
     },
     "execution_count": 69,
     "metadata": {},
     "output_type": "execute_result"
    }
   ],
   "source": [
    "lrModel.summary.accuracy"
   ]
  },
  {
   "cell_type": "code",
   "execution_count": 70,
   "metadata": {},
   "outputs": [
    {
     "data": {
      "text/plain": [
       "1.0"
      ]
     },
     "execution_count": 70,
     "metadata": {},
     "output_type": "execute_result"
    }
   ],
   "source": [
    "prediction_result.areaUnderROC"
   ]
  },
  {
   "cell_type": "code",
   "execution_count": 71,
   "metadata": {},
   "outputs": [
    {
     "data": {
      "text/plain": [
       "SparseVector(116, {3: -2.5323, 4: 4.1229, 15: -1.1014, 17: -2.0966, 21: -2.6673, 29: -1.4707, 34: 5.0798, 36: -2.0966, 37: -2.5323, 42: -1.8355, 45: -1.2973, 48: 5.7024, 49: 4.5447, 53: 5.7024, 58: -1.8355, 59: -3.6638, 61: -4.2376, 74: 7.5597, 76: -0.4373, 78: -1.0639, 80: -1.6767, 81: -2.2439, 86: -1.6106, 87: -3.3841, 91: -3.6638, 96: -3.1972, 98: -1.6767, 99: 5.4813, 100: -2.4525, 101: -9.5583, 102: 6.7501, 103: -2.8686, 104: -1.8594, 105: 0.4298, 106: 1.9989, 107: 0.1082, 108: 0.6608, 109: -2.8427, 110: -1.4602, 111: 0.2307, 112: -0.5602, 113: 1.2545, 114: 1.5041, 115: -1.1198})"
      ]
     },
     "execution_count": 71,
     "metadata": {},
     "output_type": "execute_result"
    }
   ],
   "source": [
    "lrModel.coefficients"
   ]
  },
  {
   "cell_type": "code",
   "execution_count": 72,
   "metadata": {},
   "outputs": [
    {
     "data": {
      "text/plain": [
       "-1.7567973580125655"
      ]
     },
     "execution_count": 72,
     "metadata": {},
     "output_type": "execute_result"
    }
   ],
   "source": [
    "lrModel.intercept"
   ]
  },
  {
   "cell_type": "code",
   "execution_count": null,
   "metadata": {},
   "outputs": [],
   "source": [
    "lrModel.predict([])"
   ]
  }
 ],
 "metadata": {
  "kernelspec": {
   "display_name": "Python 3",
   "language": "python",
   "name": "python3"
  },
  "language_info": {
   "codemirror_mode": {
    "name": "ipython",
    "version": 3
   },
   "file_extension": ".py",
   "mimetype": "text/x-python",
   "name": "python",
   "nbconvert_exporter": "python",
   "pygments_lexer": "ipython3",
   "version": "3.7.4"
  }
 },
 "nbformat": 4,
 "nbformat_minor": 2
}
