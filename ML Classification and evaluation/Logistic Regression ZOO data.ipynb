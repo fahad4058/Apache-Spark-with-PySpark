{
 "cells": [
  {
   "cell_type": "code",
   "execution_count": 1,
   "metadata": {},
   "outputs": [],
   "source": [
    "import os\n",
    "import sys\n",
    "\n",
    "os.environ['PYSPARK_PYTHON'] = sys.executable\n",
    "os.environ['PYSPARK_DRIVER_PYTHON'] = sys.executable\n",
    "\n",
    "import findspark\n",
    "findspark.init()\n",
    "findspark.find()\n",
    "import pyspark\n",
    "\n",
    "from pyspark.sql import SparkSession\n",
    "from pyspark import SparkContext, SparkConf\n",
    "from pyspark.sql import SQLContext\n",
    "\n",
    "conf = pyspark.SparkConf().setAppName('appName').setMaster('local')\n",
    "sc = pyspark.SparkContext(conf=conf)\n",
    "spark = SparkSession(sc)\n",
    "sqlcontext=SQLContext(sc)"
   ]
  },
  {
   "cell_type": "code",
   "execution_count": 2,
   "metadata": {},
   "outputs": [],
   "source": [
    "zooDf=spark.read.csv(\"zoo.csv\",header=True,inferSchema=True)"
   ]
  },
  {
   "cell_type": "code",
   "execution_count": 3,
   "metadata": {},
   "outputs": [
    {
     "name": "stdout",
     "output_type": "stream",
     "text": [
      "root\n",
      " |-- AnimalName: string (nullable = true)\n",
      " |-- Hair: integer (nullable = true)\n",
      " |-- Feathers: integer (nullable = true)\n",
      " |-- Eggs: integer (nullable = true)\n",
      " |-- Milk: integer (nullable = true)\n",
      " |-- Airborne: integer (nullable = true)\n",
      " |-- Aquatic: integer (nullable = true)\n",
      " |-- Predator: integer (nullable = true)\n",
      " |-- Toothed: integer (nullable = true)\n",
      " |-- Backbone: integer (nullable = true)\n",
      " |-- Breathes: integer (nullable = true)\n",
      " |-- Venomous: integer (nullable = true)\n",
      " |-- Fins: integer (nullable = true)\n",
      " |-- Legs: integer (nullable = true)\n",
      " |-- Tail: integer (nullable = true)\n",
      " |-- Domestic: integer (nullable = true)\n",
      " |-- Catsize: integer (nullable = true)\n",
      " |-- Type: integer (nullable = true)\n",
      "\n"
     ]
    }
   ],
   "source": [
    "zooDf.printSchema()"
   ]
  },
  {
   "cell_type": "code",
   "execution_count": 4,
   "metadata": {},
   "outputs": [
    {
     "name": "stdout",
     "output_type": "stream",
     "text": [
      "+----+----------+\n",
      "|Type|AnimalName|\n",
      "+----+----------+\n",
      "|   1|  aardvark|\n",
      "|   1|  antelope|\n",
      "|   4|      bass|\n",
      "|   1|      bear|\n",
      "|   1|      boar|\n",
      "+----+----------+\n",
      "only showing top 5 rows\n",
      "\n"
     ]
    }
   ],
   "source": [
    "zooDf.select(\"Type\",\"AnimalName\").show(5)"
   ]
  },
  {
   "cell_type": "code",
   "execution_count": 5,
   "metadata": {},
   "outputs": [],
   "source": [
    "from pyspark.sql.functions import *\n",
    "from pyspark.sql.types import *\n",
    "\n",
    "def IsMammal(x):\n",
    "    if x==1:\n",
    "        return 1\n",
    "    else:\n",
    "        return 0\n",
    "IsMammalUDF=udf(lambda x:IsMammal(x), IntegerType())"
   ]
  },
  {
   "cell_type": "code",
   "execution_count": 6,
   "metadata": {},
   "outputs": [
    {
     "data": {
      "text/plain": [
       "Column<'<lambda>(Type)'>"
      ]
     },
     "execution_count": 6,
     "metadata": {},
     "output_type": "execute_result"
    }
   ],
   "source": [
    "IsMammalUDF(zooDf[\"Type\"])"
   ]
  },
  {
   "cell_type": "code",
   "execution_count": 7,
   "metadata": {},
   "outputs": [],
   "source": [
    "zooDf=zooDf.withColumn(\"IsMammal\",IsMammalUDF(zooDf[\"Type\"]))"
   ]
  },
  {
   "cell_type": "code",
   "execution_count": 8,
   "metadata": {},
   "outputs": [
    {
     "name": "stdout",
     "output_type": "stream",
     "text": [
      "root\n",
      " |-- AnimalName: string (nullable = true)\n",
      " |-- Hair: integer (nullable = true)\n",
      " |-- Feathers: integer (nullable = true)\n",
      " |-- Eggs: integer (nullable = true)\n",
      " |-- Milk: integer (nullable = true)\n",
      " |-- Airborne: integer (nullable = true)\n",
      " |-- Aquatic: integer (nullable = true)\n",
      " |-- Predator: integer (nullable = true)\n",
      " |-- Toothed: integer (nullable = true)\n",
      " |-- Backbone: integer (nullable = true)\n",
      " |-- Breathes: integer (nullable = true)\n",
      " |-- Venomous: integer (nullable = true)\n",
      " |-- Fins: integer (nullable = true)\n",
      " |-- Legs: integer (nullable = true)\n",
      " |-- Tail: integer (nullable = true)\n",
      " |-- Domestic: integer (nullable = true)\n",
      " |-- Catsize: integer (nullable = true)\n",
      " |-- Type: integer (nullable = true)\n",
      " |-- IsMammal: integer (nullable = true)\n",
      "\n"
     ]
    }
   ],
   "source": [
    "zooDf.printSchema()"
   ]
  },
  {
   "cell_type": "code",
   "execution_count": 9,
   "metadata": {},
   "outputs": [],
   "source": [
    "from pyspark.ml.feature import StringIndexer, VectorAssembler"
   ]
  },
  {
   "cell_type": "code",
   "execution_count": 10,
   "metadata": {},
   "outputs": [],
   "source": [
    "indexer=StringIndexer().setInputCol(\"AnimalName\").setOutputCol(\"Animal_index\")"
   ]
  },
  {
   "cell_type": "code",
   "execution_count": 11,
   "metadata": {},
   "outputs": [],
   "source": [
    "indexed_zooDF=indexer.fit(zooDf).transform(zooDf)"
   ]
  },
  {
   "cell_type": "code",
   "execution_count": 12,
   "metadata": {},
   "outputs": [
    {
     "name": "stdout",
     "output_type": "stream",
     "text": [
      "+----------+------------+----+--------+\n",
      "|AnimalName|Animal_index|Type|IsMammal|\n",
      "+----------+------------+----+--------+\n",
      "|  aardvark|         1.0|   1|       1|\n",
      "|  antelope|         2.0|   1|       1|\n",
      "|      bass|         3.0|   4|       0|\n",
      "|      bear|         4.0|   1|       1|\n",
      "|      boar|         5.0|   1|       1|\n",
      "|   buffalo|         6.0|   1|       1|\n",
      "|      calf|         7.0|   1|       1|\n",
      "|      carp|         8.0|   4|       0|\n",
      "|   catfish|         9.0|   4|       0|\n",
      "|      cavy|        10.0|   1|       1|\n",
      "|   cheetah|        11.0|   1|       1|\n",
      "|   chicken|        12.0|   2|       0|\n",
      "|      chub|        13.0|   4|       0|\n",
      "|      clam|        14.0|   7|       0|\n",
      "|      crab|        15.0|   7|       0|\n",
      "|  crayfish|        16.0|   7|       0|\n",
      "|      crow|        17.0|   2|       0|\n",
      "|      deer|        18.0|   1|       1|\n",
      "|   dogfish|        19.0|   4|       0|\n",
      "|   dolphin|        20.0|   1|       1|\n",
      "+----------+------------+----+--------+\n",
      "only showing top 20 rows\n",
      "\n"
     ]
    }
   ],
   "source": [
    "indexed_zooDF.select(\"AnimalName\",\"Animal_index\",\"Type\",\"IsMammal\").show()"
   ]
  },
  {
   "cell_type": "code",
   "execution_count": 13,
   "metadata": {},
   "outputs": [],
   "source": [
    "from pyspark.ml.feature import VectorAssembler\n"
   ]
  },
  {
   "cell_type": "code",
   "execution_count": 14,
   "metadata": {},
   "outputs": [],
   "source": [
    "feature_assembler=VectorAssembler().setInputCols(['Hair',\\\n",
    "                                                     'Feathers',\n",
    "                                                     'Eggs',\n",
    "                                                     'Milk',\n",
    "                                                     'Airborne',\n",
    "                                                     'Aquatic',\n",
    "                                                     'Predator',\n",
    "                                                     'Toothed',\n",
    "                                                     'Backbone',\n",
    "                                                     'Breathes',\n",
    "                                                     'Venomous',\n",
    "                                                     'Fins',\n",
    "                                                     'Legs',\n",
    "                                                     'Tail',\n",
    "                                                     'Domestic',\n",
    "                                                     'Catsize',\n",
    "                                                     'Type',\n",
    "                                                     'Animal_index']).setOutputCol(\"features\")"
   ]
  },
  {
   "cell_type": "code",
   "execution_count": 15,
   "metadata": {},
   "outputs": [],
   "source": [
    "finalized_zooDF=feature_assembler.transform(indexed_zooDF)"
   ]
  },
  {
   "cell_type": "code",
   "execution_count": 16,
   "metadata": {},
   "outputs": [],
   "source": [
    "finalized_zooDF=finalized_zooDF.select(\"AnimalName\",\"Type\",\"Animal_index\",\"IsMammal\",\"features\")"
   ]
  },
  {
   "cell_type": "code",
   "execution_count": 17,
   "metadata": {},
   "outputs": [
    {
     "name": "stdout",
     "output_type": "stream",
     "text": [
      "+----------+----+------------+--------+--------------------+\n",
      "|AnimalName|Type|Animal_index|IsMammal|            features|\n",
      "+----------+----+------------+--------+--------------------+\n",
      "|  aardvark|   1|         1.0|       1|(18,[0,3,6,7,8,9,...|\n",
      "|  antelope|   1|         2.0|       1|(18,[0,3,7,8,9,12...|\n",
      "|      bass|   4|         3.0|       0|(18,[2,5,6,7,8,11...|\n",
      "|      bear|   1|         4.0|       1|(18,[0,3,6,7,8,9,...|\n",
      "|      boar|   1|         5.0|       1|[1.0,0.0,0.0,1.0,...|\n",
      "|   buffalo|   1|         6.0|       1|(18,[0,3,7,8,9,12...|\n",
      "|      calf|   1|         7.0|       1|[1.0,0.0,0.0,1.0,...|\n",
      "|      carp|   4|         8.0|       0|(18,[2,5,7,8,11,1...|\n",
      "|   catfish|   4|         9.0|       0|(18,[2,5,6,7,8,11...|\n",
      "|      cavy|   1|        10.0|       1|(18,[0,3,7,8,9,12...|\n",
      "|   cheetah|   1|        11.0|       1|[1.0,0.0,0.0,1.0,...|\n",
      "|   chicken|   2|        12.0|       0|(18,[1,2,4,8,9,12...|\n",
      "|      chub|   4|        13.0|       0|(18,[2,5,6,7,8,11...|\n",
      "|      clam|   7|        14.0|       0|(18,[2,6,16,17],[...|\n",
      "|      crab|   7|        15.0|       0|(18,[2,5,6,12,16,...|\n",
      "|  crayfish|   7|        16.0|       0|(18,[2,5,6,12,16,...|\n",
      "|      crow|   2|        17.0|       0|(18,[1,2,4,6,8,9,...|\n",
      "|      deer|   1|        18.0|       1|(18,[0,3,7,8,9,12...|\n",
      "|   dogfish|   4|        19.0|       0|(18,[2,5,6,7,8,11...|\n",
      "|   dolphin|   1|        20.0|       1|[0.0,0.0,0.0,1.0,...|\n",
      "+----------+----+------------+--------+--------------------+\n",
      "only showing top 20 rows\n",
      "\n"
     ]
    }
   ],
   "source": [
    "finalized_zooDF.show()"
   ]
  },
  {
   "cell_type": "code",
   "execution_count": 18,
   "metadata": {},
   "outputs": [],
   "source": [
    "from pyspark.ml.classification import LogisticRegression\n",
    "from pyspark.ml.evaluation import RegressionEvaluator\n",
    "\n",
    "\n",
    "train_data,test_data=finalized_zooDF.randomSplit([0.7,0.3])"
   ]
  },
  {
   "cell_type": "code",
   "execution_count": 19,
   "metadata": {},
   "outputs": [],
   "source": [
    "lr=LogisticRegression(featuresCol=\"features\",labelCol=\"IsMammal\")"
   ]
  },
  {
   "cell_type": "code",
   "execution_count": 20,
   "metadata": {},
   "outputs": [],
   "source": [
    "lrModel=lr.fit(train_data)"
   ]
  },
  {
   "cell_type": "code",
   "execution_count": 21,
   "metadata": {},
   "outputs": [
    {
     "data": {
      "text/plain": [
       "1.0"
      ]
     },
     "execution_count": 21,
     "metadata": {},
     "output_type": "execute_result"
    }
   ],
   "source": [
    "lrModel.predict(test_data.head()[\"features\"])"
   ]
  },
  {
   "cell_type": "code",
   "execution_count": 26,
   "metadata": {},
   "outputs": [],
   "source": [
    "predictions_result=lrModel.evaluate(test_data)"
   ]
  },
  {
   "cell_type": "code",
   "execution_count": 27,
   "metadata": {},
   "outputs": [
    {
     "name": "stdout",
     "output_type": "stream",
     "text": [
      "+----------+----+------------+--------+--------------------+--------------------+--------------------+----------+\n",
      "|AnimalName|Type|Animal_index|IsMammal|            features|       rawPrediction|         probability|prediction|\n",
      "+----------+----+------------+--------+--------------------+--------------------+--------------------+----------+\n",
      "|  antelope|   1|         2.0|       1|(18,[0,3,7,8,9,12...|[-30.907757945613...|[3.77512447740076...|       1.0|\n",
      "|   buffalo|   1|         6.0|       1|(18,[0,3,7,8,9,12...|[-30.739407061549...|[4.46730018353973...|       1.0|\n",
      "|   catfish|   4|         9.0|       0|(18,[2,5,6,7,8,11...|[21.3176796124320...|[0.99999999944811...|       0.0|\n",
      "|  crayfish|   7|        16.0|       0|(18,[2,5,6,12,16,...|[29.7299400312413...|[0.99999999999987...|       0.0|\n",
      "|      deer|   1|        18.0|       1|(18,[0,3,7,8,9,12...|[-30.234354409357...|[7.40264147471770...|       1.0|\n",
      "|      frog|   5|         0.0|       0|(18,[2,5,6,7,8,9,...|[17.6081720434943...|[0.99999997746445...|       0.0|\n",
      "|   herring|   4|        37.0|       0|(18,[2,5,6,7,8,11...|[22.4961358008803...|[0.99999999983015...|       0.0|\n",
      "|  honeybee|   6|        38.0|       0|(18,[0,2,4,9,10,1...|[23.1532377502252...|[0.99999999991196...|       0.0|\n",
      "|   lobster|   7|        45.0|       0|(18,[2,5,6,12,16,...|[30.9504839407056...|[0.99999999999996...|       0.0|\n",
      "|  mongoose|   1|        49.0|       1|[1.0,0.0,0.0,1.0,...|[-28.243817817738...|[5.41833401656494...|       1.0|\n",
      "|      moth|   6|        50.0|       0|(18,[0,2,4,9,12,1...|[17.7407429077010...|[0.99999998026245...|       0.0|\n",
      "|   octopus|   7|        52.0|       0|(18,[2,5,6,12,15,...|[27.2968287144457...|[0.99999999999860...|       0.0|\n",
      "|   opossum|   1|        53.0|       1|(18,[0,3,6,7,8,9,...|[-24.008129356980...|[3.74456953305155...|       1.0|\n",
      "|      oryx|   1|        54.0|       1|(18,[0,3,7,8,9,12...|[-28.719196452780...|[3.36830535591808...|       1.0|\n",
      "|   ostrich|   2|        55.0|       0|(18,[1,2,8,9,12,1...|[16.6690909500203...|[0.99999994236241...|       0.0|\n",
      "|   penguin|   2|        57.0|       0|[0.0,1.0,1.0,0.0,...|[15.2932014729582...|[0.99999977183612...|       0.0|\n",
      "|  pitviper|   3|        61.0|       0|(18,[2,6,7,8,9,10...|[24.0767589182174...|[0.99999999996503...|       0.0|\n",
      "|      puma|   1|        66.0|       1|[1.0,0.0,0.0,1.0,...|[-27.528326560465...|[1.10815287813309...|       1.0|\n",
      "|   raccoon|   1|        68.0|       1|[1.0,0.0,0.0,1.0,...|[-27.444151118433...|[1.20547056066850...|       1.0|\n",
      "|      seal|   1|        73.0|       1|[1.0,0.0,0.0,1.0,...|[-31.232628615780...|[2.72798348516009...|       1.0|\n",
      "+----------+----+------------+--------+--------------------+--------------------+--------------------+----------+\n",
      "only showing top 20 rows\n",
      "\n"
     ]
    }
   ],
   "source": [
    "predictions_result.predictions.show()"
   ]
  },
  {
   "cell_type": "code",
   "execution_count": 28,
   "metadata": {},
   "outputs": [
    {
     "data": {
      "text/plain": [
       "1.0"
      ]
     },
     "execution_count": 28,
     "metadata": {},
     "output_type": "execute_result"
    }
   ],
   "source": [
    "predictions_result.accuracy"
   ]
  },
  {
   "cell_type": "code",
   "execution_count": 34,
   "metadata": {},
   "outputs": [
    {
     "data": {
      "text/plain": [
       "1.0"
      ]
     },
     "execution_count": 34,
     "metadata": {},
     "output_type": "execute_result"
    }
   ],
   "source": [
    "lrModel.predict(test_data.head()[\"features\"])"
   ]
  }
 ],
 "metadata": {
  "kernelspec": {
   "display_name": "Python 3",
   "language": "python",
   "name": "python3"
  },
  "language_info": {
   "codemirror_mode": {
    "name": "ipython",
    "version": 3
   },
   "file_extension": ".py",
   "mimetype": "text/x-python",
   "name": "python",
   "nbconvert_exporter": "python",
   "pygments_lexer": "ipython3",
   "version": "3.7.4"
  }
 },
 "nbformat": 4,
 "nbformat_minor": 2
}
