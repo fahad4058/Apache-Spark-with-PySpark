{
 "cells": [
  {
   "cell_type": "code",
   "execution_count": 1,
   "metadata": {},
   "outputs": [],
   "source": [
    "import os\n",
    "import sys\n",
    "\n",
    "os.environ['PYSPARK_PYTHON'] = sys.executable\n",
    "os.environ['PYSPARK_DRIVER_PYTHON'] = sys.executable\n",
    "\n",
    "import findspark\n",
    "findspark.init()\n",
    "findspark.find()\n",
    "import pyspark\n",
    "\n",
    "from pyspark.sql import SparkSession\n",
    "from pyspark import SparkContext, SparkConf\n",
    "from pyspark.sql import SQLContext\n",
    "\n",
    "conf = pyspark.SparkConf().setAppName('appName').setMaster('local')\n",
    "sc = pyspark.SparkContext(conf=conf)\n",
    "spark = SparkSession(sc)\n",
    "sqlcontext=SQLContext(sc)"
   ]
  },
  {
   "cell_type": "code",
   "execution_count": 75,
   "metadata": {},
   "outputs": [
    {
     "name": "stdout",
     "output_type": "stream",
     "text": [
      "+--------+-----------+--------+-----+-----+\n",
      "| Outlook|Temperature|Humidity|Windy|Class|\n",
      "+--------+-----------+--------+-----+-----+\n",
      "|   sunny|        hot|    high|false|    n|\n",
      "|   sunny|        hot|    high| true|    n|\n",
      "|Overcast|        hot|    high|false|    p|\n",
      "|    rain|       mild|    high|false|    p|\n",
      "|    rain|       cool|  normal|false|    p|\n",
      "|    rain|       cool|  normal| true|    n|\n",
      "|Overcast|       cool|  normal| true|    p|\n",
      "|   sunny|       mild|    high|false|    n|\n",
      "|   sunny|       cool|  normal|false|    p|\n",
      "|    rain|       mild|  normal|false|    p|\n",
      "|   sunny|       mild|  normal| true|    p|\n",
      "|Overcast|       mild|    high| true|    p|\n",
      "|Overcast|        hot|  normal|false|    p|\n",
      "|    rain|       mild|    high| true|    n|\n",
      "|    rain|        hot|    high|false|    n|\n",
      "+--------+-----------+--------+-----+-----+\n",
      "\n"
     ]
    }
   ],
   "source": [
    "playtennisDf=spark.read.csv(\"playtennis1.csv\",header=True,inferSchema=True)\n",
    "playtennisDf.show()"
   ]
  },
  {
   "cell_type": "code",
   "execution_count": 76,
   "metadata": {},
   "outputs": [],
   "source": [
    "playtennisDf=playtennisDf.select(playtennisDf[\"Windy\"].cast(\"Integer\"),'Outlook', 'Temperature', 'Humidity','Class')"
   ]
  },
  {
   "cell_type": "code",
   "execution_count": 77,
   "metadata": {},
   "outputs": [
    {
     "name": "stdout",
     "output_type": "stream",
     "text": [
      "+-----+--------+-----------+--------+-----+\n",
      "|Windy| Outlook|Temperature|Humidity|Class|\n",
      "+-----+--------+-----------+--------+-----+\n",
      "|    0|   sunny|        hot|    high|    n|\n",
      "|    1|   sunny|        hot|    high|    n|\n",
      "|    0|Overcast|        hot|    high|    p|\n",
      "|    0|    rain|       mild|    high|    p|\n",
      "|    0|    rain|       cool|  normal|    p|\n",
      "|    1|    rain|       cool|  normal|    n|\n",
      "|    1|Overcast|       cool|  normal|    p|\n",
      "|    0|   sunny|       mild|    high|    n|\n",
      "|    0|   sunny|       cool|  normal|    p|\n",
      "|    0|    rain|       mild|  normal|    p|\n",
      "|    1|   sunny|       mild|  normal|    p|\n",
      "|    1|Overcast|       mild|    high|    p|\n",
      "|    0|Overcast|        hot|  normal|    p|\n",
      "|    1|    rain|       mild|    high|    n|\n",
      "|    0|    rain|        hot|    high|    n|\n",
      "+-----+--------+-----------+--------+-----+\n",
      "\n"
     ]
    }
   ],
   "source": [
    "playtennisDf.show()"
   ]
  },
  {
   "cell_type": "code",
   "execution_count": 93,
   "metadata": {},
   "outputs": [],
   "source": [
    "train,test=playtennisDf.randomSplit([0.75,0.25],123)"
   ]
  },
  {
   "cell_type": "code",
   "execution_count": 94,
   "metadata": {},
   "outputs": [],
   "source": [
    "from pyspark.ml.feature import RFormula"
   ]
  },
  {
   "cell_type": "code",
   "execution_count": 95,
   "metadata": {},
   "outputs": [],
   "source": [
    "rf=RFormula(formula=\"Class ~ Windy + Outlook + Temperature + Humidity\",labelCol=\"label\")\n"
   ]
  },
  {
   "cell_type": "code",
   "execution_count": 96,
   "metadata": {},
   "outputs": [],
   "source": [
    "from pyspark.ml.classification import NaiveBayes"
   ]
  },
  {
   "cell_type": "code",
   "execution_count": 97,
   "metadata": {},
   "outputs": [],
   "source": [
    "nb=NaiveBayes(featuresCol=\"features\",labelCol=\"label\")\n"
   ]
  },
  {
   "cell_type": "code",
   "execution_count": 98,
   "metadata": {},
   "outputs": [],
   "source": [
    "stages=[rf,nb]"
   ]
  },
  {
   "cell_type": "code",
   "execution_count": 99,
   "metadata": {},
   "outputs": [],
   "source": [
    "from pyspark.ml import Pipeline\n",
    "from pyspark.ml.evaluation import MulticlassClassificationEvaluator\n"
   ]
  },
  {
   "cell_type": "code",
   "execution_count": 100,
   "metadata": {},
   "outputs": [],
   "source": [
    "pipeline=Pipeline().setStages(stages)"
   ]
  },
  {
   "cell_type": "code",
   "execution_count": 102,
   "metadata": {},
   "outputs": [],
   "source": [
    "model=pipeline.fit(train)\n"
   ]
  },
  {
   "cell_type": "code",
   "execution_count": 103,
   "metadata": {},
   "outputs": [],
   "source": [
    "pred_res=model.transform(test)"
   ]
  },
  {
   "cell_type": "code",
   "execution_count": 107,
   "metadata": {},
   "outputs": [
    {
     "name": "stdout",
     "output_type": "stream",
     "text": [
      "+-----+--------+-----------+--------+-----+--------------------+-----+--------------------+--------------------+----------+\n",
      "|Windy| Outlook|Temperature|Humidity|Class|            features|label|       rawPrediction|         probability|prediction|\n",
      "+-----+--------+-----------+--------+-----+--------------------+-----+--------------------+--------------------+----------+\n",
      "|    0|    rain|       cool|  normal|    p|       (6,[1],[1.0])|  0.0|[-2.5314266654228...|[0.48837209302325...|       1.0|\n",
      "|    0|   sunny|       cool|  normal|    p|           (6,[],[])|  0.0|[-0.5389965007326...|[0.58333333333333...|       0.0|\n",
      "|    1|Overcast|       cool|  normal|    p| (6,[0,2],[1.0,1.0])|  0.0|[-4.2361747576613...|[0.79612468407750...|       0.0|\n",
      "|    1|    rain|       mild|    high|    n|[1.0,1.0,0.0,1.0,...|  1.0|[-7.7102094632757...|[0.53152290154383...|       0.0|\n",
      "|    1|   sunny|        hot|    high|    n|[1.0,0.0,0.0,0.0,...|  1.0|[-6.2286049223515...|[0.39962222660765...|       1.0|\n",
      "+-----+--------+-----------+--------+-----+--------------------+-----+--------------------+--------------------+----------+\n",
      "\n"
     ]
    }
   ],
   "source": [
    "pred_res.show()"
   ]
  },
  {
   "cell_type": "code",
   "execution_count": 105,
   "metadata": {},
   "outputs": [],
   "source": [
    "evaluator=MulticlassClassificationEvaluator(labelCol=\"prediction\")"
   ]
  },
  {
   "cell_type": "code",
   "execution_count": 106,
   "metadata": {},
   "outputs": [
    {
     "data": {
      "text/plain": [
       "0.6000000000000001"
      ]
     },
     "execution_count": 106,
     "metadata": {},
     "output_type": "execute_result"
    }
   ],
   "source": [
    "evaluator.setLabelCol(\"label\").evaluate(pred_res) #accuracy"
   ]
  },
  {
   "cell_type": "code",
   "execution_count": null,
   "metadata": {},
   "outputs": [],
   "source": []
  },
  {
   "cell_type": "code",
   "execution_count": null,
   "metadata": {},
   "outputs": [],
   "source": []
  },
  {
   "cell_type": "code",
   "execution_count": null,
   "metadata": {},
   "outputs": [],
   "source": []
  }
 ],
 "metadata": {
  "kernelspec": {
   "display_name": "Python 3",
   "language": "python",
   "name": "python3"
  },
  "language_info": {
   "codemirror_mode": {
    "name": "ipython",
    "version": 3
   },
   "file_extension": ".py",
   "mimetype": "text/x-python",
   "name": "python",
   "nbconvert_exporter": "python",
   "pygments_lexer": "ipython3",
   "version": "3.7.4"
  }
 },
 "nbformat": 4,
 "nbformat_minor": 2
}
