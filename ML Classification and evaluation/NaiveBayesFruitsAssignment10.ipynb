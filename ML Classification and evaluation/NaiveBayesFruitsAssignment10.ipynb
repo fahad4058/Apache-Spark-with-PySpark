{
 "cells": [
  {
   "cell_type": "code",
   "execution_count": 1,
   "metadata": {},
   "outputs": [],
   "source": [
    "import os\n",
    "import sys\n",
    "\n",
    "os.environ['PYSPARK_PYTHON'] = sys.executable\n",
    "os.environ['PYSPARK_DRIVER_PYTHON'] = sys.executable\n",
    "\n",
    "import findspark\n",
    "findspark.init()\n",
    "findspark.find()\n",
    "import pyspark\n",
    "\n",
    "from pyspark.sql import SparkSession\n",
    "from pyspark import SparkContext, SparkConf\n",
    "from pyspark.sql import SQLContext\n",
    "\n",
    "conf = pyspark.SparkConf().setAppName('appName').setMaster('local')\n",
    "sc = pyspark.SparkContext(conf=conf)\n",
    "spark = SparkSession(sc)\n",
    "sqlcontext=SQLContext(sc)"
   ]
  },
  {
   "cell_type": "code",
   "execution_count": 363,
   "metadata": {},
   "outputs": [],
   "source": [
    "fruitDF=spark.read.csv(\"fruits.csv\",header=True,inferSchema=True)"
   ]
  },
  {
   "cell_type": "code",
   "execution_count": 364,
   "metadata": {},
   "outputs": [
    {
     "name": "stdout",
     "output_type": "stream",
     "text": [
      "+---------+------+------+\n",
      "|PulpColor| Taste|Edible|\n",
      "+---------+------+------+\n",
      "|      red|  sour|   yes|\n",
      "|      red|  sour|    no|\n",
      "|      red|bitter|    no|\n",
      "|   yellow| sweet|   yes|\n",
      "|   yellow|bitter|    no|\n",
      "|    green|  sour|   yes|\n",
      "|    green| sweet|   yes|\n",
      "|    green|bitter|    no|\n",
      "+---------+------+------+\n",
      "\n"
     ]
    },
    {
     "data": {
      "text/plain": [
       "['PulpColor', 'Taste', 'Edible']"
      ]
     },
     "execution_count": 364,
     "metadata": {},
     "output_type": "execute_result"
    }
   ],
   "source": [
    "fruitDF.show()\n",
    "fruitDF.columns"
   ]
  },
  {
   "cell_type": "code",
   "execution_count": 365,
   "metadata": {},
   "outputs": [],
   "source": [
    "from pyspark.ml.feature import RFormula"
   ]
  },
  {
   "cell_type": "code",
   "execution_count": 366,
   "metadata": {},
   "outputs": [],
   "source": [
    "rf=RFormula(formula=\"Edible ~ PulpColor + Taste\" )"
   ]
  },
  {
   "cell_type": "code",
   "execution_count": null,
   "metadata": {},
   "outputs": [],
   "source": []
  },
  {
   "cell_type": "code",
   "execution_count": 367,
   "metadata": {},
   "outputs": [
    {
     "name": "stdout",
     "output_type": "stream",
     "text": [
      "+---------+------+------+-----------------+-----+\n",
      "|PulpColor| Taste|Edible|         features|label|\n",
      "+---------+------+------+-----------------+-----+\n",
      "|      red|  sour|   yes|[0.0,1.0,0.0,1.0]|  1.0|\n",
      "|      red|  sour|    no|[0.0,1.0,0.0,1.0]|  0.0|\n",
      "|      red|bitter|    no|[0.0,1.0,1.0,0.0]|  0.0|\n",
      "|   yellow| sweet|   yes|        (4,[],[])|  1.0|\n",
      "|   yellow|bitter|    no|    (4,[2],[1.0])|  0.0|\n",
      "|    green|  sour|   yes|[1.0,0.0,0.0,1.0]|  1.0|\n",
      "|    green| sweet|   yes|    (4,[0],[1.0])|  1.0|\n",
      "|    green|bitter|    no|[1.0,0.0,1.0,0.0]|  0.0|\n",
      "+---------+------+------+-----------------+-----+\n",
      "\n"
     ]
    },
    {
     "data": {
      "text/plain": [
       "[Row(PulpColor='red', Taste='sour', Edible='yes', features=DenseVector([0.0, 1.0, 0.0, 1.0]), label=1.0),\n",
       " Row(PulpColor='red', Taste='sour', Edible='no', features=DenseVector([0.0, 1.0, 0.0, 1.0]), label=0.0),\n",
       " Row(PulpColor='red', Taste='bitter', Edible='no', features=DenseVector([0.0, 1.0, 1.0, 0.0]), label=0.0),\n",
       " Row(PulpColor='yellow', Taste='sweet', Edible='yes', features=SparseVector(4, {}), label=1.0),\n",
       " Row(PulpColor='yellow', Taste='bitter', Edible='no', features=SparseVector(4, {2: 1.0}), label=0.0),\n",
       " Row(PulpColor='green', Taste='sour', Edible='yes', features=DenseVector([1.0, 0.0, 0.0, 1.0]), label=1.0),\n",
       " Row(PulpColor='green', Taste='sweet', Edible='yes', features=SparseVector(4, {0: 1.0}), label=1.0),\n",
       " Row(PulpColor='green', Taste='bitter', Edible='no', features=DenseVector([1.0, 0.0, 1.0, 0.0]), label=0.0)]"
      ]
     },
     "execution_count": 367,
     "metadata": {},
     "output_type": "execute_result"
    }
   ],
   "source": [
    "finalizedDF=rf.fit(fruitDF).transform(fruitDF)\n",
    "finalizedDF.show()\n",
    "finalizedDF.collect()\n"
   ]
  },
  {
   "cell_type": "code",
   "execution_count": 368,
   "metadata": {},
   "outputs": [],
   "source": [
    "#test_df=spark.createDataFrame(finalizedDF.tail(1))\n",
    "#test_df.show()"
   ]
  },
  {
   "cell_type": "code",
   "execution_count": 369,
   "metadata": {},
   "outputs": [],
   "source": [
    "#train,test=finalizedDF.randomSplit([0.7,0.3],1234)"
   ]
  },
  {
   "cell_type": "code",
   "execution_count": 2,
   "metadata": {},
   "outputs": [],
   "source": [
    "from pyspark.ml.classification import NaiveBayes, LogisticRegression\n",
    "from pyspark.ml.linalg import *"
   ]
  },
  {
   "cell_type": "code",
   "execution_count": 371,
   "metadata": {},
   "outputs": [],
   "source": [
    "nb=NaiveBayes(featuresCol=\"features\",labelCol=\"label\")"
   ]
  },
  {
   "cell_type": "code",
   "execution_count": 372,
   "metadata": {},
   "outputs": [],
   "source": [
    "model=nb.fit(finalizedDF)"
   ]
  },
  {
   "cell_type": "code",
   "execution_count": 373,
   "metadata": {},
   "outputs": [
    {
     "data": {
      "text/plain": [
       "1.0"
      ]
     },
     "execution_count": 373,
     "metadata": {},
     "output_type": "execute_result"
    }
   ],
   "source": [
    "model.predict(DenseVector([0.0, 0.0, 0.0, 1.0]))"
   ]
  },
  {
   "cell_type": "code",
   "execution_count": 374,
   "metadata": {},
   "outputs": [
    {
     "data": {
      "text/plain": [
       "DenseVector([0.3529, 0.6471])"
      ]
     },
     "execution_count": 374,
     "metadata": {},
     "output_type": "execute_result"
    }
   ],
   "source": [
    "model.predictProbability(DenseVector([0.0, 0.0, 0.0, 1.0]))"
   ]
  },
  {
   "cell_type": "code",
   "execution_count": null,
   "metadata": {},
   "outputs": [],
   "source": [
    "# fruit is edible"
   ]
  },
  {
   "cell_type": "code",
   "execution_count": 3,
   "metadata": {},
   "outputs": [],
   "source": [
    "sv=SparseVector(4,[0],[1.0])"
   ]
  },
  {
   "cell_type": "code",
   "execution_count": 4,
   "metadata": {},
   "outputs": [
    {
     "data": {
      "text/plain": [
       "array([1., 0., 0., 0.])"
      ]
     },
     "execution_count": 4,
     "metadata": {},
     "output_type": "execute_result"
    }
   ],
   "source": [
    "sv.toArray()"
   ]
  },
  {
   "cell_type": "code",
   "execution_count": null,
   "metadata": {},
   "outputs": [],
   "source": []
  }
 ],
 "metadata": {
  "kernelspec": {
   "display_name": "Python 3",
   "language": "python",
   "name": "python3"
  },
  "language_info": {
   "codemirror_mode": {
    "name": "ipython",
    "version": 3
   },
   "file_extension": ".py",
   "mimetype": "text/x-python",
   "name": "python",
   "nbconvert_exporter": "python",
   "pygments_lexer": "ipython3",
   "version": "3.7.4"
  }
 },
 "nbformat": 4,
 "nbformat_minor": 2
}
